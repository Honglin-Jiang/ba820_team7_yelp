{
 "cells": [
  {
   "cell_type": "markdown",
   "id": "3d6d466b",
   "metadata": {},
   "source": [
    "**<h1 align=\"center\">NLP Sentiment Analysis of Yelp</h1>**\n",
    "## <center>Group 7: *Han Nga Chan, Honglin Jiang, Kunjingyi Chen, Yu-Fang Liao, Yumeng Tang*</center>"
   ]
  },
  {
   "cell_type": "markdown",
   "id": "c71e3e4f",
   "metadata": {},
   "source": [
    "**GitHub Link**: https://github.com/users/Honglin-Jiang/projects/2"
   ]
  },
  {
   "cell_type": "markdown",
   "id": "2654f3bd",
   "metadata": {
    "id": "2654f3bd"
   },
   "source": [
    "# **Analysis Plan**\n",
    "Our project aims to leverage unstructured data containing merchants’ information and customer feedback available in Yelp reviews to achieve several key objectives listed below, benefiting both merchants and users.\n",
    "\n",
    "For merchants, we are trying to identify areas for service improvement and customer satisfaction involving utilizing sentiment analysis to understand customer sentiment and pinpointing areas where businesses can enhance their offerings and services. Through the analysis of review data, we can uncover customer preferences and expectations, allowing businesses to adjust their strategies accordingly and ultimately improve profitability. Additionally, conducting comparative analysis can help businesses in understanding their position within the market relative to competitors.\n",
    "\n",
    "From users’ perspective, enhancing user experience with personalized recommendations and advertisements is achieved through user segmentation based on activity and preferences, coupled with association rule mining. This approach enables the delivery of personalized recommendations and targeted advertisements if possible, ultimately improving user experience. Furthermore, improving user engagement involves segmenting users and applying association rule mining to map users with relevant businesses based on their past review behavior, fostering deeper engagement on the platform.\n"
   ]
  },
  {
   "cell_type": "markdown",
   "id": "81059b0d",
   "metadata": {
    "id": "81059b0d"
   },
   "source": [
    "# **Yelp Dataset**\n",
    "\n",
    "Dataset Link:\n",
    "https://www.yelp.com/dataset"
   ]
  },
  {
   "cell_type": "markdown",
   "id": "fa3f3a96",
   "metadata": {
    "id": "fa3f3a96"
   },
   "source": [
    "### **business.json**\n",
    "\n",
    "Contains business data including location data, attributes, and categories."
   ]
  },
  {
   "cell_type": "markdown",
   "id": "152831b5",
   "metadata": {
    "id": "152831b5"
   },
   "source": [
    "| Column         | Description                                                |\n",
    "|----------------|------------------------------------------------------------|\n",
    "| business_id    | 22-character unique string business ID                      |\n",
    "| name           | The business's name                                        |\n",
    "| address        | The full address of the business                            |\n",
    "| city           | The city where the business is located                      |\n",
    "| state          | The 2-character state code, if applicable                   |\n",
    "| postal_code    | The postal code of the business                              |\n",
    "| latitude       | The latitude coordinate of the business                     |\n",
    "| longitude      | The longitude coordinate of the business                    |\n",
    "| stars          | Star rating of the business, rounded to half-stars          |\n",
    "| review_count   | Number of reviews for the business                          |\n",
    "| is_open        | 0 or 1 for closed or open, respectively                    |\n",
    "| attributes     | Business attributes with values (some attribute values might be objects) |\n",
    "| categories     | An array of strings representing business categories       |\n",
    "| hours          | Operating hours for each day of the week                    |"
   ]
  },
  {
   "cell_type": "markdown",
   "id": "4d09569e",
   "metadata": {
    "id": "4d09569e"
   },
   "source": [
    "### **review.json**\n",
    "\n",
    "Contains full review text data including the user_id that wrote the review and the business_id the review is written for."
   ]
  },
  {
   "cell_type": "markdown",
   "id": "7af73390",
   "metadata": {
    "id": "7af73390"
   },
   "source": [
    "| Column       | Description                                                |\n",
    "|--------------|------------------------------------------------------------|\n",
    "| review_id    | 22-character unique identifier for the review              |\n",
    "| user_id      | 22-character unique identifier for the user                |\n",
    "| business_id  | 22-character unique identifier for the business            |\n",
    "| stars        | Star rating given in the review (integer)                  |\n",
    "| date         | Date when the review was posted (formatted as YYYY-MM-DD) |\n",
    "| text         | The content of the review                                  |\n",
    "| useful       | Number of useful votes received for the review (integer)   |\n",
    "| funny        | Number of funny votes received for the review (integer)    |\n",
    "| cool         | Number of cool votes received for the review (integer)     |\n"
   ]
  },
  {
   "cell_type": "markdown",
   "id": "8efad54b",
   "metadata": {
    "id": "8efad54b"
   },
   "source": [
    "### **user.json**\n",
    "\n",
    "User data including the user's friend mapping and all the metadata associated with the user."
   ]
  },
  {
   "cell_type": "markdown",
   "id": "b65f7937",
   "metadata": {
    "id": "b65f7937"
   },
   "source": [
    "|| Column           | Description |  | |\n",
    "|:----------------| :---------------- | :--------| :----: | :--------|\n",
    "||user_id |22 character unique user id, maps to the user in user.json\n",
    "||name| the user's first name\n",
    "||review_count| the number of reviews they've written\n",
    "||yelping_since| when the user joined Yelp, formatted like YYYY-MM-DD\n",
    "||useful| number of useful votes sent by the user\n",
    "||funny| number of funny votes sent by the user\n",
    "||cool| number of cool votes received\n",
    "||elite| the years the user was elite\n",
    "||friends| an array of the user's friend as user_ids\n",
    "||fans |number of fans the user has\n",
    "||average_stars| average rating of all reviews\n",
    "||compliment_hot| number of hot compliments received by the user\n",
    "||compliment_more| number of more compliments received by the user\n",
    "||compliment_profile| number of profile compliments received by the user\n",
    "||compliment_cute| number of cute compliments received by the user\n",
    "||compliment_list| number of list compliments received by the user\n",
    "||compliment_note| number of note compliments received by the user\n",
    "||compliment_plain| number of plain compliments received by the user\n",
    "||compliment_cool| number of cool compliments received by the user\n",
    "||compliment_funny| number of funny compliments received by the user\n",
    "||compliment_writer| number of writer compliments received by the user\n",
    "||compliment_photos| number of photos compliments received by the user"
   ]
  },
  {
   "cell_type": "markdown",
   "id": "6a79024e",
   "metadata": {
    "id": "6a79024e"
   },
   "source": [
    "### **checkin.json**\n",
    "\n",
    "Checkins on a business."
   ]
  },
  {
   "cell_type": "markdown",
   "id": "964c8acb",
   "metadata": {
    "id": "964c8acb"
   },
   "source": [
    "|| Column      | Description |  | |\n",
    "|:----------------| :---------------- | :--------| :----: | :--------|\n",
    "||business_id|22 character business id, maps to business in business.json\n",
    "||date| a comma-separated list of timestamps for each checkin, each with format YYYY-MM-DD HH:MM:SS\n"
   ]
  },
  {
   "cell_type": "markdown",
   "id": "0afa854b",
   "metadata": {
    "id": "0afa854b"
   },
   "source": [
    "### **tip.json**\n",
    "Tips written by a user on a business. Tips are shorter than reviews and tend to convey quick suggestions.\n"
   ]
  },
  {
   "cell_type": "markdown",
   "id": "442cf5d4",
   "metadata": {
    "id": "442cf5d4"
   },
   "source": [
    "|| Column           | Description |  | |\n",
    "|:----------------| :---------------- | :--------| :----: | :--------|\n",
    "||user_id| 22 character unique user id\n",
    "||business_id|22 character unique string business id\n",
    "||text| text of the tip\n",
    "||date| when the tip was written, formatted like YYYY-MM-DD\n",
    "||compliment_count| how many compliments it has\n",
    "\n"
   ]
  },
  {
   "cell_type": "markdown",
   "id": "23b75d0e",
   "metadata": {
    "id": "23b75d0e"
   },
   "source": [
    "# Data Preprocessing"
   ]
  },
  {
   "cell_type": "code",
   "execution_count": 1,
   "id": "b60e9153",
   "metadata": {
    "id": "b60e9153"
   },
   "outputs": [],
   "source": [
    "#Import library\n",
    "import pandas as pd\n",
    "import json\n",
    "import numpy as np\n",
    "import seaborn as sns\n",
    "import matplotlib.pyplot as plt"
   ]
  },
  {
   "cell_type": "code",
   "execution_count": 2,
   "id": "6a6626ca",
   "metadata": {
    "id": "6a6626ca",
    "outputId": "5cd04e9a-1f43-4fcb-fef3-1c4ef20ce79f"
   },
   "outputs": [
    {
     "name": "stdout",
     "output_type": "stream",
     "text": [
      "Defaulting to user installation because normal site-packages is not writeable\n",
      "Requirement already satisfied: pip in ./.local/lib/python3.10/site-packages (24.0)\n"
     ]
    }
   ],
   "source": [
    "#Install upgrade\n",
    "!pip install --upgrade pip"
   ]
  },
  {
   "cell_type": "code",
   "execution_count": 3,
   "id": "b53224d5",
   "metadata": {
    "id": "b53224d5",
    "outputId": "560c41ae-9df0-452c-d029-69d03d76eba2"
   },
   "outputs": [
    {
     "name": "stdout",
     "output_type": "stream",
     "text": [
      "Defaulting to user installation because normal site-packages is not writeable\n",
      "Requirement already satisfied: setuptools in ./.local/lib/python3.10/site-packages (69.1.1)\n"
     ]
    }
   ],
   "source": [
    "#Install upgrade\n",
    "!pip install --upgrade setuptools"
   ]
  },
  {
   "cell_type": "code",
   "execution_count": 4,
   "id": "617ee747",
   "metadata": {
    "id": "617ee747",
    "outputId": "f2b34f06-51a2-4c25-8293-3fb383168dc3"
   },
   "outputs": [
    {
     "name": "stdout",
     "output_type": "stream",
     "text": [
      "Defaulting to user installation because normal site-packages is not writeable\n",
      "Requirement already satisfied: mlxtend in ./.local/lib/python3.10/site-packages (0.23.1)\n",
      "Requirement already satisfied: scipy>=1.2.1 in /share/pkg.8/python3/3.10.12/install/lib/python3.10/site-packages (from mlxtend) (1.11.1)\n",
      "Requirement already satisfied: numpy>=1.16.2 in /share/pkg.8/python3/3.10.12/install/lib/python3.10/site-packages (from mlxtend) (1.24.4)\n",
      "Requirement already satisfied: pandas>=0.24.2 in /share/pkg.8/python3/3.10.12/install/lib/python3.10/site-packages (from mlxtend) (2.0.3)\n",
      "Requirement already satisfied: scikit-learn>=1.0.2 in /share/pkg.8/python3/3.10.12/install/lib/python3.10/site-packages (from mlxtend) (1.3.0)\n",
      "Requirement already satisfied: matplotlib>=3.0.0 in /share/pkg.8/python3/3.10.12/install/lib/python3.10/site-packages (from mlxtend) (3.7.2)\n",
      "Requirement already satisfied: joblib>=0.13.2 in /share/pkg.8/python3/3.10.12/install/lib/python3.10/site-packages (from mlxtend) (1.3.1)\n",
      "Requirement already satisfied: contourpy>=1.0.1 in /share/pkg.8/python3/3.10.12/install/lib/python3.10/site-packages (from matplotlib>=3.0.0->mlxtend) (1.1.0)\n",
      "Requirement already satisfied: cycler>=0.10 in /share/pkg.8/python3/3.10.12/install/lib/python3.10/site-packages (from matplotlib>=3.0.0->mlxtend) (0.11.0)\n",
      "Requirement already satisfied: fonttools>=4.22.0 in /share/pkg.8/python3/3.10.12/install/lib/python3.10/site-packages (from matplotlib>=3.0.0->mlxtend) (4.41.0)\n",
      "Requirement already satisfied: kiwisolver>=1.0.1 in /share/pkg.8/python3/3.10.12/install/lib/python3.10/site-packages (from matplotlib>=3.0.0->mlxtend) (1.4.4)\n",
      "Requirement already satisfied: packaging>=20.0 in /share/pkg.8/python3/3.10.12/install/lib/python3.10/site-packages (from matplotlib>=3.0.0->mlxtend) (23.1)\n",
      "Requirement already satisfied: pillow>=6.2.0 in /share/pkg.8/python3/3.10.12/install/lib/python3.10/site-packages (from matplotlib>=3.0.0->mlxtend) (10.0.0)\n",
      "Requirement already satisfied: pyparsing<3.1,>=2.3.1 in /share/pkg.8/python3/3.10.12/install/lib/python3.10/site-packages (from matplotlib>=3.0.0->mlxtend) (3.0.9)\n",
      "Requirement already satisfied: python-dateutil>=2.7 in /share/pkg.8/python3/3.10.12/install/lib/python3.10/site-packages (from matplotlib>=3.0.0->mlxtend) (2.8.2)\n",
      "Requirement already satisfied: pytz>=2020.1 in /share/pkg.8/python3/3.10.12/install/lib/python3.10/site-packages (from pandas>=0.24.2->mlxtend) (2023.3)\n",
      "Requirement already satisfied: tzdata>=2022.1 in /share/pkg.8/python3/3.10.12/install/lib/python3.10/site-packages (from pandas>=0.24.2->mlxtend) (2023.3)\n",
      "Requirement already satisfied: threadpoolctl>=2.0.0 in /share/pkg.8/python3/3.10.12/install/lib/python3.10/site-packages (from scikit-learn>=1.0.2->mlxtend) (3.2.0)\n",
      "Requirement already satisfied: six>=1.5 in /share/pkg.8/python3/3.10.12/install/lib/python3.10/site-packages (from python-dateutil>=2.7->matplotlib>=3.0.0->mlxtend) (1.16.0)\n"
     ]
    }
   ],
   "source": [
    "#Install upgrade\n",
    "!pip install mlxtend"
   ]
  },
  {
   "cell_type": "markdown",
   "id": "f76cfa44",
   "metadata": {
    "id": "f76cfa44"
   },
   "source": [
    "## **1. Check-In.json**"
   ]
  },
  {
   "cell_type": "code",
   "execution_count": null,
   "id": "e9473071",
   "metadata": {
    "id": "e9473071",
    "outputId": "67dd00f7-1bce-4d1b-dc32-e3ea2d5105dc"
   },
   "outputs": [],
   "source": [
    "#Load in data\n",
    "#checkin_json_file_path = '/content/drive/MyDrive/BA820 Unsupervised and Unstructured Machine Learning/Yelp Dataset/yelp_academic_dataset_checkin.json'\n",
    "checkin_json_file_path = 'yelp_academic_dataset_checkin.json'\n",
    "\n",
    "# List to store data from JSON file\n",
    "checkin_data_list = []\n",
    "\n",
    "# Open and read the JSON file line by line\n",
    "with open(checkin_json_file_path, 'r') as file:\n",
    "    for checkin_line in file:\n",
    "        try:\n",
    "            # Load each JSON object into a Python dictionary\n",
    "            checkin_data = json.loads(checkin_line)\n",
    "            checkin_data_list.append(checkin_data)\n",
    "        except json.JSONDecodeError as e:\n",
    "            print(f\"Error decoding JSON: {e}\")\n",
    "\n",
    "# Convert the list of dictionaries into a DataFrame\n",
    "checkin_df = pd.DataFrame(checkin_data_list)\n",
    "\n",
    "checkin_df"
   ]
  },
  {
   "cell_type": "code",
   "execution_count": null,
   "id": "61c4e4c4",
   "metadata": {
    "id": "61c4e4c4",
    "outputId": "df71b5a6-d8f4-414c-cdaf-dd42ecffff87"
   },
   "outputs": [],
   "source": [
    "#Check the sum of null value\n",
    "checkin_df.isna().sum()"
   ]
  },
  {
   "cell_type": "markdown",
   "id": "8eb51080",
   "metadata": {
    "id": "8eb51080"
   },
   "source": [
    "Below's dataframe is for each businessId, the number of check-ins for each hour of the day. Please note that \"0\" is midnight, \"12\" is noon, \"13\" is 1 PM, and so on up to \"23\" which is 11 PM."
   ]
  },
  {
   "cell_type": "code",
   "execution_count": null,
   "id": "01eef919",
   "metadata": {
    "id": "01eef919",
    "outputId": "76c3ee18-1ba0-4e1b-a7b8-907eb0fd81d6"
   },
   "outputs": [],
   "source": [
    "# create a list of date-time strings\n",
    "checkin_df['date_times_list'] = checkin_df['date'].str.split(', ')\n",
    "\n",
    "# have each date-time as a separate row\n",
    "checkin_df_exploded = checkin_df.explode('date_times_list')\n",
    "\n",
    "# Convert the 'date_times_list' to datetime objects\n",
    "checkin_df_exploded['date_times_list'] = pd.to_datetime(checkin_df_exploded['date_times_list'], errors='coerce')\n",
    "\n",
    "# create new columns 'hour' and 'day_of_week'\n",
    "checkin_df_exploded['hour'] = checkin_df_exploded['date_times_list'].dt.hour\n",
    "checkin_df_exploded['day_of_week'] = checkin_df_exploded['date_times_list'].dt.day_name()\n",
    "\n",
    "# get hours as columns with a count of check-ins per hour for each day of the week\n",
    "checkin_df_exploded['count'] = 1\n",
    "checkin_hourly_ext = checkin_df_exploded.pivot_table(index='business_id', columns=['day_of_week', 'hour'], values='count', aggfunc='sum', fill_value=0)\n",
    "\n",
    "checkin_hourly_ext.columns = [' '.join([str(col) for col in cols]) for cols in checkin_hourly_ext.columns.values]\n",
    "\n",
    "# add 'business_id' column again\n",
    "checkin_hourly_ext.reset_index(inplace=True)\n",
    "\n",
    "checkin_hourly_ext.head()"
   ]
  },
  {
   "cell_type": "markdown",
   "id": "640887e5",
   "metadata": {
    "id": "640887e5"
   },
   "source": [
    "Below's dataframe showed the aggregate number of check-ins for each hour."
   ]
  },
  {
   "cell_type": "code",
   "execution_count": null,
   "id": "e4b9562e",
   "metadata": {
    "id": "e4b9562e"
   },
   "outputs": [],
   "source": [
    "#Split the data_times_list column\n",
    "checkin_df['date_times_list'] = checkin_df['date'].str.split(', ')\n",
    "\n",
    "checkin_df = checkin_df.explode('date_times_list')\n",
    "\n",
    "checkin_df['date_times_list'] = pd.to_datetime(checkin_df['date_times_list'], errors='coerce')\n",
    "\n",
    "# create a new column 'hour'\n",
    "checkin_df['hour'] = checkin_df['date_times_list'].dt.hour\n",
    "\n",
    "# get hours as columns with a count of check-ins per hour\n",
    "checkin_df['count'] = 1\n",
    "checkin_hourly = checkin_df.pivot_table(index='business_id', columns='hour', values='count', aggfunc='sum', fill_value=0)\n",
    "\n",
    "if isinstance(checkin_hourly.columns, pd.MultiIndex):\n",
    "    checkin_hourly.columns = checkin_hourly.columns.droplevel(0)\n",
    "\n",
    "# add 'business_id' to become a column again\n",
    "checkin_hourly = checkin_hourly.reset_index()\n",
    "\n",
    "checkin_hourly.columns = ['business_id'] + [f'hour_{col}' if isinstance(col, int) else col for col in checkin_hourly.columns[1:]]"
   ]
  },
  {
   "cell_type": "code",
   "execution_count": null,
   "id": "77a5af8b",
   "metadata": {
    "id": "77a5af8b",
    "outputId": "a0e1fb8d-e4b3-4294-8515-c2e8d99f8106"
   },
   "outputs": [],
   "source": [
    "checkin_hourly.head()"
   ]
  },
  {
   "cell_type": "markdown",
   "id": "0671d554",
   "metadata": {
    "id": "0671d554"
   },
   "source": [
    "## **2. Tip.json**"
   ]
  },
  {
   "cell_type": "code",
   "execution_count": null,
   "id": "762f5f36",
   "metadata": {
    "id": "762f5f36",
    "outputId": "b7ae6274-2ce3-4e68-b9be-7417996ae26a"
   },
   "outputs": [],
   "source": [
    "#Load in dataset\n",
    "#tip_json_file_path = '/content/drive/MyDrive/BA820 Unsupervised and Unstructured Machine Learning/Yelp Dataset/yelp_academic_dataset_tip.json'\n",
    "tip_json_file_path = 'yelp_academic_dataset_tip.json'\n",
    "\n",
    "# List to store data from JSON file\n",
    "tip_data_list = []\n",
    "\n",
    "# Open and read the JSON file line by line\n",
    "with open(tip_json_file_path, 'r') as file:\n",
    "    for tip_line in file:\n",
    "        try:\n",
    "            # Load each JSON object into a Python dictionary\n",
    "            tip_data = json.loads(tip_line)\n",
    "            tip_data_list.append(tip_data)\n",
    "        except json.JSONDecodeError as e:\n",
    "            print(f\"Error decoding JSON: {e}\")\n",
    "\n",
    "# Convert the list of dictionaries into a DataFrame\n",
    "tip_df = pd.DataFrame(tip_data_list)\n",
    "\n",
    "tip_df"
   ]
  },
  {
   "cell_type": "code",
   "execution_count": null,
   "id": "3872484b",
   "metadata": {
    "id": "3872484b",
    "outputId": "bb38f3d9-f3f5-488e-d6b8-0465bf5a70a8"
   },
   "outputs": [],
   "source": [
    "#Check null value\n",
    "tip_df.isna().sum()"
   ]
  },
  {
   "cell_type": "markdown",
   "id": "b02bb31e",
   "metadata": {
    "id": "b02bb31e"
   },
   "source": [
    "## **3. User.json**"
   ]
  },
  {
   "cell_type": "code",
   "execution_count": null,
   "id": "86803772",
   "metadata": {
    "id": "86803772",
    "outputId": "7e2e0964-8722-4f23-b310-d0b019b3c355"
   },
   "outputs": [],
   "source": [
    "#Load in data\n",
    "#user_json_file_path = '/content/drive/MyDrive/BA820 Unsupervised and Unstructured Machine Learning/Yelp Dataset/yelp_academic_dataset_user.json'\n",
    "user_json_file_path = 'yelp_academic_dataset_user.json'\n",
    "\n",
    "# List to store data from JSON file\n",
    "user_data_list = []\n",
    "\n",
    "# Open and read the JSON file line by line\n",
    "with open(user_json_file_path, 'r') as file:\n",
    "    for user_line in file:\n",
    "        try:\n",
    "            # Load each JSON object into a Python dictionary\n",
    "            user_data = json.loads(user_line)\n",
    "            user_data_list.append(user_data)\n",
    "        except json.JSONDecodeError as e:\n",
    "            print(f\"Error decoding JSON: {e}\")\n",
    "\n",
    "# Convert the list of dictionaries into a DataFrame\n",
    "user_df = pd.DataFrame(user_data_list)\n",
    "\n",
    "user_df.head()"
   ]
  },
  {
   "cell_type": "code",
   "execution_count": null,
   "id": "404b74ae",
   "metadata": {
    "id": "404b74ae",
    "outputId": "b0242cde-128b-455b-f1f2-dd7bb379082f"
   },
   "outputs": [],
   "source": [
    "#Check null value\n",
    "user_df.isna().sum()"
   ]
  },
  {
   "cell_type": "markdown",
   "id": "3d406654",
   "metadata": {
    "id": "3d406654"
   },
   "source": [
    "## **4. Review.json**"
   ]
  },
  {
   "cell_type": "code",
   "execution_count": 5,
   "id": "ad07410e",
   "metadata": {
    "id": "ad07410e",
    "outputId": "2f6ef577-40de-447e-b8cc-a2eb03278792"
   },
   "outputs": [
    {
     "name": "stdout",
     "output_type": "stream",
     "text": [
      "Error decoding JSON: Unterminated string starting at: line 1 column 162 (char 161)\n"
     ]
    },
    {
     "data": {
      "text/html": [
       "<div>\n",
       "<style scoped>\n",
       "    .dataframe tbody tr th:only-of-type {\n",
       "        vertical-align: middle;\n",
       "    }\n",
       "\n",
       "    .dataframe tbody tr th {\n",
       "        vertical-align: top;\n",
       "    }\n",
       "\n",
       "    .dataframe thead th {\n",
       "        text-align: right;\n",
       "    }\n",
       "</style>\n",
       "<table border=\"1\" class=\"dataframe\">\n",
       "  <thead>\n",
       "    <tr style=\"text-align: right;\">\n",
       "      <th></th>\n",
       "      <th>review_id</th>\n",
       "      <th>user_id</th>\n",
       "      <th>business_id</th>\n",
       "      <th>stars</th>\n",
       "      <th>useful</th>\n",
       "      <th>funny</th>\n",
       "      <th>cool</th>\n",
       "      <th>text</th>\n",
       "      <th>date</th>\n",
       "    </tr>\n",
       "  </thead>\n",
       "  <tbody>\n",
       "    <tr>\n",
       "      <th>0</th>\n",
       "      <td>KU_O5udG6zpxOg-VcAEodg</td>\n",
       "      <td>mh_-eMZ6K5RLWhZyISBhwA</td>\n",
       "      <td>XQfwVwDr-v0ZS3_CbbE5Xw</td>\n",
       "      <td>3.0</td>\n",
       "      <td>0</td>\n",
       "      <td>0</td>\n",
       "      <td>0</td>\n",
       "      <td>If you decide to eat here, just be aware it is...</td>\n",
       "      <td>2018-07-07 22:09:11</td>\n",
       "    </tr>\n",
       "    <tr>\n",
       "      <th>1</th>\n",
       "      <td>BiTunyQ73aT9WBnpR9DZGw</td>\n",
       "      <td>OyoGAe7OKpv6SyGZT5g77Q</td>\n",
       "      <td>7ATYjTIgM3jUlt4UM3IypQ</td>\n",
       "      <td>5.0</td>\n",
       "      <td>1</td>\n",
       "      <td>0</td>\n",
       "      <td>1</td>\n",
       "      <td>I've taken a lot of spin classes over the year...</td>\n",
       "      <td>2012-01-03 15:28:18</td>\n",
       "    </tr>\n",
       "    <tr>\n",
       "      <th>2</th>\n",
       "      <td>saUsX_uimxRlCVr67Z4Jig</td>\n",
       "      <td>8g_iMtfSiwikVnbP2etR0A</td>\n",
       "      <td>YjUWPpI6HXG530lwP-fb2A</td>\n",
       "      <td>3.0</td>\n",
       "      <td>0</td>\n",
       "      <td>0</td>\n",
       "      <td>0</td>\n",
       "      <td>Family diner. Had the buffet. Eclectic assortm...</td>\n",
       "      <td>2014-02-05 20:30:30</td>\n",
       "    </tr>\n",
       "    <tr>\n",
       "      <th>3</th>\n",
       "      <td>AqPFMleE6RsU23_auESxiA</td>\n",
       "      <td>_7bHUi9Uuf5__HHc_Q8guQ</td>\n",
       "      <td>kxX2SOes4o-D3ZQBkiMRfA</td>\n",
       "      <td>5.0</td>\n",
       "      <td>1</td>\n",
       "      <td>0</td>\n",
       "      <td>1</td>\n",
       "      <td>Wow!  Yummy, different,  delicious.   Our favo...</td>\n",
       "      <td>2015-01-04 00:01:03</td>\n",
       "    </tr>\n",
       "    <tr>\n",
       "      <th>4</th>\n",
       "      <td>Sx8TMOWLNuJBWer-0pcmoA</td>\n",
       "      <td>bcjbaE6dDog4jkNY91ncLQ</td>\n",
       "      <td>e4Vwtrqf-wpJfwesgvdgxQ</td>\n",
       "      <td>4.0</td>\n",
       "      <td>1</td>\n",
       "      <td>0</td>\n",
       "      <td>1</td>\n",
       "      <td>Cute interior and owner (?) gave us tour of up...</td>\n",
       "      <td>2017-01-14 20:54:15</td>\n",
       "    </tr>\n",
       "    <tr>\n",
       "      <th>...</th>\n",
       "      <td>...</td>\n",
       "      <td>...</td>\n",
       "      <td>...</td>\n",
       "      <td>...</td>\n",
       "      <td>...</td>\n",
       "      <td>...</td>\n",
       "      <td>...</td>\n",
       "      <td>...</td>\n",
       "      <td>...</td>\n",
       "    </tr>\n",
       "    <tr>\n",
       "      <th>434884</th>\n",
       "      <td>fk9QEU0TkX0U2W2yoaAVpA</td>\n",
       "      <td>g0adi_Xyo60t0EftzpKlFw</td>\n",
       "      <td>pJfh3Ct8iL58NZa8ta-a5w</td>\n",
       "      <td>5.0</td>\n",
       "      <td>0</td>\n",
       "      <td>0</td>\n",
       "      <td>0</td>\n",
       "      <td>A little out of the way, but SO worth it. Deci...</td>\n",
       "      <td>2019-12-21 00:37:47</td>\n",
       "    </tr>\n",
       "    <tr>\n",
       "      <th>434885</th>\n",
       "      <td>znz9fqOymbFapkt5Jbyx4Q</td>\n",
       "      <td>j_CC5TpwhW5001cCbWCCMw</td>\n",
       "      <td>8QKDQTm76m6BjPO6MtCYIA</td>\n",
       "      <td>5.0</td>\n",
       "      <td>0</td>\n",
       "      <td>0</td>\n",
       "      <td>0</td>\n",
       "      <td>Great place for breakfast and lunch. Food and ...</td>\n",
       "      <td>2016-03-04 16:09:06</td>\n",
       "    </tr>\n",
       "    <tr>\n",
       "      <th>434886</th>\n",
       "      <td>4s7Rmtj51y7gi2RJ70s_Pw</td>\n",
       "      <td>4kmxJjJLAxDiTXoxHG-iIw</td>\n",
       "      <td>Zx7n8mdt8OzLRXVzolXNhQ</td>\n",
       "      <td>4.0</td>\n",
       "      <td>2</td>\n",
       "      <td>0</td>\n",
       "      <td>1</td>\n",
       "      <td>This review is for the desserts only! I stoppe...</td>\n",
       "      <td>2018-01-07 03:18:12</td>\n",
       "    </tr>\n",
       "    <tr>\n",
       "      <th>434887</th>\n",
       "      <td>oFEZRN0xxu8aXh0Ft7YwDw</td>\n",
       "      <td>PcsjeMju_N9ce6MmW9Nxzg</td>\n",
       "      <td>seKihQKpGGnCeLuELRQPSQ</td>\n",
       "      <td>4.0</td>\n",
       "      <td>1</td>\n",
       "      <td>0</td>\n",
       "      <td>1</td>\n",
       "      <td>When you first walk in, your greeted immediate...</td>\n",
       "      <td>2018-02-28 17:11:58</td>\n",
       "    </tr>\n",
       "    <tr>\n",
       "      <th>434888</th>\n",
       "      <td>AEIqaMiALARSQqbqxTyzXw</td>\n",
       "      <td>8yUHG8XfOTg4IBWrh6-Z8g</td>\n",
       "      <td>hRPH-pAQmxSiyyxTfljusA</td>\n",
       "      <td>5.0</td>\n",
       "      <td>1</td>\n",
       "      <td>0</td>\n",
       "      <td>1</td>\n",
       "      <td>Hey, it's a South City piano bar! The bartende...</td>\n",
       "      <td>2018-02-05 15:00:33</td>\n",
       "    </tr>\n",
       "  </tbody>\n",
       "</table>\n",
       "<p>434889 rows × 9 columns</p>\n",
       "</div>"
      ],
      "text/plain": [
       "                     review_id                 user_id  \\\n",
       "0       KU_O5udG6zpxOg-VcAEodg  mh_-eMZ6K5RLWhZyISBhwA   \n",
       "1       BiTunyQ73aT9WBnpR9DZGw  OyoGAe7OKpv6SyGZT5g77Q   \n",
       "2       saUsX_uimxRlCVr67Z4Jig  8g_iMtfSiwikVnbP2etR0A   \n",
       "3       AqPFMleE6RsU23_auESxiA  _7bHUi9Uuf5__HHc_Q8guQ   \n",
       "4       Sx8TMOWLNuJBWer-0pcmoA  bcjbaE6dDog4jkNY91ncLQ   \n",
       "...                        ...                     ...   \n",
       "434884  fk9QEU0TkX0U2W2yoaAVpA  g0adi_Xyo60t0EftzpKlFw   \n",
       "434885  znz9fqOymbFapkt5Jbyx4Q  j_CC5TpwhW5001cCbWCCMw   \n",
       "434886  4s7Rmtj51y7gi2RJ70s_Pw  4kmxJjJLAxDiTXoxHG-iIw   \n",
       "434887  oFEZRN0xxu8aXh0Ft7YwDw  PcsjeMju_N9ce6MmW9Nxzg   \n",
       "434888  AEIqaMiALARSQqbqxTyzXw  8yUHG8XfOTg4IBWrh6-Z8g   \n",
       "\n",
       "                   business_id  stars  useful  funny  cool  \\\n",
       "0       XQfwVwDr-v0ZS3_CbbE5Xw    3.0       0      0     0   \n",
       "1       7ATYjTIgM3jUlt4UM3IypQ    5.0       1      0     1   \n",
       "2       YjUWPpI6HXG530lwP-fb2A    3.0       0      0     0   \n",
       "3       kxX2SOes4o-D3ZQBkiMRfA    5.0       1      0     1   \n",
       "4       e4Vwtrqf-wpJfwesgvdgxQ    4.0       1      0     1   \n",
       "...                        ...    ...     ...    ...   ...   \n",
       "434884  pJfh3Ct8iL58NZa8ta-a5w    5.0       0      0     0   \n",
       "434885  8QKDQTm76m6BjPO6MtCYIA    5.0       0      0     0   \n",
       "434886  Zx7n8mdt8OzLRXVzolXNhQ    4.0       2      0     1   \n",
       "434887  seKihQKpGGnCeLuELRQPSQ    4.0       1      0     1   \n",
       "434888  hRPH-pAQmxSiyyxTfljusA    5.0       1      0     1   \n",
       "\n",
       "                                                     text                 date  \n",
       "0       If you decide to eat here, just be aware it is...  2018-07-07 22:09:11  \n",
       "1       I've taken a lot of spin classes over the year...  2012-01-03 15:28:18  \n",
       "2       Family diner. Had the buffet. Eclectic assortm...  2014-02-05 20:30:30  \n",
       "3       Wow!  Yummy, different,  delicious.   Our favo...  2015-01-04 00:01:03  \n",
       "4       Cute interior and owner (?) gave us tour of up...  2017-01-14 20:54:15  \n",
       "...                                                   ...                  ...  \n",
       "434884  A little out of the way, but SO worth it. Deci...  2019-12-21 00:37:47  \n",
       "434885  Great place for breakfast and lunch. Food and ...  2016-03-04 16:09:06  \n",
       "434886  This review is for the desserts only! I stoppe...  2018-01-07 03:18:12  \n",
       "434887  When you first walk in, your greeted immediate...  2018-02-28 17:11:58  \n",
       "434888  Hey, it's a South City piano bar! The bartende...  2018-02-05 15:00:33  \n",
       "\n",
       "[434889 rows x 9 columns]"
      ]
     },
     "execution_count": 5,
     "metadata": {},
     "output_type": "execute_result"
    }
   ],
   "source": [
    "#load in data\n",
    "#review_json_file_path = '/content/drive/MyDrive/BA820 Unsupervised and Unstructured Machine Learning/Yelp Dataset/'yelp_academic_dataset_review.json'\n",
    "review_json_file_path = 'yelp_academic_dataset_review.json'\n",
    "\n",
    "# List to store data from JSON file\n",
    "review_data_list = []\n",
    "\n",
    "# Open and read the JSON file line by line\n",
    "with open(review_json_file_path, 'r') as file:\n",
    "    for review_line in file:\n",
    "        try:\n",
    "            # Load each JSON object into a Python dictionary\n",
    "            review_data = json.loads(review_line)\n",
    "            review_data_list.append(review_data)\n",
    "        except json.JSONDecodeError as e:\n",
    "            print(f\"Error decoding JSON: {e}\")\n",
    "\n",
    "# Convert the list of dictionaries into a DataFrame\n",
    "review_df = pd.DataFrame(review_data_list)\n",
    "\n",
    "review_df"
   ]
  },
  {
   "cell_type": "code",
   "execution_count": 6,
   "id": "402b1090",
   "metadata": {
    "id": "402b1090",
    "outputId": "a1dde019-e71a-42eb-86e4-84c25ece584c"
   },
   "outputs": [
    {
     "data": {
      "text/plain": [
       "review_id      0\n",
       "user_id        0\n",
       "business_id    0\n",
       "stars          0\n",
       "useful         0\n",
       "funny          0\n",
       "cool           0\n",
       "text           0\n",
       "date           0\n",
       "dtype: int64"
      ]
     },
     "execution_count": 6,
     "metadata": {},
     "output_type": "execute_result"
    }
   ],
   "source": [
    "#Check null value\n",
    "review_df.isna().sum()"
   ]
  },
  {
   "cell_type": "code",
   "execution_count": 7,
   "id": "31cd5bf9",
   "metadata": {},
   "outputs": [
    {
     "data": {
      "text/plain": [
       "320"
      ]
     },
     "execution_count": 7,
     "metadata": {},
     "output_type": "execute_result"
    }
   ],
   "source": [
    "review_df['useful'].max()"
   ]
  },
  {
   "cell_type": "code",
   "execution_count": 8,
   "id": "d8b8c86c",
   "metadata": {},
   "outputs": [
    {
     "data": {
      "text/html": [
       "<div>\n",
       "<style scoped>\n",
       "    .dataframe tbody tr th:only-of-type {\n",
       "        vertical-align: middle;\n",
       "    }\n",
       "\n",
       "    .dataframe tbody tr th {\n",
       "        vertical-align: top;\n",
       "    }\n",
       "\n",
       "    .dataframe thead th {\n",
       "        text-align: right;\n",
       "    }\n",
       "</style>\n",
       "<table border=\"1\" class=\"dataframe\">\n",
       "  <thead>\n",
       "    <tr style=\"text-align: right;\">\n",
       "      <th></th>\n",
       "      <th>stars</th>\n",
       "      <th>useful</th>\n",
       "      <th>funny</th>\n",
       "      <th>cool</th>\n",
       "    </tr>\n",
       "  </thead>\n",
       "  <tbody>\n",
       "    <tr>\n",
       "      <th>count</th>\n",
       "      <td>434889.000000</td>\n",
       "      <td>434889.000000</td>\n",
       "      <td>434889.000000</td>\n",
       "      <td>434889.000000</td>\n",
       "    </tr>\n",
       "    <tr>\n",
       "      <th>mean</th>\n",
       "      <td>3.818597</td>\n",
       "      <td>0.984047</td>\n",
       "      <td>0.274498</td>\n",
       "      <td>0.386492</td>\n",
       "    </tr>\n",
       "    <tr>\n",
       "      <th>std</th>\n",
       "      <td>1.397418</td>\n",
       "      <td>2.268260</td>\n",
       "      <td>1.194693</td>\n",
       "      <td>1.272583</td>\n",
       "    </tr>\n",
       "    <tr>\n",
       "      <th>min</th>\n",
       "      <td>1.000000</td>\n",
       "      <td>0.000000</td>\n",
       "      <td>0.000000</td>\n",
       "      <td>0.000000</td>\n",
       "    </tr>\n",
       "    <tr>\n",
       "      <th>25%</th>\n",
       "      <td>3.000000</td>\n",
       "      <td>0.000000</td>\n",
       "      <td>0.000000</td>\n",
       "      <td>0.000000</td>\n",
       "    </tr>\n",
       "    <tr>\n",
       "      <th>50%</th>\n",
       "      <td>4.000000</td>\n",
       "      <td>0.000000</td>\n",
       "      <td>0.000000</td>\n",
       "      <td>0.000000</td>\n",
       "    </tr>\n",
       "    <tr>\n",
       "      <th>75%</th>\n",
       "      <td>5.000000</td>\n",
       "      <td>1.000000</td>\n",
       "      <td>0.000000</td>\n",
       "      <td>0.000000</td>\n",
       "    </tr>\n",
       "    <tr>\n",
       "      <th>max</th>\n",
       "      <td>5.000000</td>\n",
       "      <td>320.000000</td>\n",
       "      <td>284.000000</td>\n",
       "      <td>164.000000</td>\n",
       "    </tr>\n",
       "  </tbody>\n",
       "</table>\n",
       "</div>"
      ],
      "text/plain": [
       "               stars         useful          funny           cool\n",
       "count  434889.000000  434889.000000  434889.000000  434889.000000\n",
       "mean        3.818597       0.984047       0.274498       0.386492\n",
       "std         1.397418       2.268260       1.194693       1.272583\n",
       "min         1.000000       0.000000       0.000000       0.000000\n",
       "25%         3.000000       0.000000       0.000000       0.000000\n",
       "50%         4.000000       0.000000       0.000000       0.000000\n",
       "75%         5.000000       1.000000       0.000000       0.000000\n",
       "max         5.000000     320.000000     284.000000     164.000000"
      ]
     },
     "execution_count": 8,
     "metadata": {},
     "output_type": "execute_result"
    }
   ],
   "source": [
    "review_df.describe()"
   ]
  },
  {
   "cell_type": "markdown",
   "id": "8e0cb85f",
   "metadata": {
    "id": "8e0cb85f"
   },
   "source": [
    "## **5. Business.json**"
   ]
  },
  {
   "cell_type": "code",
   "execution_count": null,
   "id": "1c05540c",
   "metadata": {
    "id": "1c05540c",
    "outputId": "5a825e6a-d758-4cff-a7fa-70424c9bbf9a"
   },
   "outputs": [],
   "source": [
    "# load and preview the data\n",
    "bus = []\n",
    "with open('yelp_academic_dataset_business.json') as f:\n",
    "    for line in f:\n",
    "        bus.append(json.loads(line))\n",
    "bus = pd.DataFrame.from_dict(bus)\n",
    "bus.head()"
   ]
  },
  {
   "cell_type": "code",
   "execution_count": null,
   "id": "5bde2bd2",
   "metadata": {
    "id": "5bde2bd2",
    "outputId": "1f083d3a-0eae-4ec9-8655-0790241dac59"
   },
   "outputs": [],
   "source": [
    "bus = bus.rename(columns = {'name': 'BusinessName'})\n",
    "bus"
   ]
  },
  {
   "cell_type": "code",
   "execution_count": null,
   "id": "984ebfe7",
   "metadata": {
    "id": "984ebfe7",
    "outputId": "817e92f0-a5b0-4207-8585-33b1fe40aaa6"
   },
   "outputs": [],
   "source": [
    "print(bus.dtypes)"
   ]
  },
  {
   "cell_type": "markdown",
   "id": "22e18c68",
   "metadata": {
    "id": "22e18c68"
   },
   "source": [
    "Check missing values"
   ]
  },
  {
   "cell_type": "code",
   "execution_count": null,
   "id": "df14c4af",
   "metadata": {
    "id": "df14c4af",
    "outputId": "78c82b33-3ac4-4858-836a-7380ff225846"
   },
   "outputs": [],
   "source": [
    "missing_values = bus.isnull().sum()\n",
    "missing_values"
   ]
  },
  {
   "cell_type": "markdown",
   "id": "989c00eb",
   "metadata": {
    "id": "989c00eb"
   },
   "source": [
    "Drop rows with null values"
   ]
  },
  {
   "cell_type": "code",
   "execution_count": null,
   "id": "1b907d62",
   "metadata": {
    "id": "1b907d62",
    "outputId": "5fc0b290-038f-455a-bb40-37d87e612888"
   },
   "outputs": [],
   "source": [
    "bus = bus.dropna(how='any',axis=0)\n",
    "bus.isnull().sum()"
   ]
  },
  {
   "cell_type": "code",
   "execution_count": null,
   "id": "19b199c4",
   "metadata": {
    "id": "19b199c4",
    "outputId": "e4f7a47d-7cbd-498f-c476-768d14ce09d0"
   },
   "outputs": [],
   "source": [
    "import json\n",
    "\n",
    "bus['attributes'] = bus['attributes'].apply(lambda x: json.loads(x) if isinstance(x, str) else x)"
   ]
  },
  {
   "cell_type": "code",
   "execution_count": null,
   "id": "f9f25405",
   "metadata": {
    "id": "f9f25405"
   },
   "outputs": [],
   "source": [
    "def flatten_attributes(attr_dict, prefix=''):\n",
    "    \"\"\"\n",
    "    Flattens a nested dictionary into a flat dictionary with compound keys.\n",
    "\n",
    "    Parameters:\n",
    "    - attr_dict: The attributes dictionary.\n",
    "    - prefix: A prefix for the keys to indicate nesting.\n",
    "\n",
    "    Returns:\n",
    "    - A flat dictionary with compound keys.\n",
    "    \"\"\"\n",
    "    flat_dict = {}\n",
    "    for key, value in attr_dict.items():\n",
    "        new_key = f'{prefix}{key}' if prefix else key\n",
    "        if isinstance(value, dict):\n",
    "            flat_dict.update(flatten_attributes(value, prefix=new_key+'_'))\n",
    "        else:\n",
    "            flat_dict[new_key] = value\n",
    "    return flat_dict\n",
    "\n",
    "flat_attributes = bus['attributes'].apply(flatten_attributes)\n",
    "\n",
    "# Convert the series of dictionaries to a DataFrame and join it with the bus.\n",
    "attributes_df = pd.DataFrame(flat_attributes.tolist())\n",
    "bus = bus.join(attributes_df)\n"
   ]
  },
  {
   "cell_type": "code",
   "execution_count": null,
   "id": "5a61318e",
   "metadata": {
    "id": "5a61318e"
   },
   "outputs": [],
   "source": [
    "#Change the columns into boolean type\n",
    "for col in attributes_df.columns:\n",
    "    bus[col] = bus[col].apply(lambda x: True if x == 'True' or x == True else False if x == 'False' or x == False else x)"
   ]
  },
  {
   "cell_type": "code",
   "execution_count": null,
   "id": "8056b270",
   "metadata": {
    "id": "8056b270",
    "outputId": "3c1ca162-b71a-47a7-e112-9a7a2d39f412"
   },
   "outputs": [],
   "source": [
    "bus"
   ]
  },
  {
   "cell_type": "code",
   "execution_count": null,
   "id": "950580a2",
   "metadata": {
    "id": "950580a2",
    "outputId": "0a026fcf-3520-42d6-a1e1-67a8f94a2eea"
   },
   "outputs": [],
   "source": [
    "bus.info()"
   ]
  },
  {
   "cell_type": "code",
   "execution_count": null,
   "id": "698ce64a",
   "metadata": {
    "id": "698ce64a"
   },
   "outputs": [],
   "source": [
    "#Expand the businessparking columns\n",
    "import ast\n",
    "def safe_eval(dict_str):\n",
    "    try:\n",
    "        return ast.literal_eval(dict_str)\n",
    "    except (ValueError, SyntaxError):\n",
    "        return None\n",
    "\n",
    "def flatten_business_parking(row):\n",
    "    if pd.notna(row) and isinstance(row, str):\n",
    "        parking_dict = safe_eval(row)\n",
    "        if parking_dict and isinstance(parking_dict, dict):\n",
    "            return parking_dict\n",
    "    return {'garage': None, 'street': None, 'validated': None, 'lot': None, 'valet': None}\n",
    "\n",
    "business_parking_expanded = bus['BusinessParking'].apply(flatten_business_parking)\n",
    "\n",
    "business_parking_df = pd.DataFrame(business_parking_expanded.tolist())\n",
    "\n",
    "business_parking_df = business_parking_df.add_prefix('BusinessParking_')\n",
    "\n",
    "bus = bus.join(business_parking_df)"
   ]
  },
  {
   "cell_type": "code",
   "execution_count": null,
   "id": "2b661c26",
   "metadata": {
    "id": "2b661c26"
   },
   "outputs": [],
   "source": [
    "bus.drop(columns=['BusinessParking'], inplace=True)"
   ]
  },
  {
   "cell_type": "code",
   "execution_count": null,
   "id": "03392ae1",
   "metadata": {
    "id": "03392ae1",
    "outputId": "6b7252b5-dee1-4981-bfaa-f4df9348c68a"
   },
   "outputs": [],
   "source": [
    "bus.info()"
   ]
  },
  {
   "cell_type": "code",
   "execution_count": null,
   "id": "77e7e702",
   "metadata": {
    "id": "77e7e702",
    "outputId": "02e884b3-257a-4c08-ec03-9e75eab543ea"
   },
   "outputs": [],
   "source": [
    "bus"
   ]
  },
  {
   "cell_type": "code",
   "execution_count": null,
   "id": "d607c2a2",
   "metadata": {
    "id": "d607c2a2"
   },
   "outputs": [],
   "source": [
    "# Fill NaN values with False for all object-type columns\n",
    "for col in bus.columns:\n",
    "    if bus[col].dtype == 'object':\n",
    "        bus[col] = bus[col].fillna(False)"
   ]
  },
  {
   "cell_type": "code",
   "execution_count": null,
   "id": "3749ae2f",
   "metadata": {
    "id": "3749ae2f",
    "outputId": "f209c9ba-6084-406c-a045-b5136521efd5"
   },
   "outputs": [],
   "source": [
    "bus"
   ]
  },
  {
   "cell_type": "markdown",
   "id": "6118306e",
   "metadata": {
    "id": "6118306e"
   },
   "source": [
    "Deal with Categories"
   ]
  },
  {
   "cell_type": "code",
   "execution_count": null,
   "id": "790590dd",
   "metadata": {
    "id": "790590dd"
   },
   "outputs": [],
   "source": [
    "#Flattern categories column and get the first one in list\n",
    "#bus['categories'] = bus['categories'].str.split(',').apply(lambda x: x[0].strip() if x else None)\n",
    "bus['categories'] = bus['categories'].str.split(',').apply(lambda x: x[1].strip() if x and (len(x) > 1 and x[0].strip() == 'Restaurants') else x[0].strip() if x else None)"
   ]
  },
  {
   "cell_type": "code",
   "execution_count": null,
   "id": "ff3d5da0",
   "metadata": {
    "id": "ff3d5da0",
    "outputId": "7528d286-c38d-4bb4-ecd4-90f2303f0f41"
   },
   "outputs": [],
   "source": [
    "#number of unique values in categoreis\n",
    "len(bus['categories'].unique())"
   ]
  },
  {
   "cell_type": "code",
   "execution_count": null,
   "id": "eff926f0",
   "metadata": {
    "id": "eff926f0",
    "outputId": "b5cd9a42-8a12-4380-c4c5-8c4af7870053"
   },
   "outputs": [],
   "source": [
    "bus.loc[bus['categories'] == 'Restaurants', 'categories']"
   ]
  },
  {
   "cell_type": "markdown",
   "id": "5cb8c14c",
   "metadata": {
    "id": "5cb8c14c"
   },
   "source": [
    "Deal with hours"
   ]
  },
  {
   "cell_type": "code",
   "execution_count": null,
   "id": "6b1b2481",
   "metadata": {
    "id": "6b1b2481",
    "outputId": "b69a4be4-032f-4ca3-fb74-ad199c7759dd"
   },
   "outputs": [],
   "source": [
    "bus['hours']"
   ]
  },
  {
   "cell_type": "code",
   "execution_count": null,
   "id": "f262139f",
   "metadata": {
    "id": "f262139f"
   },
   "outputs": [],
   "source": [
    "#flattern the hours column into week of day\n",
    "days_of_week = ['Monday', 'Tuesday', 'Wednesday', 'Thursday', 'Friday', 'Saturday', 'Sunday']\n",
    "\n",
    "for day in days_of_week:\n",
    "    bus[day] = bus['hours'].apply(lambda x: x.get(day) if isinstance(x, dict) and day in x else None)"
   ]
  },
  {
   "cell_type": "code",
   "execution_count": null,
   "id": "0d776aca",
   "metadata": {
    "id": "0d776aca"
   },
   "outputs": [],
   "source": [
    "bus.drop(columns=['hours'], inplace=True)"
   ]
  },
  {
   "cell_type": "code",
   "execution_count": null,
   "id": "d5293e87",
   "metadata": {
    "id": "d5293e87",
    "outputId": "48d00af2-e916-4315-b802-aa598ca3631b"
   },
   "outputs": [],
   "source": [
    "bus"
   ]
  },
  {
   "cell_type": "code",
   "execution_count": null,
   "id": "0a96e863",
   "metadata": {
    "id": "0a96e863",
    "outputId": "0816d281-bb0c-471b-8227-76e468d1439b"
   },
   "outputs": [],
   "source": [
    "bus.info()"
   ]
  },
  {
   "cell_type": "code",
   "execution_count": null,
   "id": "3c7dea37",
   "metadata": {
    "id": "3c7dea37"
   },
   "outputs": [],
   "source": [
    "# Only look for open stores.\n",
    "bus_open = bus[bus['is_open'] == 1].copy()\n",
    "\n",
    "bus_open.reset_index(drop=True, inplace=True)\n"
   ]
  },
  {
   "cell_type": "code",
   "execution_count": null,
   "id": "0a5307df",
   "metadata": {
    "id": "0a5307df",
    "outputId": "c54c16a1-3328-487f-ad01-3af9e8a6a292"
   },
   "outputs": [],
   "source": [
    "bus_open"
   ]
  },
  {
   "cell_type": "code",
   "execution_count": null,
   "id": "6dec2693",
   "metadata": {
    "id": "6dec2693"
   },
   "outputs": [],
   "source": [
    "# Drop the 'attributes' column\n",
    "bus_open.drop(columns='attributes', inplace=True)"
   ]
  },
  {
   "cell_type": "code",
   "execution_count": null,
   "id": "2a15569f",
   "metadata": {
    "id": "2a15569f",
    "outputId": "19d86fe7-8430-4099-af3a-8f8595666293"
   },
   "outputs": [],
   "source": [
    "bus_open"
   ]
  },
  {
   "cell_type": "markdown",
   "id": "f569b4ca",
   "metadata": {
    "id": "f569b4ca"
   },
   "source": [
    "# **EDA**"
   ]
  },
  {
   "cell_type": "markdown",
   "id": "a54e15f6",
   "metadata": {
    "id": "a54e15f6"
   },
   "source": [
    "### Check-In"
   ]
  },
  {
   "cell_type": "code",
   "execution_count": null,
   "id": "84543b9f",
   "metadata": {
    "id": "84543b9f",
    "outputId": "33d13443-f97a-4f1c-fdc9-8c25adfc354d"
   },
   "outputs": [],
   "source": [
    "# Check-In.json\n",
    "#Plot graph for Aggregate Number of Check-ins for Each Hour\n",
    "import matplotlib.pyplot as plt\n",
    "\n",
    "\n",
    "checkin_hourly.drop('business_id', axis=1, inplace=True)\n",
    "\n",
    "hourly_sums = checkin_hourly.sum()\n",
    "\n",
    "plt.figure(figsize=(14, 7))\n",
    "plt.bar(hourly_sums.index, hourly_sums.values, color='skyblue')\n",
    "\n",
    "plt.xlabel('Hour of the Day')\n",
    "plt.ylabel('Number of Check-ins')\n",
    "plt.title('Aggregate Number of Check-ins for Each Hour')\n",
    "plt.xticks(rotation=45)\n",
    "\n",
    "# to avoid overlapping\n",
    "plt.tight_layout()\n",
    "plt.show()"
   ]
  },
  {
   "cell_type": "markdown",
   "id": "2ccc7a6b",
   "metadata": {
    "id": "2ccc7a6b"
   },
   "source": [
    "The height of each bar reflects the number of check-ins that occurred during the respective hour. The graph shows a clear pattern of activity with the number of check-ins being highest during the late evening hours, particularly from 'hour_16' (4 PM) to 'hour_23' (11 PM). This trend suggests that the peak times for check-ins are in the late afternoon to late evening, with the highest peaks around 'hour_18' (6 PM) to 'hour_20' (8 PM). Conversely, the early morning hours, specifically from 'hour_0' (midnight) to 'hour_6' (6 AM), show the least amount of activity, which is understandable as this is typically after closing hours for many businesses or before they open.\n",
    "\n",
    "The significant decrease in check-ins during the early hours of the morning and the gradual increase towards the evening hours could be indicative of customer behavior patterns, where customers are more likely to visit and check into places during their free time or after work hours. This data can be very useful for businesses to understand customer foot traffic patterns and could inform decisions related to opening hours, or promotional activities to increas customer visits during off-peak hours."
   ]
  },
  {
   "cell_type": "markdown",
   "id": "0fddff14",
   "metadata": {
    "id": "0fddff14"
   },
   "source": [
    "## Tip:"
   ]
  },
  {
   "cell_type": "code",
   "execution_count": null,
   "id": "79e346d0",
   "metadata": {
    "id": "79e346d0",
    "outputId": "aa2d6f67-dc4a-4147-faba-101f0b77ce2c",
    "scrolled": true
   },
   "outputs": [],
   "source": [
    "# filter out the non-zero compliment count\n",
    "non_zero_compliments = tip_df[tip_df['compliment_count'] > 0]\n",
    "\n",
    "# group by business_id and sum the compliment counts\n",
    "business_compliments = non_zero_compliments.groupby('business_id')['compliment_count'].sum().sort_values()\n",
    "\n",
    "# get the first 10\n",
    "top_10_business_compliments = business_compliments.nlargest(10)\n",
    "\n",
    "#Plot graph for Top 10 Businesses by Non-Zero Compliment Count\n",
    "plt.figure(figsize=(10, 6))\n",
    "top_10_business_compliments.plot(kind='bar', color='skyblue')\n",
    "\n",
    "plt.title('Top 10 Businesses by Non-Zero Compliment Count')\n",
    "plt.xlabel('Business ID')\n",
    "plt.ylabel('Total Compliment Count')\n",
    "plt.xticks(rotation=90)\n",
    "plt.tight_layout()\n",
    "\n",
    "plt.show()"
   ]
  },
  {
   "cell_type": "markdown",
   "id": "a97ca21f",
   "metadata": {
    "id": "a97ca21f"
   },
   "source": [
    "From the above chart, we can see variability in the total compliment counts, here we only picked top 10 businesses. The business with ID starting with 'dsfRin' has the highest number of compliments, much more than the other business IDs, indicating a particularly positive reception from customers. Following this, the total compliments decrease but remain relatively high for the other two businesses (IDs starting with 'FExW' and 'KeH6'), showing that they also have a considerable amount of positive feedback from their customers on Yelp.\n",
    "\n",
    "This graph can be especially useful for businesses and analysts aiming to identify which establishments are performing well in terms of customer satisfaction, as indicated by the volume of compliments. It can also serve as a benchmark for other businesses to gauge the level of positive engagement they might aspire to. Additionally, the chart could inform customers about popular businesses among their peers, potentially guiding their choices and expectations."
   ]
  },
  {
   "cell_type": "markdown",
   "id": "6c832b95",
   "metadata": {
    "id": "6c832b95"
   },
   "source": [
    "## User:"
   ]
  },
  {
   "cell_type": "code",
   "execution_count": null,
   "id": "1efb19d3",
   "metadata": {
    "id": "1efb19d3",
    "outputId": "f39586d2-8e92-4492-be2b-2f4e02603672"
   },
   "outputs": [],
   "source": [
    "# For each type of count, find the top 10 users including their names\n",
    "top_useful = user_df.nlargest(10, 'useful')[['user_id', 'name', 'useful']]\n",
    "top_funny = user_df.nlargest(10, 'funny')[['user_id', 'name', 'funny']]\n",
    "top_cool = user_df.nlargest(10, 'cool')[['user_id', 'name', 'cool']]\n",
    "\n",
    "# Displaying the top 10 for each category\n",
    "print(\"Top 10 Users for 'Useful' Compliments:\")\n",
    "print(top_useful)\n",
    "print(\"\\nTop 10 Users for 'Funny' Compliments:\")\n",
    "print(top_funny)\n",
    "print(\"\\nTop 10 Users for 'Cool' Compliments:\")\n",
    "print(top_cool)"
   ]
  },
  {
   "cell_type": "code",
   "execution_count": null,
   "id": "e1628b29",
   "metadata": {
    "id": "e1628b29",
    "outputId": "c0d08921-4694-4c97-9822-100d7f954f49"
   },
   "outputs": [],
   "source": [
    "#Plot graph\n",
    "fig, axes = plt.subplots(nrows=3, ncols=1, figsize=(10, 15))\n",
    "\n",
    "# 'useful'\n",
    "top_useful.plot(kind='bar', x='name', y='useful', ax=axes[0], color='blue')\n",
    "axes[0].set_title('Top 10 Users by \"Useful\" Compliments')\n",
    "axes[0].set_xlabel('User Name')\n",
    "axes[0].set_ylabel('Count of Useful Compliments')\n",
    "\n",
    "# 'funny'\n",
    "top_funny.plot(kind='bar', x='name', y='funny', ax=axes[1], color='orange')\n",
    "axes[1].set_title('Top 10 Users by \"Funny\" Compliments')\n",
    "axes[1].set_xlabel('User Name')\n",
    "axes[1].set_ylabel('Count of Funny Compliments')\n",
    "\n",
    "# 'cool'\n",
    "top_cool.plot(kind='bar', x='name', y='cool', ax=axes[2], color='green')\n",
    "axes[2].set_title('Top 10 Users by \"Cool\" Compliments')\n",
    "axes[2].set_xlabel('User Name')\n",
    "axes[2].set_ylabel('Count of Cool Compliments')\n",
    "\n",
    "plt.tight_layout()\n",
    "plt.show()"
   ]
  },
  {
   "cell_type": "markdown",
   "id": "28e052ff",
   "metadata": {
    "id": "28e052ff"
   },
   "source": [
    "In the first chart in color of blue, we can see the count of 'Useful' compliments for each of the top 10 users. The user named Fox has the highest number of useful compliments, significantly more than the rest of the users on Yelp, which could indicate that Fox's contributions are considered particularly valuable by others. Following Fox, Bruce and Michael have the next highest counts, but with fewer compliments than Fox, suggesting they are also providing beneficial content to others.\n",
    "\n",
    "The second chart colored in orange showed users who have received the most 'Funny' compliments. According to the chart, Fox still in the lead, followed by Bruce and Michael, implying that the contributions from these top users are not only helpful but also entertaining.\n",
    "\n",
    "The green chart analyzed 'Cool' compliments in user dataset. Again, Fox tops the chart, followed by Bruce and Michael. These users are perceived as cool by their peers, indicating that their behavior or content has a certain appeal that resonates well within their community.\n",
    "\n",
    "Across all three charts, a interesting finding is that the same users appear, which suggests that these individuals are influential within their community, contributing content that is consistently recognized as useful, funny, and cool. This information can be used by the platform to encourage further engagement by identifying potential influencers on Yelp."
   ]
  },
  {
   "cell_type": "markdown",
   "id": "e5c79a2f",
   "metadata": {
    "id": "e5c79a2f"
   },
   "source": [
    "## Review:"
   ]
  },
  {
   "cell_type": "code",
   "execution_count": null,
   "id": "84a0015d",
   "metadata": {
    "id": "84a0015d",
    "outputId": "2a9f7833-e550-4be9-f206-5e7abfbcad9e"
   },
   "outputs": [],
   "source": [
    "#plot histogram for the distribution of stars for businesses\n",
    "import seaborn as sns\n",
    "\n",
    "sns.histplot(review_df['stars'], kde=False)\n",
    "plt.title('Distribution for stars of businesses')\n",
    "plt.show()"
   ]
  },
  {
   "cell_type": "markdown",
   "id": "af7f0e6f",
   "metadata": {
    "id": "af7f0e6f"
   },
   "source": [
    "From the above plot, we can see that 1-star ratings is relatively low, suggesting that there are fewer reviews with the lowest possible rating, indicating that while some users are dissatisfied, they are not the majority. The 2-star rating also has a low count, slightly higher than the 1-star, but still among the lower frequencies. This suggests a similar level of dissatisfaction as with the 1-star ratings. The 3-star ratings have a slightly higher frequency than the 2-star ratings, indicating a moderate level of satisfaction or an average rating. The count for 4-star ratings increases significantly, suggesting that many users found their experience to be good but not excellent.\n",
    "\n",
    "There is a significant jump in the frequency of 5-star ratings, having the highest number of reviews, almost 200,000. This high level of satisfaction among users or customers suggests that the majority of the user group on Yelp had a very positive experience during their visit."
   ]
  },
  {
   "cell_type": "code",
   "execution_count": null,
   "id": "ddf90290",
   "metadata": {},
   "outputs": [],
   "source": [
    "import warnings\n",
    "\n",
    "warnings.filterwarnings(\"ignore\")\n",
    "\n",
    "fig = plt.figure(figsize=(24,8))\n",
    "\n",
    "axes2 = plt.subplot(2,2,1)\n",
    "axes2 = sns.countplot(x='cool', data=review_df)\n",
    "axes2.set_title('Cool')\n",
    "axes2.set_ylabel('Count')\n",
    "\n",
    "axes3 = plt.subplot(2,2,2)\n",
    "axes3 = sns.countplot(x='useful', data=review_df)\n",
    "axes3.set_title('Useful')\n",
    "axes3.set_ylabel('Count')\n",
    "\n",
    "axes4 = plt.subplot(2,2,3)\n",
    "axes4 = sns.countplot(x='funny', data=review_df)\n",
    "axes4.set_title('Funny')\n",
    "axes4.set_ylabel('Count')\n",
    "\n",
    "plt.tight_layout()"
   ]
  },
  {
   "cell_type": "markdown",
   "id": "792418d1",
   "metadata": {
    "id": "792418d1"
   },
   "source": [
    "### Business:"
   ]
  },
  {
   "cell_type": "markdown",
   "id": "3a10afa1",
   "metadata": {
    "id": "3a10afa1"
   },
   "source": [
    "Overview about data"
   ]
  },
  {
   "cell_type": "code",
   "execution_count": null,
   "id": "d35b3016",
   "metadata": {
    "id": "d35b3016",
    "outputId": "4817fc24-4a53-478e-f777-014fcb05c89a"
   },
   "outputs": [],
   "source": [
    "print(bus_open.describe())"
   ]
  },
  {
   "cell_type": "code",
   "execution_count": null,
   "id": "309aa832",
   "metadata": {
    "id": "309aa832"
   },
   "outputs": [],
   "source": [
    "import seaborn as sns\n",
    "import matplotlib.pyplot as plt"
   ]
  },
  {
   "cell_type": "code",
   "execution_count": null,
   "id": "eacbaf04",
   "metadata": {
    "id": "eacbaf04",
    "outputId": "75dd8d0f-67ae-43cf-aa91-ba4bc4b79984"
   },
   "outputs": [],
   "source": [
    "#Plot for Distribution of Star Ratings\n",
    "sns.histplot(bus_open['stars'], bins=5, kde=True)\n",
    "plt.title('Distribution of Star Ratings')\n",
    "plt.xlabel('Star Ratings')\n",
    "plt.ylabel('Frequency')\n",
    "plt.show()\n",
    "#Plot for Distribution of Review Counts\n",
    "sns.histplot(bus_open['review_count'], kde=True)\n",
    "plt.title('Distribution of Review Counts')\n",
    "plt.xlabel('Review Counts')\n",
    "plt.ylabel('Frequency')\n",
    "plt.xscale('log')\n",
    "plt.show()"
   ]
  },
  {
   "cell_type": "markdown",
   "id": "af1ea38b",
   "metadata": {
    "id": "af1ea38b"
   },
   "source": [
    "**Summary:**\n",
    "\n",
    "- Most businesses receive ratings of 4.0 or 5.0 stars, with these being the most common ratings given by customers.\n",
    "\n",
    "- Lower star ratings (1.0 to 3.5) are less common.\n",
    "\n",
    "- The majority of businesses have a relatively low number of reviews, but there is a wide range in the number of reviews that businesses receive.\n",
    "\n",
    "- Both charts together suggest that while customers generally tend to leave positive ratings, businesses often struggle to accumulate a large number of reviews."
   ]
  },
  {
   "cell_type": "code",
   "execution_count": null,
   "id": "f0e127e1",
   "metadata": {
    "id": "f0e127e1",
    "outputId": "13705204-44ba-4a98-a8ff-f5a5540259d9"
   },
   "outputs": [],
   "source": [
    "#Plot for Top 20 States by Number of Businesses\n",
    "plt.figure(figsize=(10, 8))\n",
    "sns.countplot(y='state', data=bus_open, order=bus_open['state'].value_counts().index[:20])\n",
    "plt.title('Top 20 States by Number of Businesses')\n",
    "plt.show()"
   ]
  },
  {
   "cell_type": "code",
   "execution_count": null,
   "id": "9e69f6a8",
   "metadata": {
    "id": "9e69f6a8",
    "outputId": "0386308f-d92f-432d-b373-6580a623992b"
   },
   "outputs": [],
   "source": [
    "#Plot for I can Top 20 Categories of Businesses\n",
    "plt.figure(figsize=(10, 8))\n",
    "sns.countplot(y='categories', data=bus_open, order=bus_open['categories'].value_counts().index[:20])\n",
    "plt.title('Top 20 Categories of Businesses')\n",
    "plt.show()\n"
   ]
  },
  {
   "cell_type": "markdown",
   "id": "57eadf44",
   "metadata": {
    "id": "57eadf44"
   },
   "source": [
    "**Summary:**\n",
    "\n",
    "- Pennsylvania is the leading state in terms of the number of businesses\n",
    "\n",
    "- Restaurants are the most common type of business in this yelp dataset, with Hair Salons being the least common within the top twenty.\n",
    "\n",
    "- Both charts provide a clear visual representation of the distribution of businesses across states and business categories, respectively.\n",
    "\n",
    "- There appears to be a significant drop in the number of businesses after the first few top states and categories, indicating that a small number of states and categories dominate the business landscape in terms of numbers."
   ]
  },
  {
   "cell_type": "markdown",
   "id": "3b9727bb",
   "metadata": {
    "id": "3b9727bb"
   },
   "source": [
    "Star Ratings vs. Review Counts\n",
    "\n",
    "Explore if there's a relationship between the number of reviews a business has and its average star rating."
   ]
  },
  {
   "cell_type": "code",
   "execution_count": null,
   "id": "0f6e949c",
   "metadata": {
    "id": "0f6e949c",
    "outputId": "2119a47b-a6c4-4208-b88f-850c09c057d9"
   },
   "outputs": [],
   "source": [
    "#Plot for Review Count vs. Star Ratings\n",
    "sns.scatterplot(x='review_count', y='stars', data=bus_open, alpha=0.5)\n",
    "plt.xscale('log')\n",
    "plt.title('Review Count vs. Star Ratings')\n",
    "plt.xlabel('Review Count (Log Scale)')\n",
    "plt.ylabel('Star Ratings')\n",
    "plt.show()\n"
   ]
  },
  {
   "cell_type": "markdown",
   "id": "ee825357",
   "metadata": {
    "id": "ee825357"
   },
   "source": [
    "**Summary:**\n",
    "\n",
    "- There appears to be a higher density of data points (more reviews) between the 3.0 and 5.0 star rating range. This suggests that there are more businesses with higher star ratings than there are with lower star ratings.\n",
    "\n",
    "- There are businesses with very high review counts across all rating levels, which are outliers when compared to the general trend of fewer reviews. This might suggest that some businesses, regardless of their star rating, can still attract a large number of reviews.\n",
    "\n",
    "- The majority of businesses have a relatively low number of reviews, and a small number of businesses have a very high number of reviews, which is typical in many review distributions.\n",
    "\n",
    "- Since the data points are evenly spread across different review counts for each star rating, it indicates that customers are inclined to leave reviews irrespective of whether their experience was positive or negative.\n",
    "\n",
    "- Besides above, there is no strong evidence from this plot to suggest a direct correlation between the number of reviews a business has and its average star rating. Businesses with both high and low star ratings can have varying numbers of reviews."
   ]
  },
  {
   "cell_type": "markdown",
   "id": "92fc1f83",
   "metadata": {
    "id": "92fc1f83"
   },
   "source": [
    "Investigate if certain categories of businesses tend to have higher or lower average star ratings."
   ]
  },
  {
   "cell_type": "code",
   "execution_count": null,
   "id": "8630a437",
   "metadata": {
    "id": "8630a437",
    "outputId": "27199bc9-18ce-4c58-f00e-1d22003415d4"
   },
   "outputs": [],
   "source": [
    "#Star Ratings by Top 10 Categories\n",
    "plt.figure(figsize=(12, 8))\n",
    "sns.boxplot(x='stars', y='categories', data=bus_open, order=bus_open['categories'].value_counts().index[:10])\n",
    "plt.title('Star Ratings by Top 10 Categories')\n",
    "plt.show()\n"
   ]
  },
  {
   "cell_type": "markdown",
   "id": "e7f9743a",
   "metadata": {
    "id": "e7f9743a"
   },
   "source": [
    "**Summary:**\n",
    "\n",
    "- The data suggests that Restaurants and Food-related businesses tend to have higher average star ratings compared to other categories.\n",
    "\n",
    "- Event Planning & Services, Health & Medical, and Nightlife have lower average ratings.\n",
    "\n",
    "- Shopping, Beauty & Spas, Home Services, and Automotive services have moderate to high average ratings but also show considerable variability in ratings, as indicated by the error bars.\n",
    "\n",
    "- The presence of outliers, especially in Nightlife and Beauty & Spas, suggests that there may be some extreme experiences (both positive and negative) that are not captured by the average rating alone."
   ]
  },
  {
   "cell_type": "markdown",
   "id": "d7b17c57",
   "metadata": {
    "id": "d7b17c57"
   },
   "source": [
    "### Association Rule"
   ]
  },
  {
   "cell_type": "code",
   "execution_count": null,
   "id": "87033b69",
   "metadata": {
    "id": "87033b69"
   },
   "outputs": [],
   "source": [
    "#Slice the required column from different tables\n",
    "bus_cat = bus_open[['business_id','categories']]\n",
    "user_id_name = user_df[['user_id', 'name']]\n",
    "review_id = review_df[['user_id', 'business_id']]"
   ]
  },
  {
   "cell_type": "code",
   "execution_count": null,
   "id": "7796deaf",
   "metadata": {
    "id": "7796deaf"
   },
   "outputs": [],
   "source": [
    "#merge and slice the require columns for performing association rules are being used for\n",
    "cat_id = bus_cat.merge(review_id, how = 'left', on = 'business_id')\n",
    "cat_id = cat_id[['user_id','categories']]"
   ]
  },
  {
   "cell_type": "code",
   "execution_count": null,
   "id": "e0d31cef",
   "metadata": {
    "id": "e0d31cef",
    "outputId": "f7daed4a-60ff-4518-863f-6f144afccd60"
   },
   "outputs": [],
   "source": [
    "#group the categories of restaurant the each user use to comment on\n",
    "cat_group = cat_id.groupby('user_id')['categories'].apply(list)\n",
    "cat_group = pd.DataFrame(cat_group).reset_index()\n",
    "cat_group"
   ]
  },
  {
   "cell_type": "code",
   "execution_count": null,
   "id": "c8752fe4",
   "metadata": {
    "id": "c8752fe4"
   },
   "outputs": [],
   "source": [
    "#import library for association rule and apriori\n",
    "from mlxtend.frequent_patterns import apriori\n",
    "from mlxtend.frequent_patterns import association_rules\n",
    "from mlxtend.preprocessing import TransactionEncoder"
   ]
  },
  {
   "cell_type": "code",
   "execution_count": null,
   "id": "7bf41785",
   "metadata": {
    "id": "7bf41785",
    "outputId": "79a4bf62-3b71-4201-d2ab-dc864d726f2b"
   },
   "outputs": [],
   "source": [
    "resto = cat_group['categories']\n",
    "resto"
   ]
  },
  {
   "cell_type": "code",
   "execution_count": null,
   "id": "8d120393",
   "metadata": {
    "id": "8d120393",
    "outputId": "85596015-38ba-4cf4-9918-3a1f13eab633"
   },
   "outputs": [],
   "source": [
    "#Transforming data into needed format for apriori and association rule out\n",
    "te = TransactionEncoder()\n",
    "te_data = te.fit(resto).transform(resto)\n",
    "df_trans = pd.DataFrame(te_data, columns=te.columns_)\n",
    "df_trans"
   ]
  },
  {
   "cell_type": "code",
   "execution_count": null,
   "id": "9c8d82c2",
   "metadata": {
    "id": "9c8d82c2",
    "outputId": "64bab5d1-f905-46bd-e1c2-a10a61357c9f"
   },
   "outputs": [],
   "source": [
    "#build flat list\n",
    "flat_list = [item for sublist in resto for item in sublist]\n",
    "flat_list[0:5]"
   ]
  },
  {
   "cell_type": "code",
   "execution_count": null,
   "id": "77c436b2",
   "metadata": {
    "id": "77c436b2"
   },
   "outputs": [],
   "source": [
    "# count item purchase volume\n",
    "item_counts = {}\n",
    "for item in flat_list:\n",
    "    item_counts[item] = item_counts.get(item, 0) +1"
   ]
  },
  {
   "cell_type": "code",
   "execution_count": null,
   "id": "d26a46d6",
   "metadata": {
    "id": "d26a46d6",
    "outputId": "6d62d008-9375-4a9e-d5c3-0b4ae2e377db"
   },
   "outputs": [],
   "source": [
    "sorted_item =sorted(item_counts.items(), key = lambda x: x[1], reverse = True)\n",
    "sorted_item[0:5]"
   ]
  },
  {
   "cell_type": "code",
   "execution_count": null,
   "id": "3c16ce17",
   "metadata": {
    "id": "3c16ce17",
    "outputId": "756a5696-23dc-4a4d-f44d-30d0534d19f2"
   },
   "outputs": [],
   "source": [
    "percentile_index = int(0.05 * len(sorted_item))\n",
    "percentile_item = sorted_item[percentile_index]\n",
    "print(f\"25th percentile item: {percentile_item}\")"
   ]
  },
  {
   "cell_type": "code",
   "execution_count": null,
   "id": "b8301684",
   "metadata": {
    "id": "b8301684",
    "outputId": "0db0ae19-910c-4cf4-8f52-1d1f4ded9a6a"
   },
   "outputs": [],
   "source": [
    "#setting minimum support as 25th percentile of all support\n",
    "min_support = flat_list.count(percentile_item[0]) / len(flat_list)\n",
    "min_support"
   ]
  },
  {
   "cell_type": "code",
   "execution_count": null,
   "id": "04eb628c",
   "metadata": {
    "id": "04eb628c",
    "outputId": "309926f9-f638-481e-caad-f1627f9cbc84"
   },
   "outputs": [],
   "source": [
    "from scipy.sparse import csr_matrix\n",
    "sparse_df = csr_matrix(df_trans.values)\n",
    "\n",
    "frequent_categories = apriori(df_trans, min_support = min_support, use_colnames = True)\n",
    "frequent_categories"
   ]
  },
  {
   "cell_type": "code",
   "execution_count": null,
   "id": "103f22e8",
   "metadata": {
    "id": "103f22e8",
    "outputId": "bd09d597-e9e6-4158-bf7e-0d6a8c912bbb"
   },
   "outputs": [],
   "source": [
    "#Generating rules\n",
    "rules = association_rules(frequent_categories, metric = 'confidence', min_threshold = 0.1)\n",
    "rules.sort_values(by = 'confidence')"
   ]
  },
  {
   "cell_type": "code",
   "execution_count": null,
   "id": "a1d25e54",
   "metadata": {
    "id": "a1d25e54"
   },
   "outputs": [],
   "source": [
    "categories = set(flat_list)"
   ]
  },
  {
   "cell_type": "code",
   "execution_count": null,
   "id": "011c39fe",
   "metadata": {
    "id": "011c39fe"
   },
   "outputs": [],
   "source": [
    "# top 5 reccomendition\n",
    "top_recommendations = {}\n",
    "for category in categories:\n",
    "    relevant_rules = rules[rules['antecedents'].apply(lambda x: category in x)]\n",
    "    if not relevant_rules.empty:\n",
    "        sorted_rules = relevant_rules.sort_values(by='confidence', ascending=False).head(5)\n",
    "        unique_consequents = set(sorted_rules['consequents'].explode())\n",
    "        top_recommendations[category] = list(unique_consequents)"
   ]
  },
  {
   "cell_type": "code",
   "execution_count": null,
   "id": "54c1ca7c",
   "metadata": {
    "id": "54c1ca7c",
    "outputId": "a5c9a765-c0d7-4941-bbd5-2121ba637441"
   },
   "outputs": [],
   "source": [
    "for category, recommendations in top_recommendations.items():\n",
    "    print(f\"People that review {category} will also review {recommendations}\")"
   ]
  },
  {
   "cell_type": "markdown",
   "id": "5bd6b991",
   "metadata": {
    "id": "5bd6b991"
   },
   "source": [
    "We run a market basket analysis on user’s review behavior for business categories. We found that the categories with the most support are “ Food”, “Nightlife”, “Pizza”. And we discovered that users that used to review “Pizza” are more likely to review “Food”, user that review “Food” are more likely to review “Nightlife”, and “Bars”."
   ]
  },
  {
   "cell_type": "markdown",
   "id": "076bd80a",
   "metadata": {
    "id": "076bd80a"
   },
   "source": [
    "# User segmentation"
   ]
  },
  {
   "cell_type": "code",
   "execution_count": null,
   "id": "70dd7fe1",
   "metadata": {
    "id": "70dd7fe1",
    "outputId": "37a709dd-991a-4c22-8c81-b7a75465d2a1"
   },
   "outputs": [],
   "source": [
    "sampled_user_df = user_df.sample(frac=0.01, random_state=42)\n",
    "sampled_user_df\n"
   ]
  },
  {
   "cell_type": "code",
   "execution_count": null,
   "id": "e84edf98",
   "metadata": {
    "id": "e84edf98"
   },
   "outputs": [],
   "source": [
    "from sklearn.cluster import KMeans\n",
    "from sklearn.decomposition import PCA\n",
    "from sklearn.manifold import TSNE\n",
    "from sklearn.preprocessing import StandardScaler\n",
    "from scipy.cluster.hierarchy import dendrogram, linkage\n",
    "import plotly.express as px"
   ]
  },
  {
   "cell_type": "code",
   "execution_count": null,
   "id": "eb5bcd0c",
   "metadata": {
    "id": "eb5bcd0c",
    "outputId": "066b584d-b9e3-4437-8281-5c6e634e59a9"
   },
   "outputs": [],
   "source": [
    "# Data cleaning of 'elite' and 'friends'\n",
    "\n",
    "# Count the number of elite years\n",
    "sampled_user_df['elite_count'] = sampled_user_df['elite'].apply(lambda x: len(str(x).split(',')) if pd.notnull(x) else 0)\n",
    "\n",
    "# Count the number of friends\n",
    "sampled_user_df['friends_count'] = sampled_user_df['friends'].apply(lambda x: len(str(x).split(',')) if pd.notnull(x) else 0)\n",
    "\n",
    "user_df"
   ]
  },
  {
   "cell_type": "code",
   "execution_count": null,
   "id": "b9582d39",
   "metadata": {
    "id": "b9582d39",
    "outputId": "406538c4-2b09-40ed-9d5c-22f00cec514f"
   },
   "outputs": [],
   "source": [
    "# Latest 'yelping_since' in user_df\n",
    "user_df['yelping_since'] = pd.to_datetime(user_df['yelping_since'])\n",
    "latest_yelping_since_user = user_df['yelping_since'].max()\n",
    "print(\"Latest Yelping Since Date and Time:\", latest_yelping_since_user)\n",
    "\n",
    "# Latest 'date' in review_df\n",
    "review_df['date'] = pd.to_datetime(review_df['date'])\n",
    "latest_review_date = review_df['date'].max()\n",
    "print(\"Latest Review Date and Time:\", latest_review_date)\n",
    "\n",
    "# Latest 'date' in tip_df\n",
    "tip_df['date'] = pd.to_datetime(tip_df['date'])\n",
    "latest_tip_date = tip_df['date'].max()\n",
    "print(\"Latest Tip Date and Time:\", latest_tip_date)"
   ]
  },
  {
   "cell_type": "markdown",
   "id": "70ef68b0",
   "metadata": {
    "id": "70ef68b0"
   },
   "source": [
    "From the above data, it is evident that the latest date in the dataset is 2022-01-19. Therefore, we will consider the data to be collected on this day to calculate the 'days since using Yelp' for users."
   ]
  },
  {
   "cell_type": "code",
   "execution_count": null,
   "id": "9b939c11",
   "metadata": {
    "id": "9b939c11",
    "outputId": "28153226-dd56-4f7d-bfd7-e6169441817e"
   },
   "outputs": [],
   "source": [
    "sampled_user_df['yelping_since'] = pd.to_datetime(sampled_user_df['yelping_since'])\n",
    "\n",
    "# Consider \"2022-01-19\" as the date when the data was collected.\n",
    "reference_date = pd.to_datetime('2022-01-19')\n",
    "\n",
    "# Calculate the number of days since 'yelping_since' to 2022-01-19\n",
    "sampled_user_df['days_since_yelping'] = (reference_date - sampled_user_df['yelping_since']).dt.days\n",
    "\n",
    "sampled_user_df"
   ]
  },
  {
   "cell_type": "code",
   "execution_count": null,
   "id": "879a33d6",
   "metadata": {
    "id": "879a33d6",
    "outputId": "1a405c9e-93e1-49ab-990c-03f0ee9db99d"
   },
   "outputs": [],
   "source": [
    "sampled_user_df_new = sampled_user_df.drop(['user_id', 'yelping_since','elite', 'friends'], axis =1)\n",
    "sampled_user_df_new"
   ]
  },
  {
   "cell_type": "code",
   "execution_count": null,
   "id": "7d412142",
   "metadata": {
    "id": "7d412142",
    "outputId": "1b950d7c-d6dd-419e-c237-d9c80fdd9111"
   },
   "outputs": [],
   "source": [
    "sampled_user_df_new.columns"
   ]
  },
  {
   "cell_type": "code",
   "execution_count": null,
   "id": "73f77960",
   "metadata": {
    "id": "73f77960",
    "outputId": "cca564d8-e2ae-4509-ee8d-1910bb37d3b5"
   },
   "outputs": [],
   "source": [
    "numerical_columns = ['review_count', 'useful', 'funny', 'cool', 'fans',\n",
    "                     'average_stars', 'compliment_hot', 'compliment_more',\n",
    "                     'compliment_profile', 'compliment_cute', 'compliment_list',\n",
    "                     'compliment_note', 'compliment_plain', 'compliment_cool',\n",
    "                     'compliment_funny', 'compliment_writer', 'compliment_photos',\n",
    "                     'elite_count', 'friends_count', 'days_since_yelping']\n",
    "\n",
    "numerical_data = sampled_user_df_new[numerical_columns]\n",
    "\n",
    "scaler = StandardScaler()\n",
    "standardize_df = pd.DataFrame(scaler.fit_transform(numerical_data), columns = numerical_data.columns)\n",
    "\n",
    "standardize_df_others = standardize_df.copy().drop('review_count', axis =1)\n",
    "\n",
    "# Apply PCA to find the optimal number of dimensions\n",
    "pca = PCA()\n",
    "pca.fit(standardize_df_others)\n",
    "explained_variance_ratio = pca.explained_variance_ratio_\n",
    "cumulative_explained_variance = explained_variance_ratio.cumsum()\n",
    "\n",
    "# Explained variance ratio\n",
    "plt.plot(range(1, len(explained_variance_ratio) + 1), cumulative_explained_variance, marker='o', linestyle='--')\n",
    "plt.title('Cumulative Explained Variance')\n",
    "plt.xlabel('Number of Principal Components')\n",
    "plt.ylabel('Cumulative Explained Variance')\n",
    "plt.grid(True)\n",
    "plt.show()"
   ]
  },
  {
   "cell_type": "code",
   "execution_count": null,
   "id": "85442748",
   "metadata": {
    "id": "85442748",
    "outputId": "f4d35a81-c4f4-4fdf-9cb7-bfbe33eec601"
   },
   "outputs": [],
   "source": [
    "pca = PCA()\n",
    "pca.fit(standardize_df_others)\n",
    "pca.components_.shape\n",
    "\n",
    "df_components = pd.DataFrame(pca.components_, columns = standardize_df_others.columns)\n",
    "\n",
    "plt.figure(figsize=(12, 8))\n",
    "sns.set(font_scale=0.6)\n",
    "sns.heatmap(df_components, annot=True, )"
   ]
  },
  {
   "cell_type": "markdown",
   "id": "XFY1QGbTYsOk",
   "metadata": {
    "id": "XFY1QGbTYsOk"
   },
   "source": [
    "Note:\n",
    "\n",
    "Please note that px plot are not shown on SSC, see appendix for more information about following px plots. We would try other method to display the px graph in SSC for our next steps."
   ]
  },
  {
   "cell_type": "code",
   "execution_count": null,
   "id": "f96d7bdf",
   "metadata": {
    "id": "f96d7bdf",
    "outputId": "fce55f42-a26a-4e33-e06b-feb5fc154b05"
   },
   "outputs": [],
   "source": [
    "standardize_df_3D = pd.DataFrame(pca.transform(standardize_df_others)[:, 0:3], columns=['PC1', 'PC2', 'PC3'])\n",
    "\n",
    "fig = px.scatter_3d(standardize_df_3D, x='PC1', y='PC2', z='PC3',)\n",
    "fig.update_traces(marker_size = 3)\n",
    "fig.show()"
   ]
  },
  {
   "cell_type": "markdown",
   "id": "46ad62af",
   "metadata": {
    "id": "46ad62af"
   },
   "source": [
    "The primary contributors to PC1 are compliment profile, compliment note, compliment plain, compliment cool, compliment note, compliment funny, and compliment writer. PC2 is predominantly influenced by compliment cute and compliment hot. PC3 is primarily shaped by days since yelping and average stars.\n",
    "\n",
    "In the context of clustering based on review count, the principal variation among clusters is observed in PC1. Consequently, the most influential variables for distinguishing clusters are found in compliment profile."
   ]
  },
  {
   "cell_type": "code",
   "execution_count": null,
   "id": "30a6cdc2",
   "metadata": {
    "id": "30a6cdc2",
    "outputId": "6535508e-2d84-436a-9685-1025d34d05a9"
   },
   "outputs": [],
   "source": [
    "standardize_df"
   ]
  },
  {
   "cell_type": "code",
   "execution_count": null,
   "id": "24c8ffa3",
   "metadata": {
    "id": "24c8ffa3"
   },
   "outputs": [],
   "source": [
    "columns_of_interest = ['useful', 'fans', 'average_stars']\n",
    "target_of_interest = 'review_count'"
   ]
  },
  {
   "cell_type": "code",
   "execution_count": null,
   "id": "a991d8c8",
   "metadata": {
    "id": "a991d8c8",
    "outputId": "9fe946fd-b990-40c9-8dfc-a86cc7b22d93"
   },
   "outputs": [],
   "source": [
    "df_numeric_corrected_3D = pd.DataFrame(standardize_df[columns_of_interest])\n",
    "df_numeric_corrected_3D[target_of_interest] = standardize_df[target_of_interest]\n",
    "df_numeric_corrected_3D"
   ]
  },
  {
   "cell_type": "code",
   "execution_count": null,
   "id": "49575d51",
   "metadata": {
    "id": "49575d51",
    "outputId": "d3f7a4bc-8975-487f-cbba-eda794185b14"
   },
   "outputs": [],
   "source": [
    "fig = px.scatter_3d(df_numeric_corrected_3D, x=columns_of_interest[0], y=columns_of_interest[1], z=columns_of_interest[2], color=target_of_interest)\n",
    "fig.update_traces(marker_size = 3)\n",
    "fig.show()"
   ]
  },
  {
   "cell_type": "markdown",
   "id": "663c204f",
   "metadata": {
    "id": "663c204f"
   },
   "source": [
    "## K-Means"
   ]
  },
  {
   "cell_type": "code",
   "execution_count": null,
   "id": "a7054a9a",
   "metadata": {
    "id": "a7054a9a",
    "outputId": "c47dc2ce-2a92-47e1-f351-eb8107f85b87"
   },
   "outputs": [],
   "source": [
    "pca = PCA(n_components=3)\n",
    "principal_components = pca.fit_transform(standardize_df_others)\n",
    "principal_df = pd.DataFrame(data=principal_components, columns=['PC1', 'PC2', 'PC3'])\n",
    "\n",
    "# Combine principal_df with the original DataFrame\n",
    "standardize_df_kmeans = pd.concat([standardize_df, principal_df], axis=1)\n",
    "\n",
    "# K-Means\n",
    "kmeans = KMeans(3, random_state=42, n_init=1)\n",
    "cluster_labels = kmeans.fit_predict(standardize_df_kmeans[['PC1', 'PC2', 'PC3']])\n",
    "standardize_df_kmeans['cluster_labels'] = cluster_labels\n",
    "\n",
    "fig = px.scatter_3d(standardize_df_kmeans, x='PC1', y='PC2', z='PC3', color='cluster_labels', opacity=0.9,\n",
    "                    title='K-Means Clustering Results (3D)',\n",
    "                    labels={'cluster_labels': 'Cluster'})\n",
    "fig.show()"
   ]
  },
  {
   "cell_type": "markdown",
   "id": "e0951c4e",
   "metadata": {
    "id": "e0951c4e"
   },
   "source": [
    "## Hierarchical Clustering"
   ]
  },
  {
   "cell_type": "code",
   "execution_count": null,
   "id": "e132a7e3",
   "metadata": {
    "id": "e132a7e3",
    "outputId": "f4a7d732-b140-4690-d2c1-3aa33a412c79"
   },
   "outputs": [],
   "source": [
    "from scipy.cluster.hierarchy import linkage, fcluster\n",
    "\n",
    "# Hierarchical clustering\n",
    "Z = linkage(standardize_df[columns_of_interest], 'ward')\n",
    "dendrogram(Z, p=4, truncate_mode='level', leaf_rotation=90, leaf_font_size=5, show_contracted=True)\n",
    "plt.title('Hierarchical Clustering Dendrogram')\n",
    "plt.xlabel('Sample Index or (Cluster Size)')\n",
    "plt.ylabel('Distance')\n",
    "plt.show()\n"
   ]
  },
  {
   "cell_type": "markdown",
   "id": "22e641f8",
   "metadata": {
    "id": "22e641f8"
   },
   "source": [
    "## T-SNE"
   ]
  },
  {
   "cell_type": "code",
   "execution_count": null,
   "id": "859a92ac",
   "metadata": {
    "id": "859a92ac"
   },
   "outputs": [],
   "source": [
    "from sklearn.manifold import TSNE\n",
    "\n",
    "tsne_embedding = TSNE(n_components=3).fit_transform(standardize_df)\n",
    "df_embeddings_with_categorical_and_targets = pd.concat([pd.DataFrame(tsne_embedding, columns=['tSNE1', 'tSNE2', 'tSNE3']), standardize_df_others , standardize_df['review_count']], axis=1)"
   ]
  },
  {
   "cell_type": "code",
   "execution_count": null,
   "id": "8558b25a",
   "metadata": {
    "id": "8558b25a",
    "outputId": "b4757f7a-e95d-44f9-f466-4f1baf468ad7"
   },
   "outputs": [],
   "source": [
    "df_embeddings_with_categorical_and_targets"
   ]
  },
  {
   "cell_type": "code",
   "execution_count": null,
   "id": "731c7729",
   "metadata": {
    "id": "731c7729",
    "outputId": "e1754add-6d49-432d-c645-f947097ee7fb"
   },
   "outputs": [],
   "source": [
    "color_column = 'review_count'\n",
    "hover_columns = standardize_df_others\n",
    "\n",
    "fig = px.scatter_3d(df_embeddings_with_categorical_and_targets,x= 'tSNE1', y= 'tSNE2', z='tSNE3', color = color_column, hover_data = hover_columns)\n",
    "fig.update_traces(marker_size = 3)\n",
    "fig.show()"
   ]
  },
  {
   "cell_type": "code",
   "execution_count": null,
   "id": "497b35a1",
   "metadata": {
    "id": "497b35a1",
    "outputId": "fe3b429a-e5ef-4def-b3ba-d62fbd6e6bd9"
   },
   "outputs": [],
   "source": [
    "# perplexity = 1\n",
    "tsne_perplex_1 = TSNE(n_components=3, perplexity=1).fit_transform(standardize_df)\n",
    "df_perplex_1_targets = pd.concat([pd.DataFrame(tsne_perplex_1, columns=['tSNE1', 'tSNE2', 'tSNE3']), standardize_df_others , standardize_df['review_count']], axis=1)\n",
    "\n",
    "fig = px.scatter_3d(df_perplex_1_targets,x= 'tSNE1', y= 'tSNE2', z='tSNE3', color = 'review_count', hover_data = standardize_df_others)\n",
    "fig.update_traces(marker_size = 3)\n",
    "fig.show()"
   ]
  },
  {
   "cell_type": "code",
   "execution_count": null,
   "id": "0cfd8b5e",
   "metadata": {
    "id": "0cfd8b5e",
    "outputId": "f32898aa-6149-472c-d2e9-241c3c5dd9b0"
   },
   "outputs": [],
   "source": [
    "# perplexity = 1\n",
    "tsne_perplex_1 = TSNE(n_components=3, perplexity=1).fit_transform(standardize_df)\n",
    "df_perplex_1_targets = pd.concat([pd.DataFrame(tsne_perplex_1, columns=['tSNE1', 'tSNE2', 'tSNE3']), standardize_df_others , standardize_df['review_count']], axis=1)\n",
    "\n",
    "fig = px.scatter_3d(df_perplex_1_targets,x= 'tSNE1', y= 'tSNE2', z='tSNE3', color = 'review_count', hover_data = standardize_df_others)\n",
    "fig.update_traces(marker_size = 3)\n",
    "fig.show()"
   ]
  },
  {
   "cell_type": "code",
   "execution_count": null,
   "id": "1e3d7ae7",
   "metadata": {
    "id": "1e3d7ae7",
    "outputId": "16d8d7b5-4988-4743-99b3-64aca72b3ff0"
   },
   "outputs": [],
   "source": [
    "# perplexity = 30\n",
    "tsne_perplex_30 = TSNE(n_components=3, perplexity=30).fit_transform(standardize_df)\n",
    "df_perplex_30_targets = pd.concat([pd.DataFrame(tsne_perplex_30, columns=['tSNE1', 'tSNE2', 'tSNE3']), standardize_df_others , standardize_df['review_count']], axis=1)\n",
    "\n",
    "fig = px.scatter_3d(df_perplex_30_targets,x= 'tSNE1', y= 'tSNE2', z='tSNE3', color = 'review_count', hover_data = standardize_df_others)\n",
    "fig.update_traces(marker_size = 3)\n",
    "fig.show()"
   ]
  },
  {
   "cell_type": "code",
   "execution_count": null,
   "id": "c9e879c5",
   "metadata": {
    "id": "c9e879c5"
   },
   "outputs": [],
   "source": [
    "# perplexity = 50\n",
    "tsne_perplex_50 = TSNE(n_components=3, perplexity=50).fit_transform(standardize_df)\n",
    "df_perplex_50_targets = pd.concat([pd.DataFrame(tsne_perplex_50, columns=['tSNE1', 'tSNE2', 'tSNE3']), standardize_df_others , standardize_df['review_count']], axis=1)\n",
    "\n",
    "fig = px.scatter_3d(df_perplex_50_targets,x= 'tSNE1', y= 'tSNE2', z='tSNE3', color = 'review_count', hover_data = standardize_df_others)\n",
    "fig.update_traces(marker_size = 3)\n",
    "fig.show()"
   ]
  },
  {
   "cell_type": "markdown",
   "id": "86323e39",
   "metadata": {
    "id": "86323e39"
   },
   "source": [
    "# Business Segmentation"
   ]
  },
  {
   "cell_type": "code",
   "execution_count": null,
   "id": "63ba0971",
   "metadata": {
    "id": "63ba0971"
   },
   "outputs": [],
   "source": [
    "#Drop Unnecessary columns to prepare for clustering\n",
    "bus_df = bus_open.drop(columns = ['business_id','address', 'city', 'state', 'is_open','postal_code','BusinessName'])"
   ]
  },
  {
   "cell_type": "code",
   "execution_count": null,
   "id": "932a8a6f",
   "metadata": {
    "id": "932a8a6f",
    "outputId": "d48cca2b-f236-4306-fa0b-dc71a89a7254"
   },
   "outputs": [],
   "source": [
    "#Check unique value for all column that is object\n",
    "df_categorical = bus_df.select_dtypes(include=['object'])\n",
    "unique = df_categorical.apply(lambda col: col.unique())\n",
    "pd.DataFrame(unique)"
   ]
  },
  {
   "cell_type": "markdown",
   "id": "c7cef922",
   "metadata": {
    "id": "c7cef922"
   },
   "source": [
    "Given the above table, expanding the attributes bring new unique values. Hence we would like to clean the 'None'  value to become False."
   ]
  },
  {
   "cell_type": "code",
   "execution_count": null,
   "id": "33f3de73",
   "metadata": {
    "id": "33f3de73"
   },
   "outputs": [],
   "source": [
    "#Replace the None value as False to retain only true and false value\n",
    "for col in bus_df.columns:\n",
    "    if bus_df[col].dtype == 'object':\n",
    "        bus_df[col] = bus_df[col].replace('None', False)"
   ]
  },
  {
   "cell_type": "code",
   "execution_count": null,
   "id": "600b4901",
   "metadata": {
    "id": "600b4901",
    "outputId": "f88ab260-1af2-40ee-846b-303565c22db4"
   },
   "outputs": [],
   "source": [
    "#Check unique value for all column that is object again\n",
    "df_categorical = bus_df.select_dtypes(include=['object'])\n",
    "unique = df_categorical.apply(lambda col: col.unique())\n",
    "pd.DataFrame(unique)"
   ]
  },
  {
   "cell_type": "markdown",
   "id": "d766661b",
   "metadata": {
    "id": "d766661b"
   },
   "source": [
    "This value contains too many different unique value, and is contain in different format which is too difficult to be cleaned. Hence in this stage we choose to drop these columns."
   ]
  },
  {
   "cell_type": "code",
   "execution_count": null,
   "id": "1a154683",
   "metadata": {
    "id": "1a154683"
   },
   "outputs": [],
   "source": [
    "#Drop the object column\n",
    "df_categorical = bus_df.select_dtypes(include=['object'])\n",
    "bus_clean = bus_df.drop(columns = df_categorical.columns)"
   ]
  },
  {
   "cell_type": "code",
   "execution_count": null,
   "id": "b72c3416",
   "metadata": {
    "id": "b72c3416",
    "outputId": "10d25afc-2329-4fa7-dc1f-24bc372bfef4"
   },
   "outputs": [],
   "source": [
    "bus_clean.info()"
   ]
  },
  {
   "cell_type": "code",
   "execution_count": null,
   "id": "fd65ec90",
   "metadata": {
    "id": "fd65ec90",
    "outputId": "8f65a893-0ff8-421a-82e3-01fcc962511a"
   },
   "outputs": [],
   "source": [
    "#Perform standardization on numerical variables\n",
    "df_num = bus_df[['latitude','longitude','stars','review_count']]\n",
    "from sklearn.preprocessing import StandardScaler\n",
    "sc = StandardScaler()\n",
    "normalized_data = sc.fit_transform(df_num)\n",
    "\n",
    "df_normalized = pd.DataFrame(normalized_data, columns=df_num.columns)\n",
    "\n",
    "df_normalized.describe()"
   ]
  },
  {
   "cell_type": "code",
   "execution_count": null,
   "id": "20490095",
   "metadata": {
    "id": "20490095"
   },
   "outputs": [],
   "source": [
    "#Include all columns in boolean as categorical data\n",
    "df_cat = bus_clean.select_dtypes(include=['bool'])"
   ]
  },
  {
   "cell_type": "code",
   "execution_count": null,
   "id": "9e4cca78",
   "metadata": {
    "id": "9e4cca78"
   },
   "outputs": [],
   "source": [
    "#Combine both numerical data and categorical data into one dataframe\n",
    "bus_clean = pd.concat([df_normalized, df_cat], axis = 1)"
   ]
  },
  {
   "cell_type": "markdown",
   "id": "c0802ea0",
   "metadata": {
    "id": "c0802ea0"
   },
   "source": [
    "This business dataset contains numerous categorical variables that record various features of the businesses, leading us to retain these variables in our analysis. Since the dataset comprises both numerical and categorical data, we opted to utilize KPrototypes instead of KMeans, as KPrototypes supports clustering with both data types."
   ]
  },
  {
   "cell_type": "code",
   "execution_count": null,
   "id": "0c6196eb",
   "metadata": {
    "id": "0c6196eb",
    "outputId": "71e8c8ee-4210-4d81-8449-5ca3c0b45b57"
   },
   "outputs": [],
   "source": [
    "#Install Kmodes\n",
    "!pip install kmodes"
   ]
  },
  {
   "cell_type": "code",
   "execution_count": null,
   "id": "8f0378bd",
   "metadata": {
    "id": "8f0378bd"
   },
   "outputs": [],
   "source": [
    "from kmodes.kprototypes import KPrototypes"
   ]
  },
  {
   "cell_type": "markdown",
   "id": "5a36fc78",
   "metadata": {
    "id": "5a36fc78"
   },
   "source": [
    "In practice, we have tried to run an elbow plot to choose the optimal K. However, as it requires you over an hour for the code to finished the execution, we give up plotting the graph and choose number of clusters to be 3 instead following normal practice."
   ]
  },
  {
   "cell_type": "code",
   "execution_count": null,
   "id": "2b4d419a",
   "metadata": {
    "id": "2b4d419a",
    "outputId": "8961f1a8-5b37-418f-b9aa-8c7150617fad"
   },
   "outputs": [],
   "source": [
    "# Initialize KPrototypes with desired parameters\n",
    "kproto = KPrototypes(n_clusters=3, init='random', verbose=2, random_state = 42)\n",
    "\n",
    "# Fit and predict clusters\n",
    "clusters = kproto.fit_predict(bus_clean, categorical=[4,5,6,7,8,9,10,11,12,13,14,15,16,17,18,19,20,21,22,23,24,25,26,27,28,29,30,31,32])\n",
    "\n",
    "# Print the cluster centroids\n",
    "print(kproto.cluster_centroids_)"
   ]
  },
  {
   "cell_type": "code",
   "execution_count": null,
   "id": "fca24be9",
   "metadata": {
    "id": "fca24be9"
   },
   "outputs": [],
   "source": [
    "#Get the clustering labels\n",
    "bus_clean['cluster_labels'] = kproto.labels_"
   ]
  },
  {
   "cell_type": "code",
   "execution_count": null,
   "id": "1b3f2b9f",
   "metadata": {
    "id": "1b3f2b9f",
    "outputId": "963f0a73-cf97-431b-b8a4-993c8bdf58b8",
    "scrolled": true
   },
   "outputs": [],
   "source": [
    "#Pairplot of numerical data in different labels\n",
    "bus_fin = bus_clean[['longitude','latitude','stars','review_count','cluster_labels']]\n",
    "import seaborn as sns\n",
    "sns.pairplot(hue='cluster_labels', data = bus_fin)"
   ]
  },
  {
   "cell_type": "markdown",
   "id": "ab707be3",
   "metadata": {
    "id": "ab707be3"
   },
   "source": [
    "Regarding numerical data, clustering tends to mirror the geographical distribution of businesses. Cluster 0 predominantly represents businesses in the upper-middle part of the map, while cluster 1 is skewed towards the upper-left part, and cluster 2 towards the lower part. Apart from geographical distribution of businesses, review_count also show effect on clustering. Higher review_count tend to be in cluster 2, while the lower review_count tend to be in cluster 1 and cluster 2 depending on their geographical location.\n",
    "\n",
    "As the pairplot can only explain the cluster for the numerical variables. Hence, to get to know more about the combination of attributes in each cluster that affect the clustering, we will use association rules to see the differences."
   ]
  },
  {
   "cell_type": "code",
   "execution_count": null,
   "id": "2ec145a4",
   "metadata": {
    "id": "2ec145a4",
    "outputId": "873ad1b5-eca4-41ed-ce12-782cc625cbda"
   },
   "outputs": [],
   "source": [
    "# Count the number of True values for each columnist\n",
    "true_counts = bus_clean.eq(True).sum()\n",
    "\n",
    "# Display the result\n",
    "print(true_counts)"
   ]
  },
  {
   "cell_type": "markdown",
   "id": "770d22ba",
   "metadata": {
    "id": "770d22ba"
   },
   "source": [
    "As some of the features are common for different restaurants, hence including those features in computing the association rules might not be useful, as it would be common across different cluster. Hence we choose to drop the attitude that was True for more than 20% of the business."
   ]
  },
  {
   "cell_type": "code",
   "execution_count": null,
   "id": "95493c52",
   "metadata": {
    "id": "95493c52"
   },
   "outputs": [],
   "source": [
    "#Preparing data set for apriori and association rule\n",
    "bus_asso = bus_clean.drop(columns = ['latitude','longitude','stars','review_count','BusinessAcceptsCreditCards', 'BikeParking', 'RestaurantsTakeOut','GoodForKids','RestaurantsGoodForGroups'])\n",
    "bus_0 = bus_asso[bus_clean['cluster_labels'] == 0].drop(columns = 'cluster_labels')\n",
    "bus_1 = bus_asso[bus_clean['cluster_labels'] == 1].drop(columns = 'cluster_labels')\n",
    "bus_2 = bus_asso[bus_clean['cluster_labels'] == 2].drop(columns = 'cluster_labels')"
   ]
  },
  {
   "cell_type": "code",
   "execution_count": null,
   "id": "22c5dd62",
   "metadata": {
    "id": "22c5dd62"
   },
   "outputs": [],
   "source": [
    "from mlxtend.frequent_patterns import apriori\n",
    "from mlxtend.frequent_patterns import association_rules\n",
    "from mlxtend.preprocessing import TransactionEncoder"
   ]
  },
  {
   "cell_type": "code",
   "execution_count": null,
   "id": "5b1b9d3b",
   "metadata": {
    "id": "5b1b9d3b",
    "outputId": "14e5c6d2-82be-41d5-de8d-82df8161f77b"
   },
   "outputs": [],
   "source": [
    "#Apriori for finding frequent set\n",
    "frequent_0 = apriori(bus_0, min_support=0.01,use_colnames=True).sort_values(by = 'support', ascending= False)\n",
    "frequent_1 = apriori(bus_1, min_support=0.01,use_colnames=True).sort_values(by = 'support', ascending= False)\n",
    "frequent_2 = apriori(bus_2, min_support=0.01,use_colnames=True).sort_values(by = 'support', ascending= False)\n",
    "display(frequent_0 , frequent_1, frequent_2)"
   ]
  },
  {
   "cell_type": "code",
   "execution_count": null,
   "id": "d71da8e5",
   "metadata": {
    "id": "d71da8e5",
    "outputId": "8be42520-c8e5-4947-f255-0cc31ff99c3c"
   },
   "outputs": [],
   "source": [
    "#Generating association rules\n",
    "bus0_r = association_rules(frequent_0, metric=\"support\", min_threshold=0.01).sort_values(by=\"support\", ascending=False)\n",
    "bus1_r = association_rules(frequent_1, metric=\"support\", min_threshold=0.01).sort_values(by=\"support\", ascending=False)\n",
    "bus2_r = association_rules(frequent_2, metric=\"support\", min_threshold=0.01).sort_values(by=\"support\", ascending=False)\n",
    "display(bus0_r.head(10),bus1_r.head(10),bus2_r.head(10))"
   ]
  },
  {
   "cell_type": "markdown",
   "id": "ca9fdd01",
   "metadata": {
    "id": "ca9fdd01"
   },
   "source": [
    "For different label, the most common combination of features are having restaurants delivery and has TV within the restaurants. From the third most common combinations, different clusters tend to have different popular combination of features. For the cluster 0, which are the business in upper middle part of US, having OutdoorSeating is more common than the other two clusters. For cluster 1 and 2, Caters is more common to be seen in the businesses."
   ]
  },
  {
   "cell_type": "markdown",
   "id": "ed23dca2",
   "metadata": {
    "id": "ed23dca2"
   },
   "source": [
    "# Next Steps:\n",
    "After conducting a thorough user segmentation analysis, our next focus is to delve deeper into market segmentation and conduct sentiment analysis on customer reviews.\n",
    "\n",
    "We will begin by leveraging Natural Language Processing (NLP) techniques to break down and analyze textual data, including customer reviews and business categories. Our objective is to perform sentiment analysis on reviews and utilize clustering to explore associations between businesses and customer emotions or specific keywords. This approach aims to identify keywords commonly associated with businesses, helping us understand user search behavior and preferences when seeking businesses to visit.\n",
    "\n",
    "For our initial analysis, we conducted a basic clustering on the businesses dataset to explore potential segments within the market based on various attributes and features. However, we faced limitations in including certain features, such as the categories of restaurants, which encompassed up to 1109 unique categories and we are unable to include it in our analysis. The challenge arose from the fact that a single business could fall into multiple categories while in the data cleaning process, we opted to select the first category in the list to represent each business. This approach caused some problems, for instance, businesses categorized as both cafes and food establishments, both falling under the broader category of restaurants, were treated as separate entities. We implemented an initial treatment by negating ‘Restaurants’ and picked the next category attribute as the primary category. This approach enhanced our association rule to an extent. However, there is still the lingering problem that categories like ‘Food’ still dominate the overall category.\n",
    "\n",
    "As we proceed with our analysis, we aim to leverage Natural Language Processing (NLP) techniques to identify similar categories and group them together to form more distinct business types. This will enhance the significance of our clustering analysis, allowing us to consider not only business attributes but also their types and associations. Given the abundance of categorical variables in our dataset, we may explore alternative methods such as Multiple Correspondence Analysis (MCA) for categorical variables and Principal Component Analysis (PCA) for numerical variables. This will help us assess whether our clustering approach can be further refined and improved.\n"
   ]
  },
  {
   "cell_type": "markdown",
   "id": "2945605f",
   "metadata": {
    "id": "6466aa75"
   },
   "source": [
    "# NLP for Review.json"
   ]
  },
  {
   "cell_type": "code",
   "execution_count": 9,
   "id": "81b98e12",
   "metadata": {
    "scrolled": true
   },
   "outputs": [
    {
     "name": "stdout",
     "output_type": "stream",
     "text": [
      "Defaulting to user installation because normal site-packages is not writeable\n",
      "Requirement already satisfied: gensim in ./.local/lib/python3.10/site-packages (4.3.2)\n",
      "Requirement already satisfied: numpy>=1.18.5 in /share/pkg.8/python3/3.10.12/install/lib/python3.10/site-packages (from gensim) (1.24.4)\n",
      "Requirement already satisfied: scipy>=1.7.0 in /share/pkg.8/python3/3.10.12/install/lib/python3.10/site-packages (from gensim) (1.11.1)\n",
      "Requirement already satisfied: smart-open>=1.8.1 in /share/pkg.8/python3/3.10.12/install/lib/python3.10/site-packages (from gensim) (6.3.0)\n",
      "Defaulting to user installation because normal site-packages is not writeable\n",
      "Requirement already satisfied: nltk in /share/pkg.8/python3/3.10.12/install/lib/python3.10/site-packages (3.8.1)\n",
      "Requirement already satisfied: click in /share/pkg.8/python3/3.10.12/install/lib/python3.10/site-packages (from nltk) (8.1.5)\n",
      "Requirement already satisfied: joblib in /share/pkg.8/python3/3.10.12/install/lib/python3.10/site-packages (from nltk) (1.3.1)\n",
      "Requirement already satisfied: regex>=2021.8.3 in /share/pkg.8/python3/3.10.12/install/lib/python3.10/site-packages (from nltk) (2023.6.3)\n",
      "Requirement already satisfied: tqdm in /share/pkg.8/python3/3.10.12/install/lib/python3.10/site-packages (from nltk) (4.65.0)\n",
      "Defaulting to user installation because normal site-packages is not writeable\n",
      "Requirement already satisfied: imbalanced-learn in ./.local/lib/python3.10/site-packages (0.12.0)\n",
      "Requirement already satisfied: numpy>=1.17.3 in /share/pkg.8/python3/3.10.12/install/lib/python3.10/site-packages (from imbalanced-learn) (1.24.4)\n",
      "Requirement already satisfied: scipy>=1.5.0 in /share/pkg.8/python3/3.10.12/install/lib/python3.10/site-packages (from imbalanced-learn) (1.11.1)\n",
      "Requirement already satisfied: scikit-learn>=1.0.2 in /share/pkg.8/python3/3.10.12/install/lib/python3.10/site-packages (from imbalanced-learn) (1.3.0)\n",
      "Requirement already satisfied: joblib>=1.1.1 in /share/pkg.8/python3/3.10.12/install/lib/python3.10/site-packages (from imbalanced-learn) (1.3.1)\n",
      "Requirement already satisfied: threadpoolctl>=2.0.0 in /share/pkg.8/python3/3.10.12/install/lib/python3.10/site-packages (from imbalanced-learn) (3.2.0)\n"
     ]
    }
   ],
   "source": [
    "!pip install gensim\n",
    "!pip install nltk\n",
    "!pip install -U imbalanced-learn"
   ]
  },
  {
   "cell_type": "code",
   "execution_count": 10,
   "id": "03aa521c",
   "metadata": {},
   "outputs": [],
   "source": [
    "from nltk.corpus import stopwords\n",
    "from nltk.tokenize import word_tokenize\n",
    "import gensim\n",
    "import nltk\n",
    "import gensim.downloader as api\n",
    "from gensim.models import Word2Vec\n",
    "\n",
    "from sklearn.model_selection import train_test_split\n",
    "from sklearn.preprocessing import StandardScaler\n",
    "from sklearn.metrics import classification_report, f1_score\n",
    "from imblearn.ensemble import BalancedBaggingClassifier\n",
    "from sklearn.metrics import confusion_matrix\n",
    "from sklearn.linear_model import LogisticRegression\n",
    "from imblearn.over_sampling import ADASYN"
   ]
  },
  {
   "cell_type": "markdown",
   "id": "e6d16919",
   "metadata": {},
   "source": [
    "#### Pre-processing"
   ]
  },
  {
   "cell_type": "markdown",
   "id": "84b5247e",
   "metadata": {},
   "source": [
    "Cleaning up and tokenizing..."
   ]
  },
  {
   "cell_type": "code",
   "execution_count": 11,
   "id": "067138fc",
   "metadata": {},
   "outputs": [
    {
     "data": {
      "text/html": [
       "<div>\n",
       "<style scoped>\n",
       "    .dataframe tbody tr th:only-of-type {\n",
       "        vertical-align: middle;\n",
       "    }\n",
       "\n",
       "    .dataframe tbody tr th {\n",
       "        vertical-align: top;\n",
       "    }\n",
       "\n",
       "    .dataframe thead th {\n",
       "        text-align: right;\n",
       "    }\n",
       "</style>\n",
       "<table border=\"1\" class=\"dataframe\">\n",
       "  <thead>\n",
       "    <tr style=\"text-align: right;\">\n",
       "      <th></th>\n",
       "      <th>review_id</th>\n",
       "      <th>user_id</th>\n",
       "      <th>business_id</th>\n",
       "      <th>stars</th>\n",
       "      <th>useful</th>\n",
       "      <th>funny</th>\n",
       "      <th>cool</th>\n",
       "      <th>text</th>\n",
       "      <th>date</th>\n",
       "    </tr>\n",
       "  </thead>\n",
       "  <tbody>\n",
       "    <tr>\n",
       "      <th>338961</th>\n",
       "      <td>iBUJvIOkToh2ZECVNq5PDg</td>\n",
       "      <td>iAD32p6h32eKDVxsPHSRHA</td>\n",
       "      <td>YB26JvvGS2LgkxEKOObSAw</td>\n",
       "      <td>5.0</td>\n",
       "      <td>0</td>\n",
       "      <td>0</td>\n",
       "      <td>0</td>\n",
       "      <td>I've been eating at this restaurant for over 5...</td>\n",
       "      <td>2021-01-08 01:49:36</td>\n",
       "    </tr>\n",
       "    <tr>\n",
       "      <th>341768</th>\n",
       "      <td>HgEofz6qEQqKYPT7YLA34w</td>\n",
       "      <td>rYvWv-Ny16b1lMcw1IP7JQ</td>\n",
       "      <td>jfIwOEXcVRyhZjM4ISOh4g</td>\n",
       "      <td>1.0</td>\n",
       "      <td>0</td>\n",
       "      <td>0</td>\n",
       "      <td>0</td>\n",
       "      <td>How does a delivery person from here get lost ...</td>\n",
       "      <td>2021-01-02 00:19:00</td>\n",
       "    </tr>\n",
       "    <tr>\n",
       "      <th>343516</th>\n",
       "      <td>milJ7UH4Od9pBe2gWac9tA</td>\n",
       "      <td>v7i4M7NIx3bMNMChaXjU7Q</td>\n",
       "      <td>raKflkp3CANr8N7qpQ3ZyQ</td>\n",
       "      <td>5.0</td>\n",
       "      <td>0</td>\n",
       "      <td>0</td>\n",
       "      <td>0</td>\n",
       "      <td>I WISH I was still a Sierra resident. They're ...</td>\n",
       "      <td>2021-02-02 18:14:15</td>\n",
       "    </tr>\n",
       "    <tr>\n",
       "      <th>344290</th>\n",
       "      <td>Kxo5d6EOnOE-vERwQf2a1w</td>\n",
       "      <td>2ntnbUia9Bna62W0fqNcxg</td>\n",
       "      <td>S-VD26LE_LeJNx5nASk_pw</td>\n",
       "      <td>5.0</td>\n",
       "      <td>0</td>\n",
       "      <td>0</td>\n",
       "      <td>0</td>\n",
       "      <td>The service is always good, the employees are ...</td>\n",
       "      <td>2021-01-26 18:01:45</td>\n",
       "    </tr>\n",
       "    <tr>\n",
       "      <th>347458</th>\n",
       "      <td>STqHwh6xd05bgS6FoAgRqw</td>\n",
       "      <td>j4qNLF-VNRF2DwBkUENW-w</td>\n",
       "      <td>yE1raqkLX7OZsjmX3qKIKg</td>\n",
       "      <td>5.0</td>\n",
       "      <td>0</td>\n",
       "      <td>0</td>\n",
       "      <td>0</td>\n",
       "      <td>two words: whipped. feta. \\nexplosion of amazi...</td>\n",
       "      <td>2021-01-27 23:28:03</td>\n",
       "    </tr>\n",
       "    <tr>\n",
       "      <th>...</th>\n",
       "      <td>...</td>\n",
       "      <td>...</td>\n",
       "      <td>...</td>\n",
       "      <td>...</td>\n",
       "      <td>...</td>\n",
       "      <td>...</td>\n",
       "      <td>...</td>\n",
       "      <td>...</td>\n",
       "      <td>...</td>\n",
       "    </tr>\n",
       "    <tr>\n",
       "      <th>434848</th>\n",
       "      <td>-AUV8Crcc7jTQq69wmtPnA</td>\n",
       "      <td>-GuODgw91nz0HaJGBd3wCw</td>\n",
       "      <td>NnHfPMXbY7IQI24lcYXKiQ</td>\n",
       "      <td>2.0</td>\n",
       "      <td>0</td>\n",
       "      <td>0</td>\n",
       "      <td>0</td>\n",
       "      <td>This place is just very okay when it comes to ...</td>\n",
       "      <td>2021-01-06 21:53:21</td>\n",
       "    </tr>\n",
       "    <tr>\n",
       "      <th>434849</th>\n",
       "      <td>xKd9IYFJ0o81nsZ2_qOJAQ</td>\n",
       "      <td>gx2KhvZBUtMa1D7PtfdkNQ</td>\n",
       "      <td>8ZY4F9_Drrjk7e79BWEwoQ</td>\n",
       "      <td>5.0</td>\n",
       "      <td>0</td>\n",
       "      <td>0</td>\n",
       "      <td>0</td>\n",
       "      <td>This staff is amazing! I went in on Saturday n...</td>\n",
       "      <td>2021-01-25 17:51:19</td>\n",
       "    </tr>\n",
       "    <tr>\n",
       "      <th>434850</th>\n",
       "      <td>aA8r4LzafBXw3GemhI4LZA</td>\n",
       "      <td>HjCh-JtBQwQbZSPN5-Fqwg</td>\n",
       "      <td>fGYnHzFr1z2kv7bPRW6VMA</td>\n",
       "      <td>5.0</td>\n",
       "      <td>0</td>\n",
       "      <td>0</td>\n",
       "      <td>0</td>\n",
       "      <td>Highly recommend this off the main drag restau...</td>\n",
       "      <td>2021-02-15 00:40:30</td>\n",
       "    </tr>\n",
       "    <tr>\n",
       "      <th>434851</th>\n",
       "      <td>-WtlQCn0oCQVyTwdyB63Ig</td>\n",
       "      <td>xttYXDJT9JokoiSTpirmjQ</td>\n",
       "      <td>q2N2KLhAeD0c0p-ryI3uDg</td>\n",
       "      <td>4.0</td>\n",
       "      <td>2</td>\n",
       "      <td>0</td>\n",
       "      <td>1</td>\n",
       "      <td>I'm a firm believer in second chances. I hit u...</td>\n",
       "      <td>2021-01-31 00:05:17</td>\n",
       "    </tr>\n",
       "    <tr>\n",
       "      <th>434852</th>\n",
       "      <td>2ujd7sitpNmxhoOM3C9u2g</td>\n",
       "      <td>N_fnkQKvYHn4lcBx5iuc4Q</td>\n",
       "      <td>xPSetcLWfl_3JoENfGf89w</td>\n",
       "      <td>5.0</td>\n",
       "      <td>0</td>\n",
       "      <td>0</td>\n",
       "      <td>0</td>\n",
       "      <td>Awesome service and great staff.  Had been wan...</td>\n",
       "      <td>2021-02-07 21:24:35</td>\n",
       "    </tr>\n",
       "  </tbody>\n",
       "</table>\n",
       "<p>1651 rows × 9 columns</p>\n",
       "</div>"
      ],
      "text/plain": [
       "                     review_id                 user_id  \\\n",
       "338961  iBUJvIOkToh2ZECVNq5PDg  iAD32p6h32eKDVxsPHSRHA   \n",
       "341768  HgEofz6qEQqKYPT7YLA34w  rYvWv-Ny16b1lMcw1IP7JQ   \n",
       "343516  milJ7UH4Od9pBe2gWac9tA  v7i4M7NIx3bMNMChaXjU7Q   \n",
       "344290  Kxo5d6EOnOE-vERwQf2a1w  2ntnbUia9Bna62W0fqNcxg   \n",
       "347458  STqHwh6xd05bgS6FoAgRqw  j4qNLF-VNRF2DwBkUENW-w   \n",
       "...                        ...                     ...   \n",
       "434848  -AUV8Crcc7jTQq69wmtPnA  -GuODgw91nz0HaJGBd3wCw   \n",
       "434849  xKd9IYFJ0o81nsZ2_qOJAQ  gx2KhvZBUtMa1D7PtfdkNQ   \n",
       "434850  aA8r4LzafBXw3GemhI4LZA  HjCh-JtBQwQbZSPN5-Fqwg   \n",
       "434851  -WtlQCn0oCQVyTwdyB63Ig  xttYXDJT9JokoiSTpirmjQ   \n",
       "434852  2ujd7sitpNmxhoOM3C9u2g  N_fnkQKvYHn4lcBx5iuc4Q   \n",
       "\n",
       "                   business_id  stars  useful  funny  cool  \\\n",
       "338961  YB26JvvGS2LgkxEKOObSAw    5.0       0      0     0   \n",
       "341768  jfIwOEXcVRyhZjM4ISOh4g    1.0       0      0     0   \n",
       "343516  raKflkp3CANr8N7qpQ3ZyQ    5.0       0      0     0   \n",
       "344290  S-VD26LE_LeJNx5nASk_pw    5.0       0      0     0   \n",
       "347458  yE1raqkLX7OZsjmX3qKIKg    5.0       0      0     0   \n",
       "...                        ...    ...     ...    ...   ...   \n",
       "434848  NnHfPMXbY7IQI24lcYXKiQ    2.0       0      0     0   \n",
       "434849  8ZY4F9_Drrjk7e79BWEwoQ    5.0       0      0     0   \n",
       "434850  fGYnHzFr1z2kv7bPRW6VMA    5.0       0      0     0   \n",
       "434851  q2N2KLhAeD0c0p-ryI3uDg    4.0       2      0     1   \n",
       "434852  xPSetcLWfl_3JoENfGf89w    5.0       0      0     0   \n",
       "\n",
       "                                                     text                date  \n",
       "338961  I've been eating at this restaurant for over 5... 2021-01-08 01:49:36  \n",
       "341768  How does a delivery person from here get lost ... 2021-01-02 00:19:00  \n",
       "343516  I WISH I was still a Sierra resident. They're ... 2021-02-02 18:14:15  \n",
       "344290  The service is always good, the employees are ... 2021-01-26 18:01:45  \n",
       "347458  two words: whipped. feta. \\nexplosion of amazi... 2021-01-27 23:28:03  \n",
       "...                                                   ...                 ...  \n",
       "434848  This place is just very okay when it comes to ... 2021-01-06 21:53:21  \n",
       "434849  This staff is amazing! I went in on Saturday n... 2021-01-25 17:51:19  \n",
       "434850  Highly recommend this off the main drag restau... 2021-02-15 00:40:30  \n",
       "434851  I'm a firm believer in second chances. I hit u... 2021-01-31 00:05:17  \n",
       "434852  Awesome service and great staff.  Had been wan... 2021-02-07 21:24:35  \n",
       "\n",
       "[1651 rows x 9 columns]"
      ]
     },
     "execution_count": 11,
     "metadata": {},
     "output_type": "execute_result"
    }
   ],
   "source": [
    "review_df['date'] = pd.to_datetime(review_df['date'])\n",
    "sliced = review_df[review_df['date'].dt.year >2020]\n",
    "\n",
    "sliced"
   ]
  },
  {
   "cell_type": "code",
   "execution_count": 12,
   "id": "6337a583",
   "metadata": {},
   "outputs": [
    {
     "data": {
      "text/plain": [
       "179"
      ]
     },
     "execution_count": 12,
     "metadata": {},
     "output_type": "execute_result"
    }
   ],
   "source": [
    "sliced['useful'].max()"
   ]
  },
  {
   "cell_type": "code",
   "execution_count": 13,
   "id": "23f8ec2a",
   "metadata": {
    "scrolled": false
   },
   "outputs": [
    {
     "data": {
      "image/png": "[encoded data removed]",
      "text/plain": [
       "<Figure size 640x480 with 1 Axes>"
      ]
     },
     "metadata": {},
     "output_type": "display_data"
    }
   ],
   "source": [
    "ax = sns.countplot(x='useful', data=sliced)\n",
    "ax.set_title('Distribution of Useful Reviews Counts')\n",
    "ax.set_ylabel('count')\n",
    "plt.show()"
   ]
  },
  {
   "cell_type": "markdown",
   "id": "5ba2719e",
   "metadata": {},
   "source": [
    "We are trying to classify them to a binary categorical variable: if the number of useful votes received for the review is greater or equal to 1, it will be \"useful,\" represented by 1; otherwise, it will be classified as \"not useful,\" represented by 0. We add it as a new column called \"label\" in dataset:"
   ]
  },
  {
   "cell_type": "code",
   "execution_count": 14,
   "id": "b3f15b90",
   "metadata": {},
   "outputs": [
    {
     "name": "stderr",
     "output_type": "stream",
     "text": [
      "/scratch/235991.1.ood/ipykernel_1619513/3399816307.py:1: SettingWithCopyWarning: \n",
      "A value is trying to be set on a copy of a slice from a DataFrame.\n",
      "Try using .loc[row_indexer,col_indexer] = value instead\n",
      "\n",
      "See the caveats in the documentation: https://pandas.pydata.org/pandas-docs/stable/user_guide/indexing.html#returning-a-view-versus-a-copy\n",
      "  sliced['label'] = (sliced['useful'] >= 1).astype(int)\n"
     ]
    }
   ],
   "source": [
    "sliced['label'] = (sliced['useful'] >= 1).astype(int)"
   ]
  },
  {
   "cell_type": "code",
   "execution_count": 15,
   "id": "6c4eeb5e",
   "metadata": {},
   "outputs": [
    {
     "data": {
      "text/html": [
       "<div>\n",
       "<style scoped>\n",
       "    .dataframe tbody tr th:only-of-type {\n",
       "        vertical-align: middle;\n",
       "    }\n",
       "\n",
       "    .dataframe tbody tr th {\n",
       "        vertical-align: top;\n",
       "    }\n",
       "\n",
       "    .dataframe thead th {\n",
       "        text-align: right;\n",
       "    }\n",
       "</style>\n",
       "<table border=\"1\" class=\"dataframe\">\n",
       "  <thead>\n",
       "    <tr style=\"text-align: right;\">\n",
       "      <th></th>\n",
       "      <th>review_id</th>\n",
       "      <th>user_id</th>\n",
       "      <th>business_id</th>\n",
       "      <th>stars</th>\n",
       "      <th>useful</th>\n",
       "      <th>funny</th>\n",
       "      <th>cool</th>\n",
       "      <th>text</th>\n",
       "      <th>date</th>\n",
       "      <th>label</th>\n",
       "    </tr>\n",
       "  </thead>\n",
       "  <tbody>\n",
       "    <tr>\n",
       "      <th>338961</th>\n",
       "      <td>iBUJvIOkToh2ZECVNq5PDg</td>\n",
       "      <td>iAD32p6h32eKDVxsPHSRHA</td>\n",
       "      <td>YB26JvvGS2LgkxEKOObSAw</td>\n",
       "      <td>5.0</td>\n",
       "      <td>0</td>\n",
       "      <td>0</td>\n",
       "      <td>0</td>\n",
       "      <td>I've been eating at this restaurant for over 5...</td>\n",
       "      <td>2021-01-08 01:49:36</td>\n",
       "      <td>0</td>\n",
       "    </tr>\n",
       "    <tr>\n",
       "      <th>341768</th>\n",
       "      <td>HgEofz6qEQqKYPT7YLA34w</td>\n",
       "      <td>rYvWv-Ny16b1lMcw1IP7JQ</td>\n",
       "      <td>jfIwOEXcVRyhZjM4ISOh4g</td>\n",
       "      <td>1.0</td>\n",
       "      <td>0</td>\n",
       "      <td>0</td>\n",
       "      <td>0</td>\n",
       "      <td>How does a delivery person from here get lost ...</td>\n",
       "      <td>2021-01-02 00:19:00</td>\n",
       "      <td>0</td>\n",
       "    </tr>\n",
       "    <tr>\n",
       "      <th>343516</th>\n",
       "      <td>milJ7UH4Od9pBe2gWac9tA</td>\n",
       "      <td>v7i4M7NIx3bMNMChaXjU7Q</td>\n",
       "      <td>raKflkp3CANr8N7qpQ3ZyQ</td>\n",
       "      <td>5.0</td>\n",
       "      <td>0</td>\n",
       "      <td>0</td>\n",
       "      <td>0</td>\n",
       "      <td>I WISH I was still a Sierra resident. They're ...</td>\n",
       "      <td>2021-02-02 18:14:15</td>\n",
       "      <td>0</td>\n",
       "    </tr>\n",
       "    <tr>\n",
       "      <th>344290</th>\n",
       "      <td>Kxo5d6EOnOE-vERwQf2a1w</td>\n",
       "      <td>2ntnbUia9Bna62W0fqNcxg</td>\n",
       "      <td>S-VD26LE_LeJNx5nASk_pw</td>\n",
       "      <td>5.0</td>\n",
       "      <td>0</td>\n",
       "      <td>0</td>\n",
       "      <td>0</td>\n",
       "      <td>The service is always good, the employees are ...</td>\n",
       "      <td>2021-01-26 18:01:45</td>\n",
       "      <td>0</td>\n",
       "    </tr>\n",
       "    <tr>\n",
       "      <th>347458</th>\n",
       "      <td>STqHwh6xd05bgS6FoAgRqw</td>\n",
       "      <td>j4qNLF-VNRF2DwBkUENW-w</td>\n",
       "      <td>yE1raqkLX7OZsjmX3qKIKg</td>\n",
       "      <td>5.0</td>\n",
       "      <td>0</td>\n",
       "      <td>0</td>\n",
       "      <td>0</td>\n",
       "      <td>two words: whipped. feta. \\nexplosion of amazi...</td>\n",
       "      <td>2021-01-27 23:28:03</td>\n",
       "      <td>0</td>\n",
       "    </tr>\n",
       "    <tr>\n",
       "      <th>...</th>\n",
       "      <td>...</td>\n",
       "      <td>...</td>\n",
       "      <td>...</td>\n",
       "      <td>...</td>\n",
       "      <td>...</td>\n",
       "      <td>...</td>\n",
       "      <td>...</td>\n",
       "      <td>...</td>\n",
       "      <td>...</td>\n",
       "      <td>...</td>\n",
       "    </tr>\n",
       "    <tr>\n",
       "      <th>434848</th>\n",
       "      <td>-AUV8Crcc7jTQq69wmtPnA</td>\n",
       "      <td>-GuODgw91nz0HaJGBd3wCw</td>\n",
       "      <td>NnHfPMXbY7IQI24lcYXKiQ</td>\n",
       "      <td>2.0</td>\n",
       "      <td>0</td>\n",
       "      <td>0</td>\n",
       "      <td>0</td>\n",
       "      <td>This place is just very okay when it comes to ...</td>\n",
       "      <td>2021-01-06 21:53:21</td>\n",
       "      <td>0</td>\n",
       "    </tr>\n",
       "    <tr>\n",
       "      <th>434849</th>\n",
       "      <td>xKd9IYFJ0o81nsZ2_qOJAQ</td>\n",
       "      <td>gx2KhvZBUtMa1D7PtfdkNQ</td>\n",
       "      <td>8ZY4F9_Drrjk7e79BWEwoQ</td>\n",
       "      <td>5.0</td>\n",
       "      <td>0</td>\n",
       "      <td>0</td>\n",
       "      <td>0</td>\n",
       "      <td>This staff is amazing! I went in on Saturday n...</td>\n",
       "      <td>2021-01-25 17:51:19</td>\n",
       "      <td>0</td>\n",
       "    </tr>\n",
       "    <tr>\n",
       "      <th>434850</th>\n",
       "      <td>aA8r4LzafBXw3GemhI4LZA</td>\n",
       "      <td>HjCh-JtBQwQbZSPN5-Fqwg</td>\n",
       "      <td>fGYnHzFr1z2kv7bPRW6VMA</td>\n",
       "      <td>5.0</td>\n",
       "      <td>0</td>\n",
       "      <td>0</td>\n",
       "      <td>0</td>\n",
       "      <td>Highly recommend this off the main drag restau...</td>\n",
       "      <td>2021-02-15 00:40:30</td>\n",
       "      <td>0</td>\n",
       "    </tr>\n",
       "    <tr>\n",
       "      <th>434851</th>\n",
       "      <td>-WtlQCn0oCQVyTwdyB63Ig</td>\n",
       "      <td>xttYXDJT9JokoiSTpirmjQ</td>\n",
       "      <td>q2N2KLhAeD0c0p-ryI3uDg</td>\n",
       "      <td>4.0</td>\n",
       "      <td>2</td>\n",
       "      <td>0</td>\n",
       "      <td>1</td>\n",
       "      <td>I'm a firm believer in second chances. I hit u...</td>\n",
       "      <td>2021-01-31 00:05:17</td>\n",
       "      <td>1</td>\n",
       "    </tr>\n",
       "    <tr>\n",
       "      <th>434852</th>\n",
       "      <td>2ujd7sitpNmxhoOM3C9u2g</td>\n",
       "      <td>N_fnkQKvYHn4lcBx5iuc4Q</td>\n",
       "      <td>xPSetcLWfl_3JoENfGf89w</td>\n",
       "      <td>5.0</td>\n",
       "      <td>0</td>\n",
       "      <td>0</td>\n",
       "      <td>0</td>\n",
       "      <td>Awesome service and great staff.  Had been wan...</td>\n",
       "      <td>2021-02-07 21:24:35</td>\n",
       "      <td>0</td>\n",
       "    </tr>\n",
       "  </tbody>\n",
       "</table>\n",
       "<p>1651 rows × 10 columns</p>\n",
       "</div>"
      ],
      "text/plain": [
       "                     review_id                 user_id  \\\n",
       "338961  iBUJvIOkToh2ZECVNq5PDg  iAD32p6h32eKDVxsPHSRHA   \n",
       "341768  HgEofz6qEQqKYPT7YLA34w  rYvWv-Ny16b1lMcw1IP7JQ   \n",
       "343516  milJ7UH4Od9pBe2gWac9tA  v7i4M7NIx3bMNMChaXjU7Q   \n",
       "344290  Kxo5d6EOnOE-vERwQf2a1w  2ntnbUia9Bna62W0fqNcxg   \n",
       "347458  STqHwh6xd05bgS6FoAgRqw  j4qNLF-VNRF2DwBkUENW-w   \n",
       "...                        ...                     ...   \n",
       "434848  -AUV8Crcc7jTQq69wmtPnA  -GuODgw91nz0HaJGBd3wCw   \n",
       "434849  xKd9IYFJ0o81nsZ2_qOJAQ  gx2KhvZBUtMa1D7PtfdkNQ   \n",
       "434850  aA8r4LzafBXw3GemhI4LZA  HjCh-JtBQwQbZSPN5-Fqwg   \n",
       "434851  -WtlQCn0oCQVyTwdyB63Ig  xttYXDJT9JokoiSTpirmjQ   \n",
       "434852  2ujd7sitpNmxhoOM3C9u2g  N_fnkQKvYHn4lcBx5iuc4Q   \n",
       "\n",
       "                   business_id  stars  useful  funny  cool  \\\n",
       "338961  YB26JvvGS2LgkxEKOObSAw    5.0       0      0     0   \n",
       "341768  jfIwOEXcVRyhZjM4ISOh4g    1.0       0      0     0   \n",
       "343516  raKflkp3CANr8N7qpQ3ZyQ    5.0       0      0     0   \n",
       "344290  S-VD26LE_LeJNx5nASk_pw    5.0       0      0     0   \n",
       "347458  yE1raqkLX7OZsjmX3qKIKg    5.0       0      0     0   \n",
       "...                        ...    ...     ...    ...   ...   \n",
       "434848  NnHfPMXbY7IQI24lcYXKiQ    2.0       0      0     0   \n",
       "434849  8ZY4F9_Drrjk7e79BWEwoQ    5.0       0      0     0   \n",
       "434850  fGYnHzFr1z2kv7bPRW6VMA    5.0       0      0     0   \n",
       "434851  q2N2KLhAeD0c0p-ryI3uDg    4.0       2      0     1   \n",
       "434852  xPSetcLWfl_3JoENfGf89w    5.0       0      0     0   \n",
       "\n",
       "                                                     text                date  \\\n",
       "338961  I've been eating at this restaurant for over 5... 2021-01-08 01:49:36   \n",
       "341768  How does a delivery person from here get lost ... 2021-01-02 00:19:00   \n",
       "343516  I WISH I was still a Sierra resident. They're ... 2021-02-02 18:14:15   \n",
       "344290  The service is always good, the employees are ... 2021-01-26 18:01:45   \n",
       "347458  two words: whipped. feta. \\nexplosion of amazi... 2021-01-27 23:28:03   \n",
       "...                                                   ...                 ...   \n",
       "434848  This place is just very okay when it comes to ... 2021-01-06 21:53:21   \n",
       "434849  This staff is amazing! I went in on Saturday n... 2021-01-25 17:51:19   \n",
       "434850  Highly recommend this off the main drag restau... 2021-02-15 00:40:30   \n",
       "434851  I'm a firm believer in second chances. I hit u... 2021-01-31 00:05:17   \n",
       "434852  Awesome service and great staff.  Had been wan... 2021-02-07 21:24:35   \n",
       "\n",
       "        label  \n",
       "338961      0  \n",
       "341768      0  \n",
       "343516      0  \n",
       "344290      0  \n",
       "347458      0  \n",
       "...       ...  \n",
       "434848      0  \n",
       "434849      0  \n",
       "434850      0  \n",
       "434851      1  \n",
       "434852      0  \n",
       "\n",
       "[1651 rows x 10 columns]"
      ]
     },
     "execution_count": 15,
     "metadata": {},
     "output_type": "execute_result"
    }
   ],
   "source": [
    "sliced"
   ]
  },
  {
   "cell_type": "markdown",
   "id": "567b6c4d",
   "metadata": {},
   "source": [
    "Is the dataset balanced?"
   ]
  },
  {
   "cell_type": "code",
   "execution_count": 16,
   "id": "43f0b8f3",
   "metadata": {},
   "outputs": [
    {
     "data": {
      "text/html": [
       "<div>\n",
       "<style scoped>\n",
       "    .dataframe tbody tr th:only-of-type {\n",
       "        vertical-align: middle;\n",
       "    }\n",
       "\n",
       "    .dataframe tbody tr th {\n",
       "        vertical-align: top;\n",
       "    }\n",
       "\n",
       "    .dataframe thead th {\n",
       "        text-align: right;\n",
       "    }\n",
       "</style>\n",
       "<table border=\"1\" class=\"dataframe\">\n",
       "  <thead>\n",
       "    <tr style=\"text-align: right;\">\n",
       "      <th></th>\n",
       "      <th>Counts</th>\n",
       "      <th>%</th>\n",
       "    </tr>\n",
       "    <tr>\n",
       "      <th>label</th>\n",
       "      <th></th>\n",
       "      <th></th>\n",
       "    </tr>\n",
       "  </thead>\n",
       "  <tbody>\n",
       "    <tr>\n",
       "      <th>0</th>\n",
       "      <td>1184</td>\n",
       "      <td>71.714113</td>\n",
       "    </tr>\n",
       "    <tr>\n",
       "      <th>1</th>\n",
       "      <td>467</td>\n",
       "      <td>28.285887</td>\n",
       "    </tr>\n",
       "  </tbody>\n",
       "</table>\n",
       "</div>"
      ],
      "text/plain": [
       "       Counts          %\n",
       "label                   \n",
       "0        1184  71.714113\n",
       "1         467  28.285887"
      ]
     },
     "execution_count": 16,
     "metadata": {},
     "output_type": "execute_result"
    }
   ],
   "source": [
    "value_counts = sliced[\"label\"].value_counts()\n",
    "\n",
    "percentages = sliced[\"label\"].value_counts(normalize=True) * 100\n",
    "\n",
    "pd.DataFrame({\n",
    "    'Counts': value_counts,\n",
    "    '%': percentages\n",
    "})"
   ]
  },
  {
   "cell_type": "code",
   "execution_count": 17,
   "id": "99d3ec26",
   "metadata": {},
   "outputs": [
    {
     "name": "stderr",
     "output_type": "stream",
     "text": [
      "[nltk_data] Downloading package stopwords to\n",
      "[nltk_data]     /usr4/ba820/tangyum/nltk_data...\n",
      "[nltk_data]   Package stopwords is already up-to-date!\n",
      "[nltk_data] Downloading package punkt to\n",
      "[nltk_data]     /usr4/ba820/tangyum/nltk_data...\n",
      "[nltk_data]   Package punkt is already up-to-date!\n",
      "/scratch/235991.1.ood/ipykernel_1619513/1048554754.py:4: SettingWithCopyWarning: \n",
      "A value is trying to be set on a copy of a slice from a DataFrame.\n",
      "Try using .loc[row_indexer,col_indexer] = value instead\n",
      "\n",
      "See the caveats in the documentation: https://pandas.pydata.org/pandas-docs/stable/user_guide/indexing.html#returning-a-view-versus-a-copy\n",
      "  sliced[\"text_prcessed\"] = sliced[\"text\"].str.lower()\n",
      "/scratch/235991.1.ood/ipykernel_1619513/1048554754.py:6: SettingWithCopyWarning: \n",
      "A value is trying to be set on a copy of a slice from a DataFrame.\n",
      "Try using .loc[row_indexer,col_indexer] = value instead\n",
      "\n",
      "See the caveats in the documentation: https://pandas.pydata.org/pandas-docs/stable/user_guide/indexing.html#returning-a-view-versus-a-copy\n",
      "  sliced[\"text_prcessed\"] = sliced[\"text_prcessed\"].replace('<br />', ' ', regex=True)\n",
      "/scratch/235991.1.ood/ipykernel_1619513/1048554754.py:8: SettingWithCopyWarning: \n",
      "A value is trying to be set on a copy of a slice from a DataFrame.\n",
      "Try using .loc[row_indexer,col_indexer] = value instead\n",
      "\n",
      "See the caveats in the documentation: https://pandas.pydata.org/pandas-docs/stable/user_guide/indexing.html#returning-a-view-versus-a-copy\n",
      "  sliced[\"text_prcessed\"] = sliced[\"text_prcessed\"].replace('[^\\w\\d\\s]', ' ', regex=True)\n",
      "/scratch/235991.1.ood/ipykernel_1619513/1048554754.py:21: SettingWithCopyWarning: \n",
      "A value is trying to be set on a copy of a slice from a DataFrame.\n",
      "Try using .loc[row_indexer,col_indexer] = value instead\n",
      "\n",
      "See the caveats in the documentation: https://pandas.pydata.org/pandas-docs/stable/user_guide/indexing.html#returning-a-view-versus-a-copy\n",
      "  sliced[\"tokenized\"] = tokenized_reviews\n"
     ]
    }
   ],
   "source": [
    "nltk.download('stopwords')\n",
    "nltk.download('punkt')\n",
    "\n",
    "sliced[\"text_prcessed\"] = sliced[\"text\"].str.lower()\n",
    "\n",
    "sliced[\"text_prcessed\"] = sliced[\"text_prcessed\"].replace('<br />', ' ', regex=True)\n",
    "\n",
    "sliced[\"text_prcessed\"] = sliced[\"text_prcessed\"].replace('[^\\w\\d\\s]', ' ', regex=True)\n",
    "\n",
    "\n",
    "tokenized_reviews = [word_tokenize(review) for review in sliced[\"text_prcessed\"]]\n",
    "\n",
    "# Get the list of English stop words\n",
    "stop_words = set(stopwords.words('english'))\n",
    "\n",
    "# Remove stop words\n",
    "for indx, tokens in enumerate(tokenized_reviews):\n",
    "  tokenized_reviews[indx] = [word for word in tokens if word not in stop_words]\n",
    "\n",
    "\n",
    "sliced[\"tokenized\"] = tokenized_reviews"
   ]
  },
  {
   "cell_type": "code",
   "execution_count": 18,
   "id": "1711310c",
   "metadata": {},
   "outputs": [
    {
     "data": {
      "text/html": [
       "<div>\n",
       "<style scoped>\n",
       "    .dataframe tbody tr th:only-of-type {\n",
       "        vertical-align: middle;\n",
       "    }\n",
       "\n",
       "    .dataframe tbody tr th {\n",
       "        vertical-align: top;\n",
       "    }\n",
       "\n",
       "    .dataframe thead th {\n",
       "        text-align: right;\n",
       "    }\n",
       "</style>\n",
       "<table border=\"1\" class=\"dataframe\">\n",
       "  <thead>\n",
       "    <tr style=\"text-align: right;\">\n",
       "      <th></th>\n",
       "      <th>review_id</th>\n",
       "      <th>user_id</th>\n",
       "      <th>business_id</th>\n",
       "      <th>stars</th>\n",
       "      <th>useful</th>\n",
       "      <th>funny</th>\n",
       "      <th>cool</th>\n",
       "      <th>text</th>\n",
       "      <th>date</th>\n",
       "      <th>label</th>\n",
       "      <th>text_prcessed</th>\n",
       "      <th>tokenized</th>\n",
       "    </tr>\n",
       "  </thead>\n",
       "  <tbody>\n",
       "    <tr>\n",
       "      <th>338961</th>\n",
       "      <td>iBUJvIOkToh2ZECVNq5PDg</td>\n",
       "      <td>iAD32p6h32eKDVxsPHSRHA</td>\n",
       "      <td>YB26JvvGS2LgkxEKOObSAw</td>\n",
       "      <td>5.0</td>\n",
       "      <td>0</td>\n",
       "      <td>0</td>\n",
       "      <td>0</td>\n",
       "      <td>I've been eating at this restaurant for over 5...</td>\n",
       "      <td>2021-01-08 01:49:36</td>\n",
       "      <td>0</td>\n",
       "      <td>i ve been eating at this restaurant for over 5...</td>\n",
       "      <td>[eating, restaurant, 5, years, staple, abs, fa...</td>\n",
       "    </tr>\n",
       "    <tr>\n",
       "      <th>341768</th>\n",
       "      <td>HgEofz6qEQqKYPT7YLA34w</td>\n",
       "      <td>rYvWv-Ny16b1lMcw1IP7JQ</td>\n",
       "      <td>jfIwOEXcVRyhZjM4ISOh4g</td>\n",
       "      <td>1.0</td>\n",
       "      <td>0</td>\n",
       "      <td>0</td>\n",
       "      <td>0</td>\n",
       "      <td>How does a delivery person from here get lost ...</td>\n",
       "      <td>2021-01-02 00:19:00</td>\n",
       "      <td>0</td>\n",
       "      <td>how does a delivery person from here get lost ...</td>\n",
       "      <td>[delivery, person, get, lost, heard, google, m...</td>\n",
       "    </tr>\n",
       "    <tr>\n",
       "      <th>343516</th>\n",
       "      <td>milJ7UH4Od9pBe2gWac9tA</td>\n",
       "      <td>v7i4M7NIx3bMNMChaXjU7Q</td>\n",
       "      <td>raKflkp3CANr8N7qpQ3ZyQ</td>\n",
       "      <td>5.0</td>\n",
       "      <td>0</td>\n",
       "      <td>0</td>\n",
       "      <td>0</td>\n",
       "      <td>I WISH I was still a Sierra resident. They're ...</td>\n",
       "      <td>2021-02-02 18:14:15</td>\n",
       "      <td>0</td>\n",
       "      <td>i wish i was still a sierra resident  they re ...</td>\n",
       "      <td>[wish, still, sierra, resident, definitely, on...</td>\n",
       "    </tr>\n",
       "    <tr>\n",
       "      <th>344290</th>\n",
       "      <td>Kxo5d6EOnOE-vERwQf2a1w</td>\n",
       "      <td>2ntnbUia9Bna62W0fqNcxg</td>\n",
       "      <td>S-VD26LE_LeJNx5nASk_pw</td>\n",
       "      <td>5.0</td>\n",
       "      <td>0</td>\n",
       "      <td>0</td>\n",
       "      <td>0</td>\n",
       "      <td>The service is always good, the employees are ...</td>\n",
       "      <td>2021-01-26 18:01:45</td>\n",
       "      <td>0</td>\n",
       "      <td>the service is always good  the employees are ...</td>\n",
       "      <td>[service, always, good, employees, nice, vegan...</td>\n",
       "    </tr>\n",
       "    <tr>\n",
       "      <th>347458</th>\n",
       "      <td>STqHwh6xd05bgS6FoAgRqw</td>\n",
       "      <td>j4qNLF-VNRF2DwBkUENW-w</td>\n",
       "      <td>yE1raqkLX7OZsjmX3qKIKg</td>\n",
       "      <td>5.0</td>\n",
       "      <td>0</td>\n",
       "      <td>0</td>\n",
       "      <td>0</td>\n",
       "      <td>two words: whipped. feta. \\nexplosion of amazi...</td>\n",
       "      <td>2021-01-27 23:28:03</td>\n",
       "      <td>0</td>\n",
       "      <td>two words  whipped  feta  \\nexplosion of amazi...</td>\n",
       "      <td>[two, words, whipped, feta, explosion, amazing...</td>\n",
       "    </tr>\n",
       "  </tbody>\n",
       "</table>\n",
       "</div>"
      ],
      "text/plain": [
       "                     review_id                 user_id  \\\n",
       "338961  iBUJvIOkToh2ZECVNq5PDg  iAD32p6h32eKDVxsPHSRHA   \n",
       "341768  HgEofz6qEQqKYPT7YLA34w  rYvWv-Ny16b1lMcw1IP7JQ   \n",
       "343516  milJ7UH4Od9pBe2gWac9tA  v7i4M7NIx3bMNMChaXjU7Q   \n",
       "344290  Kxo5d6EOnOE-vERwQf2a1w  2ntnbUia9Bna62W0fqNcxg   \n",
       "347458  STqHwh6xd05bgS6FoAgRqw  j4qNLF-VNRF2DwBkUENW-w   \n",
       "\n",
       "                   business_id  stars  useful  funny  cool  \\\n",
       "338961  YB26JvvGS2LgkxEKOObSAw    5.0       0      0     0   \n",
       "341768  jfIwOEXcVRyhZjM4ISOh4g    1.0       0      0     0   \n",
       "343516  raKflkp3CANr8N7qpQ3ZyQ    5.0       0      0     0   \n",
       "344290  S-VD26LE_LeJNx5nASk_pw    5.0       0      0     0   \n",
       "347458  yE1raqkLX7OZsjmX3qKIKg    5.0       0      0     0   \n",
       "\n",
       "                                                     text                date  \\\n",
       "338961  I've been eating at this restaurant for over 5... 2021-01-08 01:49:36   \n",
       "341768  How does a delivery person from here get lost ... 2021-01-02 00:19:00   \n",
       "343516  I WISH I was still a Sierra resident. They're ... 2021-02-02 18:14:15   \n",
       "344290  The service is always good, the employees are ... 2021-01-26 18:01:45   \n",
       "347458  two words: whipped. feta. \\nexplosion of amazi... 2021-01-27 23:28:03   \n",
       "\n",
       "        label                                      text_prcessed  \\\n",
       "338961      0  i ve been eating at this restaurant for over 5...   \n",
       "341768      0  how does a delivery person from here get lost ...   \n",
       "343516      0  i wish i was still a sierra resident  they re ...   \n",
       "344290      0  the service is always good  the employees are ...   \n",
       "347458      0  two words  whipped  feta  \\nexplosion of amazi...   \n",
       "\n",
       "                                                tokenized  \n",
       "338961  [eating, restaurant, 5, years, staple, abs, fa...  \n",
       "341768  [delivery, person, get, lost, heard, google, m...  \n",
       "343516  [wish, still, sierra, resident, definitely, on...  \n",
       "344290  [service, always, good, employees, nice, vegan...  \n",
       "347458  [two, words, whipped, feta, explosion, amazing...  "
      ]
     },
     "execution_count": 18,
     "metadata": {},
     "output_type": "execute_result"
    }
   ],
   "source": [
    "sliced.head()"
   ]
  },
  {
   "cell_type": "markdown",
   "id": "a52dd99e",
   "metadata": {},
   "source": [
    "### Vectorize:"
   ]
  },
  {
   "cell_type": "markdown",
   "id": "61087abf",
   "metadata": {},
   "source": [
    "Build the word embedding model."
   ]
  },
  {
   "cell_type": "code",
   "execution_count": 20,
   "id": "c123e9cc",
   "metadata": {},
   "outputs": [],
   "source": [
    "# build own model\n",
    "model_word2vec = Word2Vec(sentences=tokenized_reviews, vector_size=50, window=5, min_count=5, workers=2) # epochs= 50 # window= when the model is trained, we consider the total of 7 words\n",
    "model_word2vec = model_word2vec.wv\n",
    "\n",
    "# Or load a pre-trained model\n",
    "# model_word2vec = api.load('glove-wiki-gigaword-50') # glove-wiki-gigaword-50 # word2vec-google-news-300"
   ]
  },
  {
   "cell_type": "markdown",
   "id": "cb2e409f",
   "metadata": {},
   "source": [
    "Get the word embeddings."
   ]
  },
  {
   "cell_type": "code",
   "execution_count": 21,
   "id": "66388104",
   "metadata": {},
   "outputs": [
    {
     "name": "stderr",
     "output_type": "stream",
     "text": [
      "[nltk_data] Downloading package punkt to\n",
      "[nltk_data]     /usr4/ba820/tangyum/nltk_data...\n",
      "[nltk_data]   Package punkt is already up-to-date!\n"
     ]
    }
   ],
   "source": [
    "nltk.download('punkt')\n",
    "\n",
    "def get_word_embedding(word, model):\n",
    "    if word in model.key_to_index:\n",
    "        return model[word]\n",
    "    else:\n",
    "        return np.zeros(model.vector_size)\n",
    "\n",
    "\n",
    "embeddings = []\n",
    "for review in tokenized_reviews:\n",
    "  review_embeddings = [get_word_embedding(word, model_word2vec) for word in review ]\n",
    "  review_embedding = np.mean(review_embeddings if len(review_embeddings) >0 else [np.zeros(model_word2vec.vector_size)], axis=0)\n",
    "  embeddings = embeddings + [review_embedding]\n",
    "\n",
    "embeddings = np.array(embeddings)"
   ]
  },
  {
   "cell_type": "code",
   "execution_count": 22,
   "id": "f0c2712f",
   "metadata": {},
   "outputs": [
    {
     "data": {
      "text/plain": [
       "(1651, 50)"
      ]
     },
     "execution_count": 22,
     "metadata": {},
     "output_type": "execute_result"
    }
   ],
   "source": [
    "embeddings.shape"
   ]
  },
  {
   "cell_type": "code",
   "execution_count": 23,
   "id": "c1f6476d",
   "metadata": {},
   "outputs": [
    {
     "data": {
      "text/plain": [
       "array([[ 0.07968862, -0.04638077,  0.09254012, ..., -0.35994849,\n",
       "         0.38872409,  0.09190074],\n",
       "       [ 0.07469132, -0.04276871,  0.0906851 , ..., -0.34733394,\n",
       "         0.37477853,  0.08398223],\n",
       "       [ 0.07476348, -0.04857087,  0.08711258, ..., -0.32178029,\n",
       "         0.34432441,  0.08029408],\n",
       "       ...,\n",
       "       [ 0.06270592, -0.04133266,  0.08161178, ..., -0.30334867,\n",
       "         0.32494928,  0.07649445],\n",
       "       [ 0.05625146, -0.03420363,  0.06773921, ..., -0.26243635,\n",
       "         0.27943131,  0.06861685],\n",
       "       [ 0.07881081, -0.04341474,  0.08503136, ..., -0.33357608,\n",
       "         0.3545513 ,  0.09310486]])"
      ]
     },
     "execution_count": 23,
     "metadata": {},
     "output_type": "execute_result"
    }
   ],
   "source": [
    "embeddings"
   ]
  },
  {
   "cell_type": "markdown",
   "id": "366f62ad",
   "metadata": {},
   "source": [
    "### Classify"
   ]
  },
  {
   "cell_type": "markdown",
   "id": "5e76bb42",
   "metadata": {},
   "source": [
    "#### Without dealing with imbalanced data:"
   ]
  },
  {
   "cell_type": "code",
   "execution_count": 24,
   "id": "92b22de1",
   "metadata": {},
   "outputs": [
    {
     "name": "stdout",
     "output_type": "stream",
     "text": [
      "F1 Score (Weighted): 0.581846210348163\n",
      "              precision    recall  f1-score   support\n",
      "\n",
      "           0       0.77      0.55      0.64       239\n",
      "           1       0.33      0.58      0.42        92\n",
      "\n",
      "    accuracy                           0.56       331\n",
      "   macro avg       0.55      0.56      0.53       331\n",
      "weighted avg       0.65      0.56      0.58       331\n",
      "\n"
     ]
    }
   ],
   "source": [
    "X_train, X_test, y_train, y_test = train_test_split(\n",
    "    embeddings, sliced['label'], test_size=0.2, random_state=42\n",
    ")\n",
    "\n",
    "scaler = StandardScaler()\n",
    "X_train_scaled = scaler.fit_transform(X_train)\n",
    "X_test_scaled = scaler.transform(X_test)\n",
    "\n",
    "model_word2vec_classification = LogisticRegression(max_iter=1000, class_weight='balanced')\n",
    "\n",
    "model_word2vec_classification.fit(X_train_scaled, y_train)\n",
    "\n",
    "y_pred2 = model_word2vec_classification.predict(X_test_scaled)\n",
    "\n",
    "f1_score_weighted = f1_score(y_test, y_pred2, average='weighted')\n",
    "print(f\"F1 Score (Weighted): {f1_score_weighted}\")\n",
    "\n",
    "print(classification_report(y_test, y_pred2))"
   ]
  },
  {
   "cell_type": "markdown",
   "id": "827ed68f",
   "metadata": {},
   "source": [
    "#### Dealing with imbalance data:"
   ]
  },
  {
   "cell_type": "markdown",
   "id": "97a437d9",
   "metadata": {},
   "source": [
    "In this phase, since we are aware of the potential problem generated by imbalanced dataset, where 71.714% of the reviews are classified as useful and 28.286% as not useful, we use the *Balanced Bagging Classifier* to addresses the problem of imbalanced data by using random under sampling to balance the class distribution in each subset. This helps us to reduce the bias towards the majority class and improve the performance on the minority class, not usefule reviews.\n",
    "\n",
    "We also use *ADASYN* to balance our dataset by oversampling the minority class, generating a more balanced set of training data for effective model training, especially in cases of class imbalance."
   ]
  },
  {
   "cell_type": "markdown",
   "id": "abc944b0",
   "metadata": {},
   "source": [
    "#### Using ADASYN:"
   ]
  },
  {
   "cell_type": "code",
   "execution_count": 26,
   "id": "f878ad5b",
   "metadata": {},
   "outputs": [
    {
     "name": "stdout",
     "output_type": "stream",
     "text": [
      "F1 Score (Weighted): 0.5818061185580617\n",
      "              precision    recall  f1-score   support\n",
      "\n",
      "           0       0.77      0.56      0.65       239\n",
      "           1       0.33      0.57      0.42        92\n",
      "\n",
      "    accuracy                           0.56       331\n",
      "   macro avg       0.55      0.56      0.53       331\n",
      "weighted avg       0.65      0.56      0.58       331\n",
      "\n"
     ]
    },
    {
     "data": {
      "text/html": [
       "<div>\n",
       "<style scoped>\n",
       "    .dataframe tbody tr th:only-of-type {\n",
       "        vertical-align: middle;\n",
       "    }\n",
       "\n",
       "    .dataframe tbody tr th {\n",
       "        vertical-align: top;\n",
       "    }\n",
       "\n",
       "    .dataframe thead th {\n",
       "        text-align: right;\n",
       "    }\n",
       "</style>\n",
       "<table border=\"1\" class=\"dataframe\">\n",
       "  <thead>\n",
       "    <tr style=\"text-align: right;\">\n",
       "      <th></th>\n",
       "      <th>0</th>\n",
       "      <th>1</th>\n",
       "    </tr>\n",
       "  </thead>\n",
       "  <tbody>\n",
       "    <tr>\n",
       "      <th>0</th>\n",
       "      <td>0.556485</td>\n",
       "      <td>0.443515</td>\n",
       "    </tr>\n",
       "    <tr>\n",
       "      <th>1</th>\n",
       "      <td>0.434783</td>\n",
       "      <td>0.565217</td>\n",
       "    </tr>\n",
       "  </tbody>\n",
       "</table>\n",
       "</div>"
      ],
      "text/plain": [
       "          0         1\n",
       "0  0.556485  0.443515\n",
       "1  0.434783  0.565217"
      ]
     },
     "execution_count": 26,
     "metadata": {},
     "output_type": "execute_result"
    }
   ],
   "source": [
    "X_train, X_test, y_train, y_test = train_test_split(\n",
    "    embeddings, sliced['label'], test_size=0.2, random_state=42\n",
    ")\n",
    "\n",
    "scaler = StandardScaler()\n",
    "adasyn = ADASYN(random_state=42)\n",
    "\n",
    "X_train_scaled = scaler.fit_transform(X_train)\n",
    "\n",
    "X_train_adasyn, y_train_adasyn = adasyn.fit_resample(X_train_scaled, y_train)\n",
    "\n",
    "model_word2vec_classification = LogisticRegression(max_iter=1000, class_weight='balanced')\n",
    "\n",
    "model_word2vec_classification.fit(X_train_adasyn, y_train_adasyn)\n",
    "\n",
    "X_test_scaled = scaler.transform(X_test)\n",
    "\n",
    "y_pred2 = model_word2vec_classification.predict(X_test_scaled)\n",
    "\n",
    "f1_score_weighted = f1_score(y_test, y_pred2, average='weighted')\n",
    "print(f\"F1 Score (Weighted): {f1_score_weighted}\")\n",
    "\n",
    "print(classification_report(y_test, y_pred2))\n",
    "pd.DataFrame(confusion_matrix(y_test, y_pred2, normalize='true'), columns=model_word2vec_classification.classes_, index=model_word2vec_classification.classes_) "
   ]
  },
  {
   "cell_type": "markdown",
   "id": "f7e9fe10",
   "metadata": {},
   "source": [
    "#### Using Balanced Bagging Classifier:"
   ]
  },
  {
   "cell_type": "code",
   "execution_count": 27,
   "id": "2cc11452",
   "metadata": {},
   "outputs": [
    {
     "name": "stdout",
     "output_type": "stream",
     "text": [
      "F1 Score (Weighted): 0.6169792687090313\n",
      "              precision    recall  f1-score   support\n",
      "\n",
      "           0       0.75      0.67      0.71       239\n",
      "           1       0.33      0.42      0.37        92\n",
      "\n",
      "    accuracy                           0.60       331\n",
      "   macro avg       0.54      0.55      0.54       331\n",
      "weighted avg       0.64      0.60      0.62       331\n",
      "\n"
     ]
    },
    {
     "data": {
      "text/html": [
       "<div>\n",
       "<style scoped>\n",
       "    .dataframe tbody tr th:only-of-type {\n",
       "        vertical-align: middle;\n",
       "    }\n",
       "\n",
       "    .dataframe tbody tr th {\n",
       "        vertical-align: top;\n",
       "    }\n",
       "\n",
       "    .dataframe thead th {\n",
       "        text-align: right;\n",
       "    }\n",
       "</style>\n",
       "<table border=\"1\" class=\"dataframe\">\n",
       "  <thead>\n",
       "    <tr style=\"text-align: right;\">\n",
       "      <th></th>\n",
       "      <th>0</th>\n",
       "      <th>1</th>\n",
       "    </tr>\n",
       "  </thead>\n",
       "  <tbody>\n",
       "    <tr>\n",
       "      <th>0</th>\n",
       "      <td>0.673640</td>\n",
       "      <td>0.326360</td>\n",
       "    </tr>\n",
       "    <tr>\n",
       "      <th>1</th>\n",
       "      <td>0.576087</td>\n",
       "      <td>0.423913</td>\n",
       "    </tr>\n",
       "  </tbody>\n",
       "</table>\n",
       "</div>"
      ],
      "text/plain": [
       "          0         1\n",
       "0  0.673640  0.326360\n",
       "1  0.576087  0.423913"
      ]
     },
     "execution_count": 27,
     "metadata": {},
     "output_type": "execute_result"
    }
   ],
   "source": [
    "X_train, X_test, y_train, y_test = train_test_split(\n",
    "    embeddings, sliced['label'], test_size=0.2, random_state=42\n",
    ")\n",
    "\n",
    "scaler = StandardScaler()\n",
    "X_train_scaled = scaler.fit_transform(X_train)\n",
    "X_test_scaled = scaler.transform(X_test)\n",
    "\n",
    "model_word2vec_classification = BalancedBaggingClassifier(n_estimators=100, random_state=42)\n",
    "\n",
    "model_word2vec_classification.fit(X_train_scaled, y_train)\n",
    "\n",
    "y_pred2 = model_word2vec_classification.predict(X_test_scaled)\n",
    "\n",
    "f1_score_value = f1_score(y_test, y_pred2, average='weighted')\n",
    "print(f\"F1 Score (Weighted): {f1_score_value}\")\n",
    "\n",
    "print(classification_report(y_test, y_pred2))\n",
    "pd.DataFrame(confusion_matrix(y_test, y_pred2, normalize='true'), columns=model_word2vec_classification.classes_, index=model_word2vec_classification.classes_ )"
   ]
  },
  {
   "cell_type": "markdown",
   "id": "d9f025c1",
   "metadata": {},
   "source": [
    "#### Prediction:"
   ]
  },
  {
   "cell_type": "code",
   "execution_count": 28,
   "id": "a66b5412",
   "metadata": {},
   "outputs": [
    {
     "name": "stderr",
     "output_type": "stream",
     "text": [
      "/scratch/235877.1.ood/ipykernel_23254/1933126501.py:6: SettingWithCopyWarning: \n",
      "A value is trying to be set on a copy of a slice from a DataFrame.\n",
      "Try using .loc[row_indexer,col_indexer] = value instead\n",
      "\n",
      "See the caveats in the documentation: https://pandas.pydata.org/pandas-docs/stable/user_guide/indexing.html#returning-a-view-versus-a-copy\n",
      "  sliced['predicted_usefulness'] = all_predictions\n"
     ]
    },
    {
     "data": {
      "text/html": [
       "<div>\n",
       "<style scoped>\n",
       "    .dataframe tbody tr th:only-of-type {\n",
       "        vertical-align: middle;\n",
       "    }\n",
       "\n",
       "    .dataframe tbody tr th {\n",
       "        vertical-align: top;\n",
       "    }\n",
       "\n",
       "    .dataframe thead th {\n",
       "        text-align: right;\n",
       "    }\n",
       "</style>\n",
       "<table border=\"1\" class=\"dataframe\">\n",
       "  <thead>\n",
       "    <tr style=\"text-align: right;\">\n",
       "      <th></th>\n",
       "      <th>review_id</th>\n",
       "      <th>user_id</th>\n",
       "      <th>business_id</th>\n",
       "      <th>stars</th>\n",
       "      <th>useful</th>\n",
       "      <th>funny</th>\n",
       "      <th>cool</th>\n",
       "      <th>text</th>\n",
       "      <th>date</th>\n",
       "      <th>label</th>\n",
       "      <th>text_prcessed</th>\n",
       "      <th>tokenized</th>\n",
       "      <th>predicted_usefulness</th>\n",
       "    </tr>\n",
       "  </thead>\n",
       "  <tbody>\n",
       "    <tr>\n",
       "      <th>338961</th>\n",
       "      <td>iBUJvIOkToh2ZECVNq5PDg</td>\n",
       "      <td>iAD32p6h32eKDVxsPHSRHA</td>\n",
       "      <td>YB26JvvGS2LgkxEKOObSAw</td>\n",
       "      <td>5.0</td>\n",
       "      <td>0</td>\n",
       "      <td>0</td>\n",
       "      <td>0</td>\n",
       "      <td>I've been eating at this restaurant for over 5...</td>\n",
       "      <td>2021-01-08 01:49:36</td>\n",
       "      <td>0</td>\n",
       "      <td>i ve been eating at this restaurant for over 5...</td>\n",
       "      <td>[eating, restaurant, 5, years, staple, abs, fa...</td>\n",
       "      <td>0</td>\n",
       "    </tr>\n",
       "    <tr>\n",
       "      <th>341768</th>\n",
       "      <td>HgEofz6qEQqKYPT7YLA34w</td>\n",
       "      <td>rYvWv-Ny16b1lMcw1IP7JQ</td>\n",
       "      <td>jfIwOEXcVRyhZjM4ISOh4g</td>\n",
       "      <td>1.0</td>\n",
       "      <td>0</td>\n",
       "      <td>0</td>\n",
       "      <td>0</td>\n",
       "      <td>How does a delivery person from here get lost ...</td>\n",
       "      <td>2021-01-02 00:19:00</td>\n",
       "      <td>0</td>\n",
       "      <td>how does a delivery person from here get lost ...</td>\n",
       "      <td>[delivery, person, get, lost, heard, google, m...</td>\n",
       "      <td>0</td>\n",
       "    </tr>\n",
       "    <tr>\n",
       "      <th>343516</th>\n",
       "      <td>milJ7UH4Od9pBe2gWac9tA</td>\n",
       "      <td>v7i4M7NIx3bMNMChaXjU7Q</td>\n",
       "      <td>raKflkp3CANr8N7qpQ3ZyQ</td>\n",
       "      <td>5.0</td>\n",
       "      <td>0</td>\n",
       "      <td>0</td>\n",
       "      <td>0</td>\n",
       "      <td>I WISH I was still a Sierra resident. They're ...</td>\n",
       "      <td>2021-02-02 18:14:15</td>\n",
       "      <td>0</td>\n",
       "      <td>i wish i was still a sierra resident  they re ...</td>\n",
       "      <td>[wish, still, sierra, resident, definitely, on...</td>\n",
       "      <td>0</td>\n",
       "    </tr>\n",
       "    <tr>\n",
       "      <th>344290</th>\n",
       "      <td>Kxo5d6EOnOE-vERwQf2a1w</td>\n",
       "      <td>2ntnbUia9Bna62W0fqNcxg</td>\n",
       "      <td>S-VD26LE_LeJNx5nASk_pw</td>\n",
       "      <td>5.0</td>\n",
       "      <td>0</td>\n",
       "      <td>0</td>\n",
       "      <td>0</td>\n",
       "      <td>The service is always good, the employees are ...</td>\n",
       "      <td>2021-01-26 18:01:45</td>\n",
       "      <td>0</td>\n",
       "      <td>the service is always good  the employees are ...</td>\n",
       "      <td>[service, always, good, employees, nice, vegan...</td>\n",
       "      <td>0</td>\n",
       "    </tr>\n",
       "    <tr>\n",
       "      <th>347458</th>\n",
       "      <td>STqHwh6xd05bgS6FoAgRqw</td>\n",
       "      <td>j4qNLF-VNRF2DwBkUENW-w</td>\n",
       "      <td>yE1raqkLX7OZsjmX3qKIKg</td>\n",
       "      <td>5.0</td>\n",
       "      <td>0</td>\n",
       "      <td>0</td>\n",
       "      <td>0</td>\n",
       "      <td>two words: whipped. feta. \\nexplosion of amazi...</td>\n",
       "      <td>2021-01-27 23:28:03</td>\n",
       "      <td>0</td>\n",
       "      <td>two words  whipped  feta  \\nexplosion of amazi...</td>\n",
       "      <td>[two, words, whipped, feta, explosion, amazing...</td>\n",
       "      <td>0</td>\n",
       "    </tr>\n",
       "    <tr>\n",
       "      <th>...</th>\n",
       "      <td>...</td>\n",
       "      <td>...</td>\n",
       "      <td>...</td>\n",
       "      <td>...</td>\n",
       "      <td>...</td>\n",
       "      <td>...</td>\n",
       "      <td>...</td>\n",
       "      <td>...</td>\n",
       "      <td>...</td>\n",
       "      <td>...</td>\n",
       "      <td>...</td>\n",
       "      <td>...</td>\n",
       "      <td>...</td>\n",
       "    </tr>\n",
       "    <tr>\n",
       "      <th>434848</th>\n",
       "      <td>-AUV8Crcc7jTQq69wmtPnA</td>\n",
       "      <td>-GuODgw91nz0HaJGBd3wCw</td>\n",
       "      <td>NnHfPMXbY7IQI24lcYXKiQ</td>\n",
       "      <td>2.0</td>\n",
       "      <td>0</td>\n",
       "      <td>0</td>\n",
       "      <td>0</td>\n",
       "      <td>This place is just very okay when it comes to ...</td>\n",
       "      <td>2021-01-06 21:53:21</td>\n",
       "      <td>0</td>\n",
       "      <td>this place is just very okay when it comes to ...</td>\n",
       "      <td>[place, okay, comes, taste, portion, size, sma...</td>\n",
       "      <td>0</td>\n",
       "    </tr>\n",
       "    <tr>\n",
       "      <th>434849</th>\n",
       "      <td>xKd9IYFJ0o81nsZ2_qOJAQ</td>\n",
       "      <td>gx2KhvZBUtMa1D7PtfdkNQ</td>\n",
       "      <td>8ZY4F9_Drrjk7e79BWEwoQ</td>\n",
       "      <td>5.0</td>\n",
       "      <td>0</td>\n",
       "      <td>0</td>\n",
       "      <td>0</td>\n",
       "      <td>This staff is amazing! I went in on Saturday n...</td>\n",
       "      <td>2021-01-25 17:51:19</td>\n",
       "      <td>0</td>\n",
       "      <td>this staff is amazing  i went in on saturday n...</td>\n",
       "      <td>[staff, amazing, went, saturday, needing, brid...</td>\n",
       "      <td>0</td>\n",
       "    </tr>\n",
       "    <tr>\n",
       "      <th>434850</th>\n",
       "      <td>aA8r4LzafBXw3GemhI4LZA</td>\n",
       "      <td>HjCh-JtBQwQbZSPN5-Fqwg</td>\n",
       "      <td>fGYnHzFr1z2kv7bPRW6VMA</td>\n",
       "      <td>5.0</td>\n",
       "      <td>0</td>\n",
       "      <td>0</td>\n",
       "      <td>0</td>\n",
       "      <td>Highly recommend this off the main drag restau...</td>\n",
       "      <td>2021-02-15 00:40:30</td>\n",
       "      <td>0</td>\n",
       "      <td>highly recommend this off the main drag restau...</td>\n",
       "      <td>[highly, recommend, main, drag, restaurant, ad...</td>\n",
       "      <td>0</td>\n",
       "    </tr>\n",
       "    <tr>\n",
       "      <th>434851</th>\n",
       "      <td>-WtlQCn0oCQVyTwdyB63Ig</td>\n",
       "      <td>xttYXDJT9JokoiSTpirmjQ</td>\n",
       "      <td>q2N2KLhAeD0c0p-ryI3uDg</td>\n",
       "      <td>4.0</td>\n",
       "      <td>2</td>\n",
       "      <td>0</td>\n",
       "      <td>1</td>\n",
       "      <td>I'm a firm believer in second chances. I hit u...</td>\n",
       "      <td>2021-01-31 00:05:17</td>\n",
       "      <td>1</td>\n",
       "      <td>i m a firm believer in second chances  i hit u...</td>\n",
       "      <td>[firm, believer, second, chances, hit, hotbox,...</td>\n",
       "      <td>1</td>\n",
       "    </tr>\n",
       "    <tr>\n",
       "      <th>434852</th>\n",
       "      <td>2ujd7sitpNmxhoOM3C9u2g</td>\n",
       "      <td>N_fnkQKvYHn4lcBx5iuc4Q</td>\n",
       "      <td>xPSetcLWfl_3JoENfGf89w</td>\n",
       "      <td>5.0</td>\n",
       "      <td>0</td>\n",
       "      <td>0</td>\n",
       "      <td>0</td>\n",
       "      <td>Awesome service and great staff.  Had been wan...</td>\n",
       "      <td>2021-02-07 21:24:35</td>\n",
       "      <td>0</td>\n",
       "      <td>awesome service and great staff   had been wan...</td>\n",
       "      <td>[awesome, service, great, staff, wanting, eat,...</td>\n",
       "      <td>0</td>\n",
       "    </tr>\n",
       "  </tbody>\n",
       "</table>\n",
       "<p>1651 rows × 13 columns</p>\n",
       "</div>"
      ],
      "text/plain": [
       "                     review_id                 user_id  \\\n",
       "338961  iBUJvIOkToh2ZECVNq5PDg  iAD32p6h32eKDVxsPHSRHA   \n",
       "341768  HgEofz6qEQqKYPT7YLA34w  rYvWv-Ny16b1lMcw1IP7JQ   \n",
       "343516  milJ7UH4Od9pBe2gWac9tA  v7i4M7NIx3bMNMChaXjU7Q   \n",
       "344290  Kxo5d6EOnOE-vERwQf2a1w  2ntnbUia9Bna62W0fqNcxg   \n",
       "347458  STqHwh6xd05bgS6FoAgRqw  j4qNLF-VNRF2DwBkUENW-w   \n",
       "...                        ...                     ...   \n",
       "434848  -AUV8Crcc7jTQq69wmtPnA  -GuODgw91nz0HaJGBd3wCw   \n",
       "434849  xKd9IYFJ0o81nsZ2_qOJAQ  gx2KhvZBUtMa1D7PtfdkNQ   \n",
       "434850  aA8r4LzafBXw3GemhI4LZA  HjCh-JtBQwQbZSPN5-Fqwg   \n",
       "434851  -WtlQCn0oCQVyTwdyB63Ig  xttYXDJT9JokoiSTpirmjQ   \n",
       "434852  2ujd7sitpNmxhoOM3C9u2g  N_fnkQKvYHn4lcBx5iuc4Q   \n",
       "\n",
       "                   business_id  stars  useful  funny  cool  \\\n",
       "338961  YB26JvvGS2LgkxEKOObSAw    5.0       0      0     0   \n",
       "341768  jfIwOEXcVRyhZjM4ISOh4g    1.0       0      0     0   \n",
       "343516  raKflkp3CANr8N7qpQ3ZyQ    5.0       0      0     0   \n",
       "344290  S-VD26LE_LeJNx5nASk_pw    5.0       0      0     0   \n",
       "347458  yE1raqkLX7OZsjmX3qKIKg    5.0       0      0     0   \n",
       "...                        ...    ...     ...    ...   ...   \n",
       "434848  NnHfPMXbY7IQI24lcYXKiQ    2.0       0      0     0   \n",
       "434849  8ZY4F9_Drrjk7e79BWEwoQ    5.0       0      0     0   \n",
       "434850  fGYnHzFr1z2kv7bPRW6VMA    5.0       0      0     0   \n",
       "434851  q2N2KLhAeD0c0p-ryI3uDg    4.0       2      0     1   \n",
       "434852  xPSetcLWfl_3JoENfGf89w    5.0       0      0     0   \n",
       "\n",
       "                                                     text                date  \\\n",
       "338961  I've been eating at this restaurant for over 5... 2021-01-08 01:49:36   \n",
       "341768  How does a delivery person from here get lost ... 2021-01-02 00:19:00   \n",
       "343516  I WISH I was still a Sierra resident. They're ... 2021-02-02 18:14:15   \n",
       "344290  The service is always good, the employees are ... 2021-01-26 18:01:45   \n",
       "347458  two words: whipped. feta. \\nexplosion of amazi... 2021-01-27 23:28:03   \n",
       "...                                                   ...                 ...   \n",
       "434848  This place is just very okay when it comes to ... 2021-01-06 21:53:21   \n",
       "434849  This staff is amazing! I went in on Saturday n... 2021-01-25 17:51:19   \n",
       "434850  Highly recommend this off the main drag restau... 2021-02-15 00:40:30   \n",
       "434851  I'm a firm believer in second chances. I hit u... 2021-01-31 00:05:17   \n",
       "434852  Awesome service and great staff.  Had been wan... 2021-02-07 21:24:35   \n",
       "\n",
       "        label                                      text_prcessed  \\\n",
       "338961      0  i ve been eating at this restaurant for over 5...   \n",
       "341768      0  how does a delivery person from here get lost ...   \n",
       "343516      0  i wish i was still a sierra resident  they re ...   \n",
       "344290      0  the service is always good  the employees are ...   \n",
       "347458      0  two words  whipped  feta  \\nexplosion of amazi...   \n",
       "...       ...                                                ...   \n",
       "434848      0  this place is just very okay when it comes to ...   \n",
       "434849      0  this staff is amazing  i went in on saturday n...   \n",
       "434850      0  highly recommend this off the main drag restau...   \n",
       "434851      1  i m a firm believer in second chances  i hit u...   \n",
       "434852      0  awesome service and great staff   had been wan...   \n",
       "\n",
       "                                                tokenized  \\\n",
       "338961  [eating, restaurant, 5, years, staple, abs, fa...   \n",
       "341768  [delivery, person, get, lost, heard, google, m...   \n",
       "343516  [wish, still, sierra, resident, definitely, on...   \n",
       "344290  [service, always, good, employees, nice, vegan...   \n",
       "347458  [two, words, whipped, feta, explosion, amazing...   \n",
       "...                                                   ...   \n",
       "434848  [place, okay, comes, taste, portion, size, sma...   \n",
       "434849  [staff, amazing, went, saturday, needing, brid...   \n",
       "434850  [highly, recommend, main, drag, restaurant, ad...   \n",
       "434851  [firm, believer, second, chances, hit, hotbox,...   \n",
       "434852  [awesome, service, great, staff, wanting, eat,...   \n",
       "\n",
       "        predicted_usefulness  \n",
       "338961                     0  \n",
       "341768                     0  \n",
       "343516                     0  \n",
       "344290                     0  \n",
       "347458                     0  \n",
       "...                      ...  \n",
       "434848                     0  \n",
       "434849                     0  \n",
       "434850                     0  \n",
       "434851                     1  \n",
       "434852                     0  \n",
       "\n",
       "[1651 rows x 13 columns]"
      ]
     },
     "execution_count": 28,
     "metadata": {},
     "output_type": "execute_result"
    }
   ],
   "source": [
    "scaler = StandardScaler()\n",
    "X_scaled = scaler.fit_transform(embeddings)\n",
    "\n",
    "all_predictions = model_word2vec_classification.predict(X_scaled)\n",
    "\n",
    "sliced['predicted_usefulness'] = all_predictions\n",
    "sliced"
   ]
  },
  {
   "cell_type": "markdown",
   "id": "59c37c59",
   "metadata": {},
   "source": [
    "#### Using TFiDF to vectorize:"
   ]
  },
  {
   "cell_type": "code",
   "execution_count": 19,
   "id": "2a30b137",
   "metadata": {},
   "outputs": [
    {
     "data": {
      "text/html": [
       "<div>\n",
       "<style scoped>\n",
       "    .dataframe tbody tr th:only-of-type {\n",
       "        vertical-align: middle;\n",
       "    }\n",
       "\n",
       "    .dataframe tbody tr th {\n",
       "        vertical-align: top;\n",
       "    }\n",
       "\n",
       "    .dataframe thead th {\n",
       "        text-align: right;\n",
       "    }\n",
       "</style>\n",
       "<table border=\"1\" class=\"dataframe\">\n",
       "  <thead>\n",
       "    <tr style=\"text-align: right;\">\n",
       "      <th></th>\n",
       "      <th>00</th>\n",
       "      <th>000</th>\n",
       "      <th>00am</th>\n",
       "      <th>00pm</th>\n",
       "      <th>01</th>\n",
       "      <th>05</th>\n",
       "      <th>10</th>\n",
       "      <th>100</th>\n",
       "      <th>1000</th>\n",
       "      <th>101</th>\n",
       "      <th>...</th>\n",
       "      <th>zip</th>\n",
       "      <th>zircon</th>\n",
       "      <th>zone</th>\n",
       "      <th>zones</th>\n",
       "      <th>zoomed</th>\n",
       "      <th>zucchini</th>\n",
       "      <th>zukababy</th>\n",
       "      <th>zukka</th>\n",
       "      <th>zukku</th>\n",
       "      <th>³ordered</th>\n",
       "    </tr>\n",
       "  </thead>\n",
       "  <tbody>\n",
       "    <tr>\n",
       "      <th>0</th>\n",
       "      <td>0.0</td>\n",
       "      <td>0.0</td>\n",
       "      <td>0.0</td>\n",
       "      <td>0.0</td>\n",
       "      <td>0.0</td>\n",
       "      <td>0.0</td>\n",
       "      <td>0.0</td>\n",
       "      <td>0.000000</td>\n",
       "      <td>0.0</td>\n",
       "      <td>0.0</td>\n",
       "      <td>...</td>\n",
       "      <td>0.0</td>\n",
       "      <td>0.0</td>\n",
       "      <td>0.0</td>\n",
       "      <td>0.0</td>\n",
       "      <td>0.0</td>\n",
       "      <td>0.0</td>\n",
       "      <td>0.0</td>\n",
       "      <td>0.0</td>\n",
       "      <td>0.0</td>\n",
       "      <td>0.0</td>\n",
       "    </tr>\n",
       "    <tr>\n",
       "      <th>1</th>\n",
       "      <td>0.0</td>\n",
       "      <td>0.0</td>\n",
       "      <td>0.0</td>\n",
       "      <td>0.0</td>\n",
       "      <td>0.0</td>\n",
       "      <td>0.0</td>\n",
       "      <td>0.0</td>\n",
       "      <td>0.000000</td>\n",
       "      <td>0.0</td>\n",
       "      <td>0.0</td>\n",
       "      <td>...</td>\n",
       "      <td>0.0</td>\n",
       "      <td>0.0</td>\n",
       "      <td>0.0</td>\n",
       "      <td>0.0</td>\n",
       "      <td>0.0</td>\n",
       "      <td>0.0</td>\n",
       "      <td>0.0</td>\n",
       "      <td>0.0</td>\n",
       "      <td>0.0</td>\n",
       "      <td>0.0</td>\n",
       "    </tr>\n",
       "    <tr>\n",
       "      <th>2</th>\n",
       "      <td>0.0</td>\n",
       "      <td>0.0</td>\n",
       "      <td>0.0</td>\n",
       "      <td>0.0</td>\n",
       "      <td>0.0</td>\n",
       "      <td>0.0</td>\n",
       "      <td>0.0</td>\n",
       "      <td>0.000000</td>\n",
       "      <td>0.0</td>\n",
       "      <td>0.0</td>\n",
       "      <td>...</td>\n",
       "      <td>0.0</td>\n",
       "      <td>0.0</td>\n",
       "      <td>0.0</td>\n",
       "      <td>0.0</td>\n",
       "      <td>0.0</td>\n",
       "      <td>0.0</td>\n",
       "      <td>0.0</td>\n",
       "      <td>0.0</td>\n",
       "      <td>0.0</td>\n",
       "      <td>0.0</td>\n",
       "    </tr>\n",
       "    <tr>\n",
       "      <th>3</th>\n",
       "      <td>0.0</td>\n",
       "      <td>0.0</td>\n",
       "      <td>0.0</td>\n",
       "      <td>0.0</td>\n",
       "      <td>0.0</td>\n",
       "      <td>0.0</td>\n",
       "      <td>0.0</td>\n",
       "      <td>0.000000</td>\n",
       "      <td>0.0</td>\n",
       "      <td>0.0</td>\n",
       "      <td>...</td>\n",
       "      <td>0.0</td>\n",
       "      <td>0.0</td>\n",
       "      <td>0.0</td>\n",
       "      <td>0.0</td>\n",
       "      <td>0.0</td>\n",
       "      <td>0.0</td>\n",
       "      <td>0.0</td>\n",
       "      <td>0.0</td>\n",
       "      <td>0.0</td>\n",
       "      <td>0.0</td>\n",
       "    </tr>\n",
       "    <tr>\n",
       "      <th>4</th>\n",
       "      <td>0.0</td>\n",
       "      <td>0.0</td>\n",
       "      <td>0.0</td>\n",
       "      <td>0.0</td>\n",
       "      <td>0.0</td>\n",
       "      <td>0.0</td>\n",
       "      <td>0.0</td>\n",
       "      <td>0.000000</td>\n",
       "      <td>0.0</td>\n",
       "      <td>0.0</td>\n",
       "      <td>...</td>\n",
       "      <td>0.0</td>\n",
       "      <td>0.0</td>\n",
       "      <td>0.0</td>\n",
       "      <td>0.0</td>\n",
       "      <td>0.0</td>\n",
       "      <td>0.0</td>\n",
       "      <td>0.0</td>\n",
       "      <td>0.0</td>\n",
       "      <td>0.0</td>\n",
       "      <td>0.0</td>\n",
       "    </tr>\n",
       "    <tr>\n",
       "      <th>...</th>\n",
       "      <td>...</td>\n",
       "      <td>...</td>\n",
       "      <td>...</td>\n",
       "      <td>...</td>\n",
       "      <td>...</td>\n",
       "      <td>...</td>\n",
       "      <td>...</td>\n",
       "      <td>...</td>\n",
       "      <td>...</td>\n",
       "      <td>...</td>\n",
       "      <td>...</td>\n",
       "      <td>...</td>\n",
       "      <td>...</td>\n",
       "      <td>...</td>\n",
       "      <td>...</td>\n",
       "      <td>...</td>\n",
       "      <td>...</td>\n",
       "      <td>...</td>\n",
       "      <td>...</td>\n",
       "      <td>...</td>\n",
       "      <td>...</td>\n",
       "    </tr>\n",
       "    <tr>\n",
       "      <th>1646</th>\n",
       "      <td>0.0</td>\n",
       "      <td>0.0</td>\n",
       "      <td>0.0</td>\n",
       "      <td>0.0</td>\n",
       "      <td>0.0</td>\n",
       "      <td>0.0</td>\n",
       "      <td>0.0</td>\n",
       "      <td>0.000000</td>\n",
       "      <td>0.0</td>\n",
       "      <td>0.0</td>\n",
       "      <td>...</td>\n",
       "      <td>0.0</td>\n",
       "      <td>0.0</td>\n",
       "      <td>0.0</td>\n",
       "      <td>0.0</td>\n",
       "      <td>0.0</td>\n",
       "      <td>0.0</td>\n",
       "      <td>0.0</td>\n",
       "      <td>0.0</td>\n",
       "      <td>0.0</td>\n",
       "      <td>0.0</td>\n",
       "    </tr>\n",
       "    <tr>\n",
       "      <th>1647</th>\n",
       "      <td>0.0</td>\n",
       "      <td>0.0</td>\n",
       "      <td>0.0</td>\n",
       "      <td>0.0</td>\n",
       "      <td>0.0</td>\n",
       "      <td>0.0</td>\n",
       "      <td>0.0</td>\n",
       "      <td>0.000000</td>\n",
       "      <td>0.0</td>\n",
       "      <td>0.0</td>\n",
       "      <td>...</td>\n",
       "      <td>0.0</td>\n",
       "      <td>0.0</td>\n",
       "      <td>0.0</td>\n",
       "      <td>0.0</td>\n",
       "      <td>0.0</td>\n",
       "      <td>0.0</td>\n",
       "      <td>0.0</td>\n",
       "      <td>0.0</td>\n",
       "      <td>0.0</td>\n",
       "      <td>0.0</td>\n",
       "    </tr>\n",
       "    <tr>\n",
       "      <th>1648</th>\n",
       "      <td>0.0</td>\n",
       "      <td>0.0</td>\n",
       "      <td>0.0</td>\n",
       "      <td>0.0</td>\n",
       "      <td>0.0</td>\n",
       "      <td>0.0</td>\n",
       "      <td>0.0</td>\n",
       "      <td>5.770685</td>\n",
       "      <td>0.0</td>\n",
       "      <td>0.0</td>\n",
       "      <td>...</td>\n",
       "      <td>0.0</td>\n",
       "      <td>0.0</td>\n",
       "      <td>0.0</td>\n",
       "      <td>0.0</td>\n",
       "      <td>0.0</td>\n",
       "      <td>0.0</td>\n",
       "      <td>0.0</td>\n",
       "      <td>0.0</td>\n",
       "      <td>0.0</td>\n",
       "      <td>0.0</td>\n",
       "    </tr>\n",
       "    <tr>\n",
       "      <th>1649</th>\n",
       "      <td>0.0</td>\n",
       "      <td>0.0</td>\n",
       "      <td>0.0</td>\n",
       "      <td>0.0</td>\n",
       "      <td>0.0</td>\n",
       "      <td>0.0</td>\n",
       "      <td>0.0</td>\n",
       "      <td>0.000000</td>\n",
       "      <td>0.0</td>\n",
       "      <td>0.0</td>\n",
       "      <td>...</td>\n",
       "      <td>0.0</td>\n",
       "      <td>0.0</td>\n",
       "      <td>0.0</td>\n",
       "      <td>0.0</td>\n",
       "      <td>0.0</td>\n",
       "      <td>0.0</td>\n",
       "      <td>0.0</td>\n",
       "      <td>0.0</td>\n",
       "      <td>0.0</td>\n",
       "      <td>0.0</td>\n",
       "    </tr>\n",
       "    <tr>\n",
       "      <th>1650</th>\n",
       "      <td>0.0</td>\n",
       "      <td>0.0</td>\n",
       "      <td>0.0</td>\n",
       "      <td>0.0</td>\n",
       "      <td>0.0</td>\n",
       "      <td>0.0</td>\n",
       "      <td>0.0</td>\n",
       "      <td>0.000000</td>\n",
       "      <td>0.0</td>\n",
       "      <td>0.0</td>\n",
       "      <td>...</td>\n",
       "      <td>0.0</td>\n",
       "      <td>0.0</td>\n",
       "      <td>0.0</td>\n",
       "      <td>0.0</td>\n",
       "      <td>0.0</td>\n",
       "      <td>0.0</td>\n",
       "      <td>0.0</td>\n",
       "      <td>0.0</td>\n",
       "      <td>0.0</td>\n",
       "      <td>0.0</td>\n",
       "    </tr>\n",
       "  </tbody>\n",
       "</table>\n",
       "<p>1651 rows × 9242 columns</p>\n",
       "</div>"
      ],
      "text/plain": [
       "       00  000  00am  00pm   01   05   10       100  1000  101  ...  zip  \\\n",
       "0     0.0  0.0   0.0   0.0  0.0  0.0  0.0  0.000000   0.0  0.0  ...  0.0   \n",
       "1     0.0  0.0   0.0   0.0  0.0  0.0  0.0  0.000000   0.0  0.0  ...  0.0   \n",
       "2     0.0  0.0   0.0   0.0  0.0  0.0  0.0  0.000000   0.0  0.0  ...  0.0   \n",
       "3     0.0  0.0   0.0   0.0  0.0  0.0  0.0  0.000000   0.0  0.0  ...  0.0   \n",
       "4     0.0  0.0   0.0   0.0  0.0  0.0  0.0  0.000000   0.0  0.0  ...  0.0   \n",
       "...   ...  ...   ...   ...  ...  ...  ...       ...   ...  ...  ...  ...   \n",
       "1646  0.0  0.0   0.0   0.0  0.0  0.0  0.0  0.000000   0.0  0.0  ...  0.0   \n",
       "1647  0.0  0.0   0.0   0.0  0.0  0.0  0.0  0.000000   0.0  0.0  ...  0.0   \n",
       "1648  0.0  0.0   0.0   0.0  0.0  0.0  0.0  5.770685   0.0  0.0  ...  0.0   \n",
       "1649  0.0  0.0   0.0   0.0  0.0  0.0  0.0  0.000000   0.0  0.0  ...  0.0   \n",
       "1650  0.0  0.0   0.0   0.0  0.0  0.0  0.0  0.000000   0.0  0.0  ...  0.0   \n",
       "\n",
       "      zircon  zone  zones  zoomed  zucchini  zukababy  zukka  zukku  ³ordered  \n",
       "0        0.0   0.0    0.0     0.0       0.0       0.0    0.0    0.0       0.0  \n",
       "1        0.0   0.0    0.0     0.0       0.0       0.0    0.0    0.0       0.0  \n",
       "2        0.0   0.0    0.0     0.0       0.0       0.0    0.0    0.0       0.0  \n",
       "3        0.0   0.0    0.0     0.0       0.0       0.0    0.0    0.0       0.0  \n",
       "4        0.0   0.0    0.0     0.0       0.0       0.0    0.0    0.0       0.0  \n",
       "...      ...   ...    ...     ...       ...       ...    ...    ...       ...  \n",
       "1646     0.0   0.0    0.0     0.0       0.0       0.0    0.0    0.0       0.0  \n",
       "1647     0.0   0.0    0.0     0.0       0.0       0.0    0.0    0.0       0.0  \n",
       "1648     0.0   0.0    0.0     0.0       0.0       0.0    0.0    0.0       0.0  \n",
       "1649     0.0   0.0    0.0     0.0       0.0       0.0    0.0    0.0       0.0  \n",
       "1650     0.0   0.0    0.0     0.0       0.0       0.0    0.0    0.0       0.0  \n",
       "\n",
       "[1651 rows x 9242 columns]"
      ]
     },
     "execution_count": 19,
     "metadata": {},
     "output_type": "execute_result"
    }
   ],
   "source": [
    "from sklearn.feature_extraction.text import TfidfVectorizer\n",
    "\n",
    "tfidf_model = TfidfVectorizer(norm=None)\n",
    "\n",
    "tfidf_model.fit(sliced.text)\n",
    "\n",
    "df_tfidf_transformed = tfidf_model.transform(sliced.text)\n",
    "tfidf_vectors = pd.DataFrame(df_tfidf_transformed.toarray(), columns=tfidf_model.get_feature_names_out())\n",
    "tfidf_vectors"
   ]
  },
  {
   "cell_type": "code",
   "execution_count": 21,
   "id": "5463167e",
   "metadata": {},
   "outputs": [
    {
     "name": "stdout",
     "output_type": "stream",
     "text": [
      "F1 Score (Weighted): 0.6854383416683713\n",
      "              precision    recall  f1-score   support\n",
      "\n",
      "           0       0.79      0.75      0.77       239\n",
      "           1       0.43      0.49      0.46        92\n",
      "\n",
      "    accuracy                           0.68       331\n",
      "   macro avg       0.61      0.62      0.62       331\n",
      "weighted avg       0.69      0.68      0.69       331\n",
      "\n"
     ]
    },
    {
     "data": {
      "text/html": [
       "<div>\n",
       "<style scoped>\n",
       "    .dataframe tbody tr th:only-of-type {\n",
       "        vertical-align: middle;\n",
       "    }\n",
       "\n",
       "    .dataframe tbody tr th {\n",
       "        vertical-align: top;\n",
       "    }\n",
       "\n",
       "    .dataframe thead th {\n",
       "        text-align: right;\n",
       "    }\n",
       "</style>\n",
       "<table border=\"1\" class=\"dataframe\">\n",
       "  <thead>\n",
       "    <tr style=\"text-align: right;\">\n",
       "      <th></th>\n",
       "      <th>0</th>\n",
       "      <th>1</th>\n",
       "    </tr>\n",
       "  </thead>\n",
       "  <tbody>\n",
       "    <tr>\n",
       "      <th>0</th>\n",
       "      <td>0.753138</td>\n",
       "      <td>0.246862</td>\n",
       "    </tr>\n",
       "    <tr>\n",
       "      <th>1</th>\n",
       "      <td>0.510870</td>\n",
       "      <td>0.489130</td>\n",
       "    </tr>\n",
       "  </tbody>\n",
       "</table>\n",
       "</div>"
      ],
      "text/plain": [
       "          0         1\n",
       "0  0.753138  0.246862\n",
       "1  0.510870  0.489130"
      ]
     },
     "execution_count": 21,
     "metadata": {},
     "output_type": "execute_result"
    }
   ],
   "source": [
    "X_train, X_test, y_train, y_test = train_test_split(tfidf_vectors, sliced['label'], test_size=0.2, random_state=42)\n",
    "\n",
    "scaler = StandardScaler()\n",
    "X_train_scaled = scaler.fit_transform(X_train)\n",
    "X_test_scaled = scaler.transform(X_test)\n",
    "\n",
    "tfidf_classifier = BalancedBaggingClassifier(n_estimators=100, random_state=42)\n",
    "tfidf_classifier.fit(X_train_scaled, y_train)\n",
    "\n",
    "y_pred = tfidf_classifier.predict(X_test_scaled)\n",
    "\n",
    "f1_score_value = f1_score(y_test, y_pred, average='weighted')\n",
    "print(f\"F1 Score (Weighted): {f1_score_value}\")\n",
    "\n",
    "print(classification_report(y_test, y_pred))\n",
    "pd.DataFrame(confusion_matrix(y_test, y_pred, normalize='true'), columns=tfidf_classifier.classes_, index=tfidf_classifier.classes_ )"
   ]
  },
  {
   "cell_type": "markdown",
   "id": "7a600b7d",
   "metadata": {},
   "source": [
    "#### Using Bag of Words:"
   ]
  },
  {
   "cell_type": "code",
   "execution_count": 22,
   "id": "271341a2",
   "metadata": {},
   "outputs": [
    {
     "name": "stdout",
     "output_type": "stream",
     "text": [
      "number of `tokens` 9242\n"
     ]
    },
    {
     "data": {
      "text/plain": [
       "{'ve': 8777,\n",
       " 'been': 910,\n",
       " 'eating': 2726,\n",
       " 'at': 666,\n",
       " 'this': 8294,\n",
       " 'restaurant': 6838,\n",
       " 'for': 3349,\n",
       " 'over': 5771,\n",
       " 'years': 9181,\n",
       " 'and': 474,\n",
       " 'it': 4363,\n",
       " 'is': 4352,\n",
       " 'staple': 7773,\n",
       " 'in': 4169,\n",
       " 'me': 5102,\n",
       " 'abs': 208,\n",
       " 'my': 5413,\n",
       " 'families': 3106,\n",
       " 'lives': 4824,\n",
       " 'really': 6616,\n",
       " 'good': 3625,\n",
       " 'quality': 6504,\n",
       " 'even': 2942,\n",
       " 'better': 970,\n",
       " 'prices': 6357,\n",
       " 'can': 1385,\n",
       " 'eat': 2720,\n",
       " 'here': 3913,\n",
       " 'without': 9096,\n",
       " 'getting': 3557,\n",
       " 'the': 8259,\n",
       " 'gyoza': 3765,\n",
       " 'sauce': 7105,\n",
       " 'so': 7569,\n",
       " 'could': 2047,\n",
       " 'drink': 2637,\n",
       " 'don': 2566,\n",
       " 'typically': 8577,\n",
       " 'order': 5719,\n",
       " 'crunchy': 2159,\n",
       " 'rolls': 6960,\n",
       " 'but': 1309,\n",
       " 'theirs': 8263,\n",
       " 'isn': 4359,\n",
       " 'traditional': 8462,\n",
       " 'roll': 6956,\n",
       " 'with': 9094,\n",
       " 'snow': 7565,\n",
       " 'crab': 2084,\n",
       " 'crunchies': 2158,\n",
       " 'has': 3836,\n",
       " 'spicy': 7704,\n",
       " 'shrimp': 7385,\n",
       " 'stick': 7832,\n",
       " 'delicious': 2328,\n",
       " 'little': 4816,\n",
       " 'spot': 7725,\n",
       " 'how': 4052,\n",
       " 'does': 2550,\n",
       " 'delivery': 2341,\n",
       " 'person': 6028,\n",
       " 'from': 3444,\n",
       " 'get': 3554,\n",
       " 'lost': 4880,\n",
       " 'have': 3846,\n",
       " 'they': 8277,\n",
       " 'not': 5568,\n",
       " 'heard': 3870,\n",
       " 'of': 5640,\n",
       " 'google': 3634,\n",
       " 'maps': 5010,\n",
       " 'our': 5747,\n",
       " 'food': 3339,\n",
       " 'was': 8935,\n",
       " 'room': 6966,\n",
       " 'temp': 8194,\n",
       " 'on': 5683,\n",
       " 'verge': 8803,\n",
       " 'cold': 1789,\n",
       " 'by': 1329,\n",
       " 'time': 8337,\n",
       " 'we': 8975,\n",
       " 'received': 6630,\n",
       " 'an': 468,\n",
       " 'hour': 4044,\n",
       " 'half': 3787,\n",
       " 'after': 340,\n",
       " 'ordering': 5721,\n",
       " 'will': 9061,\n",
       " 'be': 882,\n",
       " 'again': 344,\n",
       " 'what': 9021,\n",
       " 'happened': 3821,\n",
       " 'to': 8367,\n",
       " 'melting': 5151,\n",
       " 'cheese': 1602,\n",
       " 'back': 755,\n",
       " 'day': 2256,\n",
       " 'now': 5583,\n",
       " 'excellent': 2972,\n",
       " 'navigation': 5453,\n",
       " 'wish': 9091,\n",
       " 'still': 7839,\n",
       " 'sierra': 7402,\n",
       " 'resident': 6818,\n",
       " 're': 6603,\n",
       " 'definitely': 2311,\n",
       " 'one': 5685,\n",
       " 'best': 967,\n",
       " 'property': 6425,\n",
       " 'management': 4986,\n",
       " 'companies': 1846,\n",
       " 'isla': 4356,\n",
       " 'vista': 8855,\n",
       " 'that': 8256,\n",
       " 'saying': 7120,\n",
       " 'something': 7600,\n",
       " 'super': 7984,\n",
       " 'easy': 2719,\n",
       " 'work': 9119,\n",
       " 'are': 585,\n",
       " 'great': 3679,\n",
       " 'comparison': 1853,\n",
       " 'other': 5741,\n",
       " 'landlords': 4639,\n",
       " 'iv': 4374,\n",
       " 'try': 8533,\n",
       " 'take': 8101,\n",
       " 'every': 2950,\n",
       " 'last': 4658,\n",
       " 'dime': 2444,\n",
       " 'you': 9198,\n",
       " 'give': 3578,\n",
       " 'service': 7263,\n",
       " 'always': 436,\n",
       " 'employees': 2811,\n",
       " 'nice': 5508,\n",
       " 'vegan': 8781,\n",
       " 'african': 339,\n",
       " 'loveeeeee': 4896,\n",
       " 'portions': 6249,\n",
       " 'sturdy': 7921,\n",
       " 'two': 8571,\n",
       " 'words': 9117,\n",
       " 'whipped': 9039,\n",
       " 'feta': 3184,\n",
       " 'explosion': 3033,\n",
       " 'amazingness': 445,\n",
       " 'hit': 3964,\n",
       " 'your': 9202,\n",
       " 'taste': 8144,\n",
       " 'buds': 1269,\n",
       " 'seriously': 7255,\n",
       " 'go': 3608,\n",
       " 'just': 4482,\n",
       " 'their': 8262,\n",
       " 'appetizer': 543,\n",
       " 'small': 7518,\n",
       " 'plates': 6164,\n",
       " 'split': 7713,\n",
       " 'between': 972,\n",
       " 'group': 3722,\n",
       " 'way': 8970,\n",
       " 'bunch': 1283,\n",
       " 'all': 394,\n",
       " 'once': 5684,\n",
       " 'also': 427,\n",
       " 'cozy': 2082,\n",
       " 'atmosphere': 670,\n",
       " 'warm': 8924,\n",
       " 'pita': 6130,\n",
       " 'nashville': 5434,\n",
       " 'gotta': 3642,\n",
       " 'some': 7596,\n",
       " 'bbq': 879,\n",
       " 'cousin': 2070,\n",
       " 'recommended': 6653,\n",
       " 'edley': 2744,\n",
       " 'first': 3247,\n",
       " 'ut': 8739,\n",
       " 'awesome': 734,\n",
       " 'he': 3856,\n",
       " 'assisted': 653,\n",
       " 'sister': 7446,\n",
       " 'as': 624,\n",
       " 'dined': 2447,\n",
       " 'extra': 3049,\n",
       " 'napkins': 5431,\n",
       " 'made': 4943,\n",
       " 'sure': 8013,\n",
       " 'tried': 8503,\n",
       " 'smoked': 7529,\n",
       " 'pastrami': 5923,\n",
       " 'please': 6184,\n",
       " 'let': 4745,\n",
       " 'forget': 3358,\n",
       " 'say': 7118,\n",
       " 'arrived': 605,\n",
       " 'around': 599,\n",
       " '30pm': 105,\n",
       " 'did': 2421,\n",
       " 'ribs': 6885,\n",
       " 'wanted': 8916,\n",
       " 'she': 7314,\n",
       " 'had': 3774,\n",
       " 'change': 1549,\n",
       " 'up': 8695,\n",
       " 'ordered': 5720,\n",
       " 'turkey': 8546,\n",
       " 'macaroni': 4936,\n",
       " 'green': 3687,\n",
       " 'beans': 887,\n",
       " 'beef': 909,\n",
       " 'brisket': 1208,\n",
       " 'potato': 6266,\n",
       " 'salad': 7049,\n",
       " 'chicken': 1624,\n",
       " 'tortilla': 8420,\n",
       " 'soup': 7639,\n",
       " 'overall': 5772,\n",
       " 'enjoyed': 2853,\n",
       " 'meal': 5104,\n",
       " 'platters': 6171,\n",
       " 'which': 9033,\n",
       " 'included': 4177,\n",
       " 'cornbread': 2021,\n",
       " 'place': 6148,\n",
       " 'well': 9008,\n",
       " 'parking': 5887,\n",
       " 'although': 434,\n",
       " 'need': 5469,\n",
       " 'vent': 8793,\n",
       " 'doesn': 2551,\n",
       " 'too': 8403,\n",
       " 'smoky': 7535,\n",
       " 'inside': 4256,\n",
       " 'open': 5695,\n",
       " 'front': 3445,\n",
       " 'door': 2577,\n",
       " 'salon': 7057,\n",
       " 'pretty': 6346,\n",
       " 'busy': 1308,\n",
       " 'idea': 4118,\n",
       " 'schedule': 7142,\n",
       " 'appointment': 551,\n",
       " 'lots': 4882,\n",
       " 'pedicure': 5976,\n",
       " 'chairs': 1537,\n",
       " 'very': 8810,\n",
       " 'clean': 1716,\n",
       " 'used': 8729,\n",
       " 'single': 7436,\n",
       " 'use': 8728,\n",
       " 'basin': 860,\n",
       " 'liners': 4796,\n",
       " 'gel': 3528,\n",
       " 'dip': 2457,\n",
       " 'powder': 6280,\n",
       " 'manicures': 5000,\n",
       " 'plexiglass': 6191,\n",
       " 'barriers': 842,\n",
       " 'upon': 8708,\n",
       " 'coffee': 1783,\n",
       " 'shop': 7350,\n",
       " 'while': 9035,\n",
       " 'looking': 4866,\n",
       " 'breakfast': 1170,\n",
       " 'sandwich': 7084,\n",
       " 'were': 9014,\n",
       " 'came': 1378,\n",
       " 'lunch': 4918,\n",
       " 'disappointed': 2474,\n",
       " 'highly': 3936,\n",
       " 'recommend': 6650,\n",
       " 'anyone': 515,\n",
       " 'area': 586,\n",
       " 'cafe': 1347,\n",
       " 'grundy': 3732,\n",
       " 'communicate': 1838,\n",
       " 'bit': 1007,\n",
       " 'deliberate': 2324,\n",
       " 'process': 6389,\n",
       " 'efficient': 2753,\n",
       " 'professional': 6399,\n",
       " 'saved': 7113,\n",
       " '200': 63,\n",
       " 'premium': 6313,\n",
       " 'vs': 8874,\n",
       " 'original': 5731,\n",
       " 'carrier': 1446,\n",
       " 'find': 3223,\n",
       " 'through': 8312,\n",
       " 'yelp': 9187,\n",
       " 'fair': 3088,\n",
       " 'superb': 7986,\n",
       " 'churrasco': 1682,\n",
       " 'con': 1891,\n",
       " 'mofongo': 5310,\n",
       " 'negative': 5474,\n",
       " 'note': 5571,\n",
       " 'no': 5537,\n",
       " 'kids': 4545,\n",
       " 'menu': 5169,\n",
       " 'if': 4125,\n",
       " 'want': 8915,\n",
       " 'experience': 3013,\n",
       " 'real': 6611,\n",
       " 'prican': 6354,\n",
       " 'dinner': 2453,\n",
       " 'cheesecake': 1604,\n",
       " 'guava': 3737,\n",
       " 'flan': 3273,\n",
       " 'both': 1119,\n",
       " 'tasted': 8145,\n",
       " 'like': 4775,\n",
       " 'island': 4357,\n",
       " 'got': 3641,\n",
       " 'authentic': 700,\n",
       " 'chips': 1652,\n",
       " 'homemade': 3991,\n",
       " 'salsa': 7058,\n",
       " 'fajitas': 3094,\n",
       " 'cooked': 2003,\n",
       " 'right': 6904,\n",
       " 'chili': 1635,\n",
       " 'relleno': 6734,\n",
       " 'perfectly': 6016,\n",
       " 'tender': 8207,\n",
       " 'cut': 2205,\n",
       " 'fork': 3364,\n",
       " 'amazing': 442,\n",
       " 'amount': 460,\n",
       " 'jalapeño': 4390,\n",
       " 'hot': 4036,\n",
       " 'sour': 7641,\n",
       " 'cream': 2104,\n",
       " 'mom': 5323,\n",
       " 'pop': 6233,\n",
       " 'mexican': 5195,\n",
       " 'eatery': 2725,\n",
       " 'waitress': 8895,\n",
       " 'rae': 6542,\n",
       " 'ask': 634,\n",
       " 'her': 3908,\n",
       " 'when': 9028,\n",
       " 'disappointing': 2475,\n",
       " 'away': 732,\n",
       " 'told': 8382,\n",
       " 'phone': 6065,\n",
       " 'then': 8268,\n",
       " 'reduced': 6671,\n",
       " 'realized': 6614,\n",
       " 'early': 2705,\n",
       " 'earlier': 2703,\n",
       " 'calling': 1368,\n",
       " 'out': 5751,\n",
       " 'pointing': 6210,\n",
       " 'pickup': 6086,\n",
       " 'receipt': 6628,\n",
       " 'didn': 2422,\n",
       " 'yet': 9191,\n",
       " 'found': 3381,\n",
       " 'there': 8273,\n",
       " '10': 6,\n",
       " 'covid': 2077,\n",
       " 'surcharge': 8012,\n",
       " 'considering': 1944,\n",
       " 'tip': 8348,\n",
       " '20': 62,\n",
       " 'carry': 1450,\n",
       " 'these': 8275,\n",
       " 'days': 2258,\n",
       " 'sucks': 7950,\n",
       " 'would': 9139,\n",
       " 'least': 4711,\n",
       " 'expect': 3003,\n",
       " 'or': 5717,\n",
       " 'apology': 531,\n",
       " 'confusion': 1929,\n",
       " 'instead': 4279,\n",
       " 'blaming': 1028,\n",
       " 'certainly': 1521,\n",
       " 'll': 4826,\n",
       " 'return': 6864,\n",
       " 'absolutely': 212,\n",
       " 'incredible': 4195,\n",
       " 'ever': 2948,\n",
       " 'martinis': 5043,\n",
       " 'must': 5407,\n",
       " 'tequila': 8218,\n",
       " 'old': 5666,\n",
       " 'fashion': 3122,\n",
       " 'risotto': 6921,\n",
       " 'veal': 8778,\n",
       " 'white': 9041,\n",
       " 'bolognese': 1090,\n",
       " 'cacio': 1341,\n",
       " 'pepe': 5999,\n",
       " 'trying': 8534,\n",
       " 'pizza': 6140,\n",
       " 'asked': 635,\n",
       " 'cesar': 1527,\n",
       " 'actually': 278,\n",
       " 'fresh': 3419,\n",
       " 'parmesan': 5890,\n",
       " 'wings': 9075,\n",
       " 'nicely': 5509,\n",
       " 'done': 2568,\n",
       " 'believe': 932,\n",
       " 'buffalo': 1270,\n",
       " 'should': 7367,\n",
       " 'more': 5346,\n",
       " 'nonetheless': 5549,\n",
       " 'beautifully': 896,\n",
       " 'tasty': 8153,\n",
       " 'wow': 9143,\n",
       " 'sorry': 7627,\n",
       " 'hadn': 3775,\n",
       " 'sooner': 7615,\n",
       " 'everything': 2954,\n",
       " 'view': 8829,\n",
       " 'tampa': 8121,\n",
       " 'bay': 876,\n",
       " 'watching': 8953,\n",
       " 'boats': 1075,\n",
       " 'breeze': 1178,\n",
       " 'water': 8954,\n",
       " 'keeps': 4520,\n",
       " 'cool': 2008,\n",
       " 'ribeye': 6884,\n",
       " 'steak': 7807,\n",
       " 'doubt': 2586,\n",
       " 'eaten': 2721,\n",
       " 'onions': 5689,\n",
       " 'grilled': 3702,\n",
       " 'tomatoes': 8389,\n",
       " 'topped': 8411,\n",
       " 'melted': 5150,\n",
       " 'provolone': 6445,\n",
       " 'baked': 782,\n",
       " 'fries': 3437,\n",
       " 'truffle': 8526,\n",
       " 'aolie': 522,\n",
       " 'sends': 7242,\n",
       " 'dish': 2499,\n",
       " 'top': 8410,\n",
       " 'wife': 9053,\n",
       " 'wing': 9074,\n",
       " 'platter': 6170,\n",
       " 'crispt': 2129,\n",
       " 'perfect': 6013,\n",
       " 'bourbon': 1133,\n",
       " 'deliciously': 2329,\n",
       " 'sweet': 8046,\n",
       " 'tangy': 8126,\n",
       " 'rude': 7000,\n",
       " 'poor': 6231,\n",
       " 'excuse': 2987,\n",
       " 'woman': 9102,\n",
       " 'said': 7043,\n",
       " 'went': 9013,\n",
       " 'somewhere': 7604,\n",
       " 'else': 2791,\n",
       " 'saw': 7117,\n",
       " 'furniture': 3480,\n",
       " 'looked': 4865,\n",
       " 'crappy': 2097,\n",
       " 'display': 2515,\n",
       " 'stars': 7780,\n",
       " 'ce': 1497,\n",
       " 'provider': 6441,\n",
       " 'life': 4764,\n",
       " 'company': 1848,\n",
       " 'rare': 6579,\n",
       " 'age': 346,\n",
       " 'integrity': 4296,\n",
       " 'do': 2543,\n",
       " 'thing': 8287,\n",
       " 'though': 8300,\n",
       " 'meant': 5110,\n",
       " 'zero': 9224,\n",
       " 'profit': 6405,\n",
       " 'them': 8264,\n",
       " 'industry': 4217,\n",
       " 'decades': 2282,\n",
       " 'hopped': 4016,\n",
       " 'several': 7282,\n",
       " 'providers': 6442,\n",
       " 'various': 8772,\n",
       " 'reasons': 6622,\n",
       " 'search': 7186,\n",
       " 'stops': 7859,\n",
       " 'expectations': 3005,\n",
       " 'exceeded': 2969,\n",
       " 'thank': 8249,\n",
       " 'drinks': 2641,\n",
       " 'town': 8453,\n",
       " 'local': 4838,\n",
       " 'gem': 3531,\n",
       " 'never': 5498,\n",
       " 'lets': 4746,\n",
       " 'down': 2595,\n",
       " 'cocktails': 1776,\n",
       " 'garnishes': 3513,\n",
       " 'lovely': 4897,\n",
       " 'literally': 4815,\n",
       " 'melt': 5149,\n",
       " 'mouth': 5367,\n",
       " 'maneuver': 4993,\n",
       " 'business': 1305,\n",
       " 'during': 2688,\n",
       " 'am': 437,\n",
       " 'impressed': 4160,\n",
       " 'much': 5381,\n",
       " 'keep': 4517,\n",
       " 'establishment': 2919,\n",
       " 'safe': 7037,\n",
       " 'witnessed': 9097,\n",
       " 'altercations': 430,\n",
       " 'cry': 2165,\n",
       " 'baby': 749,\n",
       " 'es': 2904,\n",
       " 'staff': 7755,\n",
       " 'advocates': 326,\n",
       " 'appropriate': 568,\n",
       " 'course': 2063,\n",
       " 'action': 268,\n",
       " 'probably': 6380,\n",
       " 'favorite': 3145,\n",
       " 'space': 7655,\n",
       " 'chaotic': 1556,\n",
       " 'times': 8342,\n",
       " 'line': 4794,\n",
       " 'customers': 2203,\n",
       " 'stays': 7804,\n",
       " 'calm': 1370,\n",
       " 'firm': 3246,\n",
       " 'enforcing': 2841,\n",
       " 'rules': 7010,\n",
       " 'follow': 3331,\n",
       " 'spent': 7698,\n",
       " 'thursday': 8321,\n",
       " 'tarpon': 8139,\n",
       " 'springs': 7734,\n",
       " 'stopped': 7857,\n",
       " '7pm': 177,\n",
       " 'promptly': 6421,\n",
       " 'greeted': 3692,\n",
       " 'seated': 7196,\n",
       " 'friendly': 3435,\n",
       " 'quickly': 6519,\n",
       " 'items': 4370,\n",
       " 'lamb': 4627,\n",
       " 'kabob': 4488,\n",
       " 'rice': 6887,\n",
       " 'man': 4983,\n",
       " 'seasoned': 7192,\n",
       " 'same': 7070,\n",
       " 'story': 7866,\n",
       " 'outstanding': 5768,\n",
       " 'walked': 8903,\n",
       " 'bakery': 784,\n",
       " 'holy': 3986,\n",
       " 'moly': 5322,\n",
       " 'talk': 8111,\n",
       " 'about': 205,\n",
       " 'choices': 1661,\n",
       " 'ended': 2830,\n",
       " 'going': 3617,\n",
       " 'chocolate': 1658,\n",
       " 'mousse': 5366,\n",
       " 'cup': 2182,\n",
       " 'couple': 2059,\n",
       " 'dipped': 2460,\n",
       " 'butter': 1315,\n",
       " 'cookies': 2005,\n",
       " 'think': 8289,\n",
       " 'gained': 3491,\n",
       " 'pounds': 6274,\n",
       " 'come': 1815,\n",
       " 'next': 5505,\n",
       " 'trip': 8510,\n",
       " 'wasn': 8944,\n",
       " 'served': 7259,\n",
       " 'im': 4136,\n",
       " 'guacamole': 3736,\n",
       " 'falafel': 3097,\n",
       " 'know': 4579,\n",
       " 'noodle': 5554,\n",
       " 'large': 4649,\n",
       " 'flavorful': 3283,\n",
       " 'noodles': 5555,\n",
       " 'lived': 4819,\n",
       " 'regular': 6711,\n",
       " 'backyard': 763,\n",
       " 'server': 7260,\n",
       " 'home': 3987,\n",
       " 'hard': 3829,\n",
       " 'undercooked': 8616,\n",
       " 'letting': 4748,\n",
       " 'new': 5499,\n",
       " 'difficult': 2436,\n",
       " 'cook': 2002,\n",
       " 'things': 8288,\n",
       " 'eggs': 2762,\n",
       " 'toast': 8368,\n",
       " 'corned': 2022,\n",
       " 'hash': 3837,\n",
       " 'oatmeal': 5610,\n",
       " 'bowl': 1137,\n",
       " 'mohamad': 5311,\n",
       " 'extensions': 3043,\n",
       " 'truly': 8528,\n",
       " 'hair': 3781,\n",
       " 'god': 3612,\n",
       " 'only': 5691,\n",
       " 'trust': 8529,\n",
       " '1000': 8,\n",
       " 'love': 4892,\n",
       " 'than': 8248,\n",
       " 'starbucks': 7776,\n",
       " 'any': 512,\n",
       " 'chain': 1534,\n",
       " 'shops': 7354,\n",
       " 'recommendation': 6651,\n",
       " 'friend': 3431,\n",
       " 'sent': 7248,\n",
       " 'luxury': 4928,\n",
       " 'auto': 705,\n",
       " 'spa': 7654,\n",
       " 'glad': 3583,\n",
       " 'car': 1417,\n",
       " 'looks': 4867,\n",
       " 'factory': 3076,\n",
       " 'future': 3486,\n",
       " 'washing': 8941,\n",
       " 'easier': 2714,\n",
       " 'step': 7820,\n",
       " 'ceramic': 1519,\n",
       " 'coating': 1768,\n",
       " 'repel': 6777,\n",
       " 'took': 8404,\n",
       " 'explain': 3022,\n",
       " 'detail': 2390,\n",
       " 'millimeter': 5234,\n",
       " 'pleased': 6185,\n",
       " 'results': 6850,\n",
       " 'pass': 5906,\n",
       " 'additional': 287,\n",
       " '11': 15,\n",
       " '00am': 2,\n",
       " 'paid': 5834,\n",
       " 'online': 5690,\n",
       " 'store': 7861,\n",
       " '12': 20,\n",
       " '15pm': 40,\n",
       " 'until': 8689,\n",
       " '45pm': 130,\n",
       " '30': 100,\n",
       " 'orders': 5722,\n",
       " 'ahead': 361,\n",
       " 'mine': 5245,\n",
       " 'either': 2768,\n",
       " 'enough': 2857,\n",
       " 'notice': 5577,\n",
       " 'prep': 6315,\n",
       " 'wait': 8889,\n",
       " 'till': 8335,\n",
       " 'minute': 5257,\n",
       " 'cue': 2177,\n",
       " 'aren': 588,\n",
       " 'pick': 6078,\n",
       " 'frustrated': 3453,\n",
       " 'minutes': 5258,\n",
       " 'husband': 4091,\n",
       " 'before': 914,\n",
       " 'certain': 1520,\n",
       " 'available': 716,\n",
       " 'slim': 7497,\n",
       " 'pickings': 6081,\n",
       " '15': 34,\n",
       " 'assuming': 662,\n",
       " 'bake': 781,\n",
       " 'soooo': 7617,\n",
       " 'why': 9049,\n",
       " 'full': 3463,\n",
       " 'selection': 7229,\n",
       " 'choose': 1662,\n",
       " 'overpriced': 5793,\n",
       " 'attentive': 685,\n",
       " 'making': 4970,\n",
       " 'us': 8725,\n",
       " 'feel': 3163,\n",
       " 'rushed': 7021,\n",
       " 'lively': 4821,\n",
       " 'live': 4818,\n",
       " 'music': 5404,\n",
       " 'enjoyable': 2852,\n",
       " 'changed': 1550,\n",
       " 'setup': 7277,\n",
       " 'longer': 4862,\n",
       " 'cafeteria': 1348,\n",
       " 'style': 7922,\n",
       " 'liked': 4776,\n",
       " 'look': 4864,\n",
       " 'memorabilia': 5156,\n",
       " 'average': 719,\n",
       " 'nails': 5424,\n",
       " 'chipped': 1650,\n",
       " 'within': 9095,\n",
       " 'week': 8991,\n",
       " 'won': 9104,\n",
       " 'places': 6150,\n",
       " 'rush': 7020,\n",
       " 'oliver': 5670,\n",
       " 'option': 5715,\n",
       " 'outdoor': 5755,\n",
       " 'set': 7272,\n",
       " 'apple': 545,\n",
       " 'chopped': 1665,\n",
       " 'japanese': 4400,\n",
       " 'yams': 9170,\n",
       " 'parmigiana': 5891,\n",
       " 'marsala': 5037,\n",
       " 'flavor': 3281,\n",
       " 'portion': 6247,\n",
       " 'bread': 1164,\n",
       " 'dinners': 2454,\n",
       " 'employee': 2810,\n",
       " 'wearing': 8979,\n",
       " 'mask': 5053,\n",
       " 'servers': 7261,\n",
       " 'helpful': 3902,\n",
       " 'visit': 8849,\n",
       " 'holiday': 3983,\n",
       " 'wonderful': 9106,\n",
       " 'dining': 2452,\n",
       " 'delightful': 2333,\n",
       " 'friends': 3436,\n",
       " 'family': 3107,\n",
       " 'coming': 1826,\n",
       " 'fantastic': 3114,\n",
       " 'variety': 8771,\n",
       " 'options': 5716,\n",
       " 'make': 4966,\n",
       " 'rather': 6589,\n",
       " 'chilly': 1638,\n",
       " 'normally': 5561,\n",
       " 'ice': 4107,\n",
       " 'walking': 8904,\n",
       " 'king': 4559,\n",
       " 'cake': 1354,\n",
       " 'season': 7190,\n",
       " 'seemed': 7219,\n",
       " 'inevitable': 4223,\n",
       " 'butterscotch': 1318,\n",
       " 'anywhere': 520,\n",
       " 'twice': 8563,\n",
       " 'needed': 5470,\n",
       " 'date': 2249,\n",
       " 'nights': 5523,\n",
       " 'since': 7427,\n",
       " 'opened': 5696,\n",
       " 'newborn': 5501,\n",
       " 'toddler': 8372,\n",
       " 'twins': 8565,\n",
       " 'left': 4720,\n",
       " 'excited': 2981,\n",
       " 'another': 497,\n",
       " 'plus': 6199,\n",
       " 'awaiting': 729,\n",
       " 'liquor': 4805,\n",
       " 'license': 4757,\n",
       " 'beer': 911,\n",
       " 'mixed': 5281,\n",
       " 'wine': 9072,\n",
       " 'popping': 6237,\n",
       " 'soon': 7614,\n",
       " 'reason': 6619,\n",
       " 'sounds': 7638,\n",
       " 'notch': 5570,\n",
       " 'familiar': 3105,\n",
       " 'its': 4371,\n",
       " 'own': 5803,\n",
       " 'twist': 8566,\n",
       " 'main': 4954,\n",
       " 'dishes': 2500,\n",
       " 'flatbread': 3277,\n",
       " 'pasta': 5919,\n",
       " 'panini': 5865,\n",
       " 'create': 2108,\n",
       " 'charcuterie': 1563,\n",
       " 'board': 1073,\n",
       " 'worry': 9133,\n",
       " 'being': 930,\n",
       " 'end': 2829,\n",
       " 'such': 7946,\n",
       " 'concept': 1894,\n",
       " 'desserts': 2388,\n",
       " 'craving': 2100,\n",
       " 'tiramisu': 8352,\n",
       " 'decor': 2297,\n",
       " 'theme': 8265,\n",
       " 'beautiful': 895,\n",
       " 'non': 5546,\n",
       " 'brentwood': 1182,\n",
       " 'owned': 5804,\n",
       " 'nashvillian': 5435,\n",
       " 'who': 9044,\n",
       " 'kind': 4553,\n",
       " 'passionate': 5915,\n",
       " 'his': 3959,\n",
       " 'offerings': 5648,\n",
       " 'owner': 5805,\n",
       " 'chatted': 1579,\n",
       " 'see': 7214,\n",
       " 'knowledgeable': 4583,\n",
       " 'put': 6493,\n",
       " 'heart': 3872,\n",
       " 'into': 4321,\n",
       " 'support': 8000,\n",
       " 'check': 1588,\n",
       " 'taken': 8103,\n",
       " 'picture': 6091,\n",
       " 'couldn': 2048,\n",
       " 'dig': 2437,\n",
       " 'messed': 5182,\n",
       " 'presentation': 6333,\n",
       " 'remembered': 6744,\n",
       " 'lol': 4858,\n",
       " 'guess': 3739,\n",
       " 'yourself': 9204,\n",
       " 'saturday': 7104,\n",
       " 'sunday': 7976,\n",
       " 'morning': 5348,\n",
       " 'polite': 6218,\n",
       " 'pleasant': 6182,\n",
       " 'nothing': 5575,\n",
       " 'needs': 5473,\n",
       " 'donut': 2573,\n",
       " 'pastry': 5925,\n",
       " 'brunch': 1241,\n",
       " 'different': 2434,\n",
       " 'types': 8575,\n",
       " 'wouldn': 9140,\n",
       " 'traditionally': 8463,\n",
       " 'veggies': 8787,\n",
       " 'egg': 2759,\n",
       " 'variations': 8769,\n",
       " 'speaking': 7673,\n",
       " 'karen': 4498,\n",
       " 'desk': 2384,\n",
       " 'happy': 3828,\n",
       " 'handled': 3807,\n",
       " 'situation': 7453,\n",
       " 'fact': 3074,\n",
       " 'yesterday': 9190,\n",
       " 'target': 8137,\n",
       " 'run': 7013,\n",
       " 'exchange': 2979,\n",
       " 'grabbed': 3647,\n",
       " 'fun': 3466,\n",
       " 'tahoe': 8093,\n",
       " 'teriyaki': 8219,\n",
       " 'pineapple': 6113,\n",
       " 'supposed': 8005,\n",
       " 'loved': 4894,\n",
       " 'painful': 5837,\n",
       " 'currently': 2195,\n",
       " 'sitting': 7451,\n",
       " 'lap': 4645,\n",
       " 'along': 420,\n",
       " 'hate': 3841,\n",
       " 'because': 899,\n",
       " 'someone': 7599,\n",
       " 'hates': 3843,\n",
       " 'following': 3334,\n",
       " 'protocols': 6436,\n",
       " 'reviews': 6874,\n",
       " 'terrible': 8227,\n",
       " 'april': 577,\n",
       " 'others': 5742,\n",
       " 'ownership': 5807,\n",
       " 'responds': 6832,\n",
       " 'negativity': 5475,\n",
       " 'responded': 6831,\n",
       " 'owning': 5808,\n",
       " 'problem': 6381,\n",
       " 'offering': 5647,\n",
       " 'hurtful': 4088,\n",
       " 'review': 6870,\n",
       " 'impactful': 4150,\n",
       " 'knew': 4571,\n",
       " 'off': 5641,\n",
       " 'chance': 1546,\n",
       " 'guys': 3760,\n",
       " 'bad': 765,\n",
       " 'able': 202,\n",
       " 'call': 1363,\n",
       " 'manager': 4987,\n",
       " 'thanks': 8253,\n",
       " 'compassionate': 1856,\n",
       " 'restricted': 6843,\n",
       " 'access': 224,\n",
       " 'dog': 2552,\n",
       " 'bladder': 1023,\n",
       " 'stones': 7851,\n",
       " 'worked': 9120,\n",
       " 'owed': 5802,\n",
       " 'upset': 8713,\n",
       " 'called': 1365,\n",
       " 'multiple': 5390,\n",
       " 'surgery': 8020,\n",
       " 'questions': 6515,\n",
       " 'concerns': 1898,\n",
       " 'month': 5339,\n",
       " 'cat': 1476,\n",
       " 'allowed': 411,\n",
       " 'helped': 3901,\n",
       " 'him': 3946,\n",
       " 'cross': 2143,\n",
       " 'rainbow': 6547,\n",
       " 'bridge': 1196,\n",
       " 'read': 6608,\n",
       " 'expensive': 3012,\n",
       " 'pricing': 6359,\n",
       " 'understandable': 8625,\n",
       " 'given': 3579,\n",
       " 'specialty': 7684,\n",
       " 'vet': 8812,\n",
       " 'emergency': 2803,\n",
       " 'pay': 5947,\n",
       " 'human': 4068,\n",
       " 'er': 2897,\n",
       " 'seeing': 7217,\n",
       " 'primary': 6364,\n",
       " 'care': 1425,\n",
       " 'outback': 5752,\n",
       " 'location': 4843,\n",
       " 'numerous': 5594,\n",
       " 'second': 7203,\n",
       " 'chances': 1547,\n",
       " 'understand': 8624,\n",
       " 'many': 5008,\n",
       " 'restaurants': 6839,\n",
       " 'unprecedented': 8674,\n",
       " 'unfortunately': 8643,\n",
       " 'less': 4743,\n",
       " 'okay': 5664,\n",
       " 'most': 5355,\n",
       " 'recently': 6634,\n",
       " 'salmon': 7056,\n",
       " 'mushroom': 5401,\n",
       " 'missing': 5273,\n",
       " 'swiss': 8064,\n",
       " 'cheddar': 1596,\n",
       " 'special': 7675,\n",
       " 'section': 7209,\n",
       " 'form': 3365,\n",
       " 'waste': 8946,\n",
       " 'anymore': 514,\n",
       " 'seating': 7197,\n",
       " 'individual': 4212,\n",
       " 'booths': 1107,\n",
       " 'heating': 3884,\n",
       " 'vents': 8796,\n",
       " 'each': 2700,\n",
       " 'booth': 1106,\n",
       " 'recirculating': 6641,\n",
       " 'air': 369,\n",
       " 'tablecloths': 8081,\n",
       " 'safety': 7040,\n",
       " 'spiked': 7705,\n",
       " 'bar': 811,\n",
       " 'cost': 2037,\n",
       " '16': 41,\n",
       " 'waited': 8890,\n",
       " 'outside': 5766,\n",
       " 'few': 3189,\n",
       " 'knowledge': 4582,\n",
       " 'pulled': 6465,\n",
       " 'fazzoletti': 3149,\n",
       " 'ricotta': 6894,\n",
       " 'ravioli': 6596,\n",
       " 'shared': 7305,\n",
       " 'frites': 3440,\n",
       " 'entrees': 2879,\n",
       " 'filling': 3213,\n",
       " 'side': 7398,\n",
       " 'potatoes': 6267,\n",
       " 'salty': 7065,\n",
       " 'decide': 2288,\n",
       " 'replaced': 6779,\n",
       " 'value': 8764,\n",
       " 'important': 4154,\n",
       " 'met': 5185,\n",
       " 'mark': 5023,\n",
       " 'high': 3932,\n",
       " 'measures': 5116,\n",
       " 'appreciated': 560,\n",
       " ...}"
      ]
     },
     "execution_count": 22,
     "metadata": {},
     "output_type": "execute_result"
    }
   ],
   "source": [
    "from sklearn.feature_extraction.text import CountVectorizer\n",
    "\n",
    "cv = CountVectorizer() #tokenizer= lambda x: word_tokenize(x), stop_words='english'\n",
    "\n",
    "cv.fit(sliced.text)\n",
    "\n",
    "print('number of `tokens`', len(cv.vocabulary_))\n",
    "cv.vocabulary_"
   ]
  },
  {
   "cell_type": "code",
   "execution_count": 23,
   "id": "b848051e",
   "metadata": {},
   "outputs": [
    {
     "data": {
      "text/html": [
       "<div>\n",
       "<style scoped>\n",
       "    .dataframe tbody tr th:only-of-type {\n",
       "        vertical-align: middle;\n",
       "    }\n",
       "\n",
       "    .dataframe tbody tr th {\n",
       "        vertical-align: top;\n",
       "    }\n",
       "\n",
       "    .dataframe thead th {\n",
       "        text-align: right;\n",
       "    }\n",
       "</style>\n",
       "<table border=\"1\" class=\"dataframe\">\n",
       "  <thead>\n",
       "    <tr style=\"text-align: right;\">\n",
       "      <th></th>\n",
       "      <th>00</th>\n",
       "      <th>000</th>\n",
       "      <th>00am</th>\n",
       "      <th>00pm</th>\n",
       "      <th>01</th>\n",
       "      <th>05</th>\n",
       "      <th>10</th>\n",
       "      <th>100</th>\n",
       "      <th>1000</th>\n",
       "      <th>101</th>\n",
       "      <th>...</th>\n",
       "      <th>zip</th>\n",
       "      <th>zircon</th>\n",
       "      <th>zone</th>\n",
       "      <th>zones</th>\n",
       "      <th>zoomed</th>\n",
       "      <th>zucchini</th>\n",
       "      <th>zukababy</th>\n",
       "      <th>zukka</th>\n",
       "      <th>zukku</th>\n",
       "      <th>³ordered</th>\n",
       "    </tr>\n",
       "  </thead>\n",
       "  <tbody>\n",
       "    <tr>\n",
       "      <th>0</th>\n",
       "      <td>0</td>\n",
       "      <td>0</td>\n",
       "      <td>0</td>\n",
       "      <td>0</td>\n",
       "      <td>0</td>\n",
       "      <td>0</td>\n",
       "      <td>0</td>\n",
       "      <td>0</td>\n",
       "      <td>0</td>\n",
       "      <td>0</td>\n",
       "      <td>...</td>\n",
       "      <td>0</td>\n",
       "      <td>0</td>\n",
       "      <td>0</td>\n",
       "      <td>0</td>\n",
       "      <td>0</td>\n",
       "      <td>0</td>\n",
       "      <td>0</td>\n",
       "      <td>0</td>\n",
       "      <td>0</td>\n",
       "      <td>0</td>\n",
       "    </tr>\n",
       "    <tr>\n",
       "      <th>1</th>\n",
       "      <td>0</td>\n",
       "      <td>0</td>\n",
       "      <td>0</td>\n",
       "      <td>0</td>\n",
       "      <td>0</td>\n",
       "      <td>0</td>\n",
       "      <td>0</td>\n",
       "      <td>0</td>\n",
       "      <td>0</td>\n",
       "      <td>0</td>\n",
       "      <td>...</td>\n",
       "      <td>0</td>\n",
       "      <td>0</td>\n",
       "      <td>0</td>\n",
       "      <td>0</td>\n",
       "      <td>0</td>\n",
       "      <td>0</td>\n",
       "      <td>0</td>\n",
       "      <td>0</td>\n",
       "      <td>0</td>\n",
       "      <td>0</td>\n",
       "    </tr>\n",
       "    <tr>\n",
       "      <th>2</th>\n",
       "      <td>0</td>\n",
       "      <td>0</td>\n",
       "      <td>0</td>\n",
       "      <td>0</td>\n",
       "      <td>0</td>\n",
       "      <td>0</td>\n",
       "      <td>0</td>\n",
       "      <td>0</td>\n",
       "      <td>0</td>\n",
       "      <td>0</td>\n",
       "      <td>...</td>\n",
       "      <td>0</td>\n",
       "      <td>0</td>\n",
       "      <td>0</td>\n",
       "      <td>0</td>\n",
       "      <td>0</td>\n",
       "      <td>0</td>\n",
       "      <td>0</td>\n",
       "      <td>0</td>\n",
       "      <td>0</td>\n",
       "      <td>0</td>\n",
       "    </tr>\n",
       "    <tr>\n",
       "      <th>3</th>\n",
       "      <td>0</td>\n",
       "      <td>0</td>\n",
       "      <td>0</td>\n",
       "      <td>0</td>\n",
       "      <td>0</td>\n",
       "      <td>0</td>\n",
       "      <td>0</td>\n",
       "      <td>0</td>\n",
       "      <td>0</td>\n",
       "      <td>0</td>\n",
       "      <td>...</td>\n",
       "      <td>0</td>\n",
       "      <td>0</td>\n",
       "      <td>0</td>\n",
       "      <td>0</td>\n",
       "      <td>0</td>\n",
       "      <td>0</td>\n",
       "      <td>0</td>\n",
       "      <td>0</td>\n",
       "      <td>0</td>\n",
       "      <td>0</td>\n",
       "    </tr>\n",
       "    <tr>\n",
       "      <th>4</th>\n",
       "      <td>0</td>\n",
       "      <td>0</td>\n",
       "      <td>0</td>\n",
       "      <td>0</td>\n",
       "      <td>0</td>\n",
       "      <td>0</td>\n",
       "      <td>0</td>\n",
       "      <td>0</td>\n",
       "      <td>0</td>\n",
       "      <td>0</td>\n",
       "      <td>...</td>\n",
       "      <td>0</td>\n",
       "      <td>0</td>\n",
       "      <td>0</td>\n",
       "      <td>0</td>\n",
       "      <td>0</td>\n",
       "      <td>0</td>\n",
       "      <td>0</td>\n",
       "      <td>0</td>\n",
       "      <td>0</td>\n",
       "      <td>0</td>\n",
       "    </tr>\n",
       "    <tr>\n",
       "      <th>...</th>\n",
       "      <td>...</td>\n",
       "      <td>...</td>\n",
       "      <td>...</td>\n",
       "      <td>...</td>\n",
       "      <td>...</td>\n",
       "      <td>...</td>\n",
       "      <td>...</td>\n",
       "      <td>...</td>\n",
       "      <td>...</td>\n",
       "      <td>...</td>\n",
       "      <td>...</td>\n",
       "      <td>...</td>\n",
       "      <td>...</td>\n",
       "      <td>...</td>\n",
       "      <td>...</td>\n",
       "      <td>...</td>\n",
       "      <td>...</td>\n",
       "      <td>...</td>\n",
       "      <td>...</td>\n",
       "      <td>...</td>\n",
       "      <td>...</td>\n",
       "    </tr>\n",
       "    <tr>\n",
       "      <th>1646</th>\n",
       "      <td>0</td>\n",
       "      <td>0</td>\n",
       "      <td>0</td>\n",
       "      <td>0</td>\n",
       "      <td>0</td>\n",
       "      <td>0</td>\n",
       "      <td>0</td>\n",
       "      <td>0</td>\n",
       "      <td>0</td>\n",
       "      <td>0</td>\n",
       "      <td>...</td>\n",
       "      <td>0</td>\n",
       "      <td>0</td>\n",
       "      <td>0</td>\n",
       "      <td>0</td>\n",
       "      <td>0</td>\n",
       "      <td>0</td>\n",
       "      <td>0</td>\n",
       "      <td>0</td>\n",
       "      <td>0</td>\n",
       "      <td>0</td>\n",
       "    </tr>\n",
       "    <tr>\n",
       "      <th>1647</th>\n",
       "      <td>0</td>\n",
       "      <td>0</td>\n",
       "      <td>0</td>\n",
       "      <td>0</td>\n",
       "      <td>0</td>\n",
       "      <td>0</td>\n",
       "      <td>0</td>\n",
       "      <td>0</td>\n",
       "      <td>0</td>\n",
       "      <td>0</td>\n",
       "      <td>...</td>\n",
       "      <td>0</td>\n",
       "      <td>0</td>\n",
       "      <td>0</td>\n",
       "      <td>0</td>\n",
       "      <td>0</td>\n",
       "      <td>0</td>\n",
       "      <td>0</td>\n",
       "      <td>0</td>\n",
       "      <td>0</td>\n",
       "      <td>0</td>\n",
       "    </tr>\n",
       "    <tr>\n",
       "      <th>1648</th>\n",
       "      <td>0</td>\n",
       "      <td>0</td>\n",
       "      <td>0</td>\n",
       "      <td>0</td>\n",
       "      <td>0</td>\n",
       "      <td>0</td>\n",
       "      <td>0</td>\n",
       "      <td>1</td>\n",
       "      <td>0</td>\n",
       "      <td>0</td>\n",
       "      <td>...</td>\n",
       "      <td>0</td>\n",
       "      <td>0</td>\n",
       "      <td>0</td>\n",
       "      <td>0</td>\n",
       "      <td>0</td>\n",
       "      <td>0</td>\n",
       "      <td>0</td>\n",
       "      <td>0</td>\n",
       "      <td>0</td>\n",
       "      <td>0</td>\n",
       "    </tr>\n",
       "    <tr>\n",
       "      <th>1649</th>\n",
       "      <td>0</td>\n",
       "      <td>0</td>\n",
       "      <td>0</td>\n",
       "      <td>0</td>\n",
       "      <td>0</td>\n",
       "      <td>0</td>\n",
       "      <td>0</td>\n",
       "      <td>0</td>\n",
       "      <td>0</td>\n",
       "      <td>0</td>\n",
       "      <td>...</td>\n",
       "      <td>0</td>\n",
       "      <td>0</td>\n",
       "      <td>0</td>\n",
       "      <td>0</td>\n",
       "      <td>0</td>\n",
       "      <td>0</td>\n",
       "      <td>0</td>\n",
       "      <td>0</td>\n",
       "      <td>0</td>\n",
       "      <td>0</td>\n",
       "    </tr>\n",
       "    <tr>\n",
       "      <th>1650</th>\n",
       "      <td>0</td>\n",
       "      <td>0</td>\n",
       "      <td>0</td>\n",
       "      <td>0</td>\n",
       "      <td>0</td>\n",
       "      <td>0</td>\n",
       "      <td>0</td>\n",
       "      <td>0</td>\n",
       "      <td>0</td>\n",
       "      <td>0</td>\n",
       "      <td>...</td>\n",
       "      <td>0</td>\n",
       "      <td>0</td>\n",
       "      <td>0</td>\n",
       "      <td>0</td>\n",
       "      <td>0</td>\n",
       "      <td>0</td>\n",
       "      <td>0</td>\n",
       "      <td>0</td>\n",
       "      <td>0</td>\n",
       "      <td>0</td>\n",
       "    </tr>\n",
       "  </tbody>\n",
       "</table>\n",
       "<p>1651 rows × 9242 columns</p>\n",
       "</div>"
      ],
      "text/plain": [
       "      00  000  00am  00pm  01  05  10  100  1000  101  ...  zip  zircon  zone  \\\n",
       "0      0    0     0     0   0   0   0    0     0    0  ...    0       0     0   \n",
       "1      0    0     0     0   0   0   0    0     0    0  ...    0       0     0   \n",
       "2      0    0     0     0   0   0   0    0     0    0  ...    0       0     0   \n",
       "3      0    0     0     0   0   0   0    0     0    0  ...    0       0     0   \n",
       "4      0    0     0     0   0   0   0    0     0    0  ...    0       0     0   \n",
       "...   ..  ...   ...   ...  ..  ..  ..  ...   ...  ...  ...  ...     ...   ...   \n",
       "1646   0    0     0     0   0   0   0    0     0    0  ...    0       0     0   \n",
       "1647   0    0     0     0   0   0   0    0     0    0  ...    0       0     0   \n",
       "1648   0    0     0     0   0   0   0    1     0    0  ...    0       0     0   \n",
       "1649   0    0     0     0   0   0   0    0     0    0  ...    0       0     0   \n",
       "1650   0    0     0     0   0   0   0    0     0    0  ...    0       0     0   \n",
       "\n",
       "      zones  zoomed  zucchini  zukababy  zukka  zukku  ³ordered  \n",
       "0         0       0         0         0      0      0         0  \n",
       "1         0       0         0         0      0      0         0  \n",
       "2         0       0         0         0      0      0         0  \n",
       "3         0       0         0         0      0      0         0  \n",
       "4         0       0         0         0      0      0         0  \n",
       "...     ...     ...       ...       ...    ...    ...       ...  \n",
       "1646      0       0         0         0      0      0         0  \n",
       "1647      0       0         0         0      0      0         0  \n",
       "1648      0       0         0         0      0      0         0  \n",
       "1649      0       0         0         0      0      0         0  \n",
       "1650      0       0         0         0      0      0         0  \n",
       "\n",
       "[1651 rows x 9242 columns]"
      ]
     },
     "execution_count": 23,
     "metadata": {},
     "output_type": "execute_result"
    }
   ],
   "source": [
    "dtm = cv.transform(sliced.text)\n",
    "bow = pd.DataFrame(dtm.toarray(), columns=cv.get_feature_names_out())\n",
    "bow"
   ]
  },
  {
   "cell_type": "code",
   "execution_count": 27,
   "id": "d44bcbd2",
   "metadata": {
    "scrolled": true
   },
   "outputs": [
    {
     "name": "stdout",
     "output_type": "stream",
     "text": [
      "F1 Score (Weighted): 0.6854383416683713\n",
      "              precision    recall  f1-score   support\n",
      "\n",
      "           0       0.79      0.75      0.77       239\n",
      "           1       0.43      0.49      0.46        92\n",
      "\n",
      "    accuracy                           0.68       331\n",
      "   macro avg       0.61      0.62      0.62       331\n",
      "weighted avg       0.69      0.68      0.69       331\n",
      "\n"
     ]
    },
    {
     "data": {
      "text/html": [
       "<div>\n",
       "<style scoped>\n",
       "    .dataframe tbody tr th:only-of-type {\n",
       "        vertical-align: middle;\n",
       "    }\n",
       "\n",
       "    .dataframe tbody tr th {\n",
       "        vertical-align: top;\n",
       "    }\n",
       "\n",
       "    .dataframe thead th {\n",
       "        text-align: right;\n",
       "    }\n",
       "</style>\n",
       "<table border=\"1\" class=\"dataframe\">\n",
       "  <thead>\n",
       "    <tr style=\"text-align: right;\">\n",
       "      <th></th>\n",
       "      <th>0</th>\n",
       "      <th>1</th>\n",
       "    </tr>\n",
       "  </thead>\n",
       "  <tbody>\n",
       "    <tr>\n",
       "      <th>0</th>\n",
       "      <td>0.753138</td>\n",
       "      <td>0.246862</td>\n",
       "    </tr>\n",
       "    <tr>\n",
       "      <th>1</th>\n",
       "      <td>0.510870</td>\n",
       "      <td>0.489130</td>\n",
       "    </tr>\n",
       "  </tbody>\n",
       "</table>\n",
       "</div>"
      ],
      "text/plain": [
       "          0         1\n",
       "0  0.753138  0.246862\n",
       "1  0.510870  0.489130"
      ]
     },
     "execution_count": 27,
     "metadata": {},
     "output_type": "execute_result"
    }
   ],
   "source": [
    "X_train, X_test, y_train, y_test = train_test_split(\n",
    "    bow, sliced['label'], test_size=0.2, random_state=42\n",
    ")\n",
    "\n",
    "scaler = StandardScaler()\n",
    "X_train_scaled = scaler.fit_transform(X_train)\n",
    "X_test_scaled = scaler.transform(X_test)\n",
    "\n",
    "bow_classifier = BalancedBaggingClassifier(n_estimators=100, random_state=42)\n",
    "bow_classifier.fit(X_train_scaled, y_train)\n",
    "\n",
    "y_pred = bow_classifier.predict(X_test_scaled)\n",
    "\n",
    "f1_score_value = f1_score(y_test, y_pred, average='weighted')\n",
    "print(f\"F1 Score (Weighted): {f1_score_value}\")\n",
    "\n",
    "print(classification_report(y_test, y_pred))\n",
    "pd.DataFrame(confusion_matrix(y_test, y_pred, normalize='true'), columns=bow_classifier.classes_, index=bow_classifier.classes_ )"
   ]
  },
  {
   "cell_type": "code",
   "execution_count": null,
   "id": "a0894111",
   "metadata": {},
   "outputs": [],
   "source": []
  }
 ],
 "metadata": {
  "colab": {
   "provenance": []
  },
  "kernelspec": {
   "display_name": "Python 3 (ipykernel)",
   "language": "python",
   "name": "python3"
  },
  "language_info": {
   "codemirror_mode": {
    "name": "ipython",
    "version": 3
   },
   "file_extension": ".py",
   "mimetype": "text/x-python",
   "name": "python",
   "nbconvert_exporter": "python",
   "pygments_lexer": "ipython3",
   "version": "3.10.12"
  }
 },
 "nbformat": 4,
 "nbformat_minor": 5
}
